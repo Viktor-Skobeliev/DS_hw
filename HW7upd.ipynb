{
 "cells": [
  {
   "cell_type": "code",
   "execution_count": 9,
   "id": "d14af160-c30e-45d8-8193-5ef165fe06c4",
   "metadata": {
    "tags": []
   },
   "outputs": [
    {
     "name": "stdout",
     "output_type": "stream",
     "text": [
      "Обробка моделі: SVD\n",
      "Обробка моделі: SVDpp\n",
      "Обробка моделі: NMF\n",
      "Фінальний підсумок:\n",
      "                SVD      SVDpp       NMF\n",
      "test_rmse  0.880679   0.867947  0.935135\n",
      "test_mae   0.676936   0.666246  0.717033\n",
      "fit_time   0.388352  24.908603  0.864117\n",
      "test_time  0.161813   8.365925  0.192174\n"
     ]
    }
   ],
   "source": [
    "import pandas as pd\n",
    "from surprise import Dataset, Reader\n",
    "from surprise.model_selection import cross_validate\n",
    "from surprise import SVD, SVDpp, NMF\n",
    "\n",
    "# Зчитування даних з файлів\n",
    "ratings_data = pd.read_csv('ratings.csv')\n",
    "\n",
    "# Створення об'єкту 'Reader' для специфікації рейтингового діапазону\n",
    "reader = Reader(rating_scale=(0.5, 5.0))\n",
    "\n",
    "# Створення набору даних за допомогою 'Dataset.load_from_df'\n",
    "data = Dataset.load_from_df(ratings_data[['userId', 'movieId', 'rating']], reader)\n",
    "\n",
    "# Створення списку моделей для порівняння\n",
    "models = [SVD(), SVDpp(), NMF()]\n",
    "\n",
    "# Створення DataFrame для результатів\n",
    "Final_result = pd.DataFrame(columns=['SVD', 'SVDpp', 'NMF'])\n",
    "\n",
    "# Перебір моделей для крос-валідації\n",
    "for model in models:\n",
    "    model_name = model.__class__.__name__\n",
    "    print(f\"Обробка моделі: {model_name}\")\n",
    "    result = cross_validate(model, data, measures=['rmse', 'mae'], cv=3, verbose=False)\n",
    "    result_df = pd.DataFrame.from_dict(result).mean(axis=0)\n",
    "    Final_result.loc['test_rmse', model_name] = result_df['test_rmse']\n",
    "    Final_result.loc['test_mae', model_name] = result_df['test_mae']\n",
    "    Final_result.loc['fit_time', model_name] = result_df['fit_time']\n",
    "    Final_result.loc['test_time', model_name] = result_df['test_time']\n",
    "\n",
    "# Виведення результатів\n",
    "print(\"Фінальний підсумок:\")\n",
    "print(Final_result)\n"
   ]
  }
 ],
 "metadata": {
  "kernelspec": {
   "display_name": "Python 3 (ipykernel)",
   "language": "python",
   "name": "python3"
  },
  "language_info": {
   "codemirror_mode": {
    "name": "ipython",
    "version": 3
   },
   "file_extension": ".py",
   "mimetype": "text/x-python",
   "name": "python",
   "nbconvert_exporter": "python",
   "pygments_lexer": "ipython3",
   "version": "3.11.3"
  }
 },
 "nbformat": 4,
 "nbformat_minor": 5
}
