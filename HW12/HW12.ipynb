{
 "cells": [
  {
   "cell_type": "code",
   "execution_count": 1,
   "id": "903f9094-f77a-4d57-87f8-2cf0ea5ce260",
   "metadata": {
    "tags": []
   },
   "outputs": [],
   "source": [
    "# Імпортуємо бібліотеки, які нам потрібні\n",
    "import nltk\n",
    "from nltk.corpus import stopwords\n",
    "from nltk.tokenize import sent_tokenize\n",
    "from heapq import nlargest"
   ]
  },
  {
   "cell_type": "code",
   "execution_count": 2,
   "id": "0920a6f0-80ad-4484-a316-664d97a3cdb1",
   "metadata": {
    "tags": []
   },
   "outputs": [],
   "source": [
    "# Текст, який ми хочемо обробити і підсумувати\n",
    "text = 'The Orbiter Discovery, OV-103, is considered eligible for listing in the National Register of Historic Places (NRHP) in the context of the U.S. Space Shuttle Program (1969-2011) under Criterion A in the areas of Space Exploration and Transportation and under Criterion C in the area of Engineering. Because it has achieved significance within the past fifty years, Criteria Consideration G applies. Under Criterion A, Discovery is significant as the oldest of the three extant orbiter vehicles constructed for the Space Shuttle Program (SSP), the longest running American space program to date; she was the third of five orbiters built by NASA. Unlike the Mercury, Gemini, and Apollo programs, the SSP’s emphasis was on cost effectiveness and reusability, and eventually the construction of a space station. Including her maiden voyage (launched August 30, 1984), Discovery flew to space thirty-nine times, more than any of the other four orbiters; she was also the first orbiter to fly twenty missions. She had the honor of being chosen as the Return to Flight vehicle after both the Challenger and Columbia accidents. Discovery was the first shuttle to fly with the redesigned SRBs, a result of the Challenger accident, and the first shuttle to fly with the Phase II and Block I SSME. Discovery also carried the Hubble Space Telescope to orbit and performed two of the five servicing missions to the observatory. She flew the first and last dedicated Department of Defense (DoD) missions, as well as the first unclassified defense-related mission. In addition, Discovery was vital to the construction of the International Space Station (ISS); she flew thirteen of the thirty-seven total missions flown to the station by a U.S. Space Shuttle. She was the first orbiter to dock to the ISS, and the first to perform an exchange of a resident crew. Under Criterion C, Discovery is significant as a feat of engineering. According to Wayne Hale, a flight director from Johnson Space Center, the Space Shuttle orbiter represents a “huge technological leap from expendable rockets and capsules to a reusable, winged, hypersonic, cargo-carrying spacecraft.” Although her base structure followed a conventional aircraft design, she used advanced materials that both minimized her weight for cargo-carrying purposes and featured low thermal expansion ratios, which provided a stable base for her Thermal Protection System (TPS) materials. The Space Shuttle orbiter also featured the first reusable TPS; all previous spaceflight vehicles had a single-use, ablative heat shield. Other notable engineering achievements of the orbiter included the first reusable orbital propulsion system, and the first two-fault-tolerant Integrated Avionics System. As Hale stated, the Space Shuttle remains “the largest, fastest, winged hypersonic aircraft in history,” having regularly flown at twenty-five times the speed of sound.'"
   ]
  },
  {
   "cell_type": "code",
   "execution_count": 3,
   "id": "78148d3a-94d6-4653-abc2-d253e827a2e8",
   "metadata": {
    "tags": []
   },
   "outputs": [
    {
     "name": "stderr",
     "output_type": "stream",
     "text": [
      "[nltk_data] Downloading package punkt to\n",
      "[nltk_data]     C:\\Users\\Tenrai\\AppData\\Roaming\\nltk_data...\n",
      "[nltk_data]   Package punkt is already up-to-date!\n",
      "[nltk_data] Downloading package stopwords to\n",
      "[nltk_data]     C:\\Users\\Tenrai\\AppData\\Roaming\\nltk_data...\n",
      "[nltk_data]   Package stopwords is already up-to-date!\n"
     ]
    }
   ],
   "source": [
    "# Завантажуємо необхідні дані для обробки тексту\n",
    "nltk.download('punkt') # Завантажуємо токенізатор для розбиття тексту на речення\n",
    "\n",
    "nltk.download('stopwords') # Завантажуємо список стоп-слів для вилучення зайвих слів\n",
    "\n",
    "# Визначаємо список стоп-слів для англійської мови\n",
    "stop_words = set(stopwords.words('english'))"
   ]
  },
  {
   "cell_type": "code",
   "execution_count": 4,
   "id": "845f18f7-0236-4f7a-a678-0ad0914b9446",
   "metadata": {
    "tags": []
   },
   "outputs": [],
   "source": [
    "# Розбиваємо текст на речення\n",
    "sentences = sent_tokenize(text)"
   ]
  },
  {
   "cell_type": "code",
   "execution_count": 5,
   "id": "81ed59ab-7c5f-4be1-a64b-61f2020eff36",
   "metadata": {
    "tags": []
   },
   "outputs": [],
   "source": [
    "# Ініціалізуємо словник для збереження кількості слів у кожному реченні\n",
    "sentence_scores = {}\n",
    "\n",
    "# Обчислюємо кількість слів у кожному реченні та зберігаємо їх у словнику sentence_scores\n",
    "for sentence in sentences:\n",
    "    word_count = len([word for word in sentence.split() if word.lower() not in stop_words])\n",
    "    sentence_scores[sentence] = word_count"
   ]
  },
  {
   "cell_type": "code",
   "execution_count": 6,
   "id": "548b8749-7c60-4a10-b049-45ef0d6eae7e",
   "metadata": {
    "tags": []
   },
   "outputs": [],
   "source": [
    "# Вибираємо три речення з найвищою оцінкою за кількістю слів\n",
    "summary_sentences = nlargest(3, sentence_scores, key=sentence_scores.get)\n",
    "\n",
    "# Формуємо резюме, об'єднуючи обрані речення в один текст\n",
    "summary = ' '.join(summary_sentences)"
   ]
  },
  {
   "cell_type": "code",
   "execution_count": 7,
   "id": "4bd60a79-2679-4e9f-b652-54b6c39dda3d",
   "metadata": {
    "tags": []
   },
   "outputs": [
    {
     "name": "stdout",
     "output_type": "stream",
     "text": [
      "Summary (NLTK):\n",
      "According to Wayne Hale, a flight director from Johnson Space Center, the Space Shuttle orbiter represents a “huge technological leap from expendable rockets and capsules to a reusable, winged, hypersonic, cargo-carrying spacecraft.” Although her base structure followed a conventional aircraft design, she used advanced materials that both minimized her weight for cargo-carrying purposes and featured low thermal expansion ratios, which provided a stable base for her Thermal Protection System (TPS) materials. The Orbiter Discovery, OV-103, is considered eligible for listing in the National Register of Historic Places (NRHP) in the context of the U.S. Space Shuttle Program (1969-2011) under Criterion A in the areas of Space Exploration and Transportation and under Criterion C in the area of Engineering. Under Criterion A, Discovery is significant as the oldest of the three extant orbiter vehicles constructed for the Space Shuttle Program (SSP), the longest running American space program to date; she was the third of five orbiters built by NASA.\n"
     ]
    }
   ],
   "source": [
    "# Виводимо отримане резюме\n",
    "\n",
    "print(\"Summary (NLTK):\")\n",
    "print(summary)"
   ]
  },
  {
   "cell_type": "code",
   "execution_count": 8,
   "id": "fa06b141-816b-4d12-8351-4371d48a8cb1",
   "metadata": {
    "tags": []
   },
   "outputs": [],
   "source": [
    "# Імпортуємо бібліотеку SpaCy та завантажуємо маленьку модель для англійської мови\n",
    "import spacy\n",
    "nlp = spacy.load('en_core_web_sm')"
   ]
  },
  {
   "cell_type": "code",
   "execution_count": 9,
   "id": "505b2a66-d519-4389-bb20-ef84c2ddd30a",
   "metadata": {
    "tags": []
   },
   "outputs": [],
   "source": [
    "# Обробляємо текст за допомогою SpaCy\n",
    "doc = nlp(text)"
   ]
  },
  {
   "cell_type": "code",
   "execution_count": 10,
   "id": "4bcf4544-f962-49da-ae55-c3394aa3dd5f",
   "metadata": {
    "tags": []
   },
   "outputs": [],
   "source": [
    "# Розбиваємо текст на речення за допомогою SpaCy\n",
    "sentences = list(doc.sents)"
   ]
  },
  {
   "cell_type": "code",
   "execution_count": 11,
   "id": "de0705d1-3fdd-40e6-b6b3-1226e36843c1",
   "metadata": {
    "tags": []
   },
   "outputs": [],
   "source": [
    "# Ініціалізуємо словник для збереження кількості слів у кожному реченні\n",
    "sentence_scores = {sent: len(sent) for sent in sentences}"
   ]
  },
  {
   "cell_type": "code",
   "execution_count": 12,
   "id": "7bb1b663-b71d-445d-a729-f7a7b568a0ed",
   "metadata": {
    "tags": []
   },
   "outputs": [],
   "source": [
    "# Вибираємо три речення з найвищою оцінкою за кількістю слів\n",
    "summary_sentences = nlargest(3, sentence_scores, key=sentence_scores.get)\n",
    "\n",
    "# Об'єднуємо обрані речення в один текст для створення резюме\n",
    "summary = ' '.join([sent.text for sent in summary_sentences])"
   ]
  },
  {
   "cell_type": "code",
   "execution_count": 13,
   "id": "f52da01d-0653-4f3d-8205-ea0f5131d080",
   "metadata": {
    "tags": []
   },
   "outputs": [
    {
     "name": "stdout",
     "output_type": "stream",
     "text": [
      "Summary (SpaCy):\n",
      "The Orbiter Discovery, OV-103, is considered eligible for listing in the National Register of Historic Places (NRHP) in the context of the U.S. Space Shuttle Program (1969-2011) under Criterion A in the areas of Space Exploration and Transportation and under Criterion C in the area of Engineering. Under Criterion A, Discovery is significant as the oldest of the three extant orbiter vehicles constructed for the Space Shuttle Program (SSP), the longest running American space program to date; she was the third of five orbiters built by NASA. Although her base structure followed a conventional aircraft design, she used advanced materials that both minimized her weight for cargo-carrying purposes and featured low thermal expansion ratios, which provided a stable base for her Thermal Protection System (TPS) materials.\n"
     ]
    }
   ],
   "source": [
    "# Виводимо отримане резюме\n",
    "print(\"Summary (SpaCy):\")\n",
    "print(summary)"
   ]
  }
 ],
 "metadata": {
  "kernelspec": {
   "display_name": "Python 3 (ipykernel)",
   "language": "python",
   "name": "python3"
  },
  "language_info": {
   "codemirror_mode": {
    "name": "ipython",
    "version": 3
   },
   "file_extension": ".py",
   "mimetype": "text/x-python",
   "name": "python",
   "nbconvert_exporter": "python",
   "pygments_lexer": "ipython3",
   "version": "3.11.3"
  }
 },
 "nbformat": 4,
 "nbformat_minor": 5
}
