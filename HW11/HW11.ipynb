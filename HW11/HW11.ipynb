{
 "cells": [
  {
   "cell_type": "code",
   "execution_count": 1,
   "id": "aef87f49-c916-4a03-a080-349eec5c8e98",
   "metadata": {
    "tags": []
   },
   "outputs": [
    {
     "name": "stdout",
     "output_type": "stream",
     "text": [
      "Downloading data from https://storage.googleapis.com/tensorflow/tf-keras-datasets/imdb.npz\n",
      "17464789/17464789 [==============================] - 2s 0us/step\n"
     ]
    }
   ],
   "source": [
    "import numpy as np\n",
    "from tensorflow.keras.datasets import imdb\n",
    "from tensorflow.keras.preprocessing.sequence import pad_sequences\n",
    "from tensorflow.keras.models import Sequential\n",
    "from tensorflow.keras.layers import Embedding, SimpleRNN, LSTM, Bidirectional, Dense\n",
    "\n",
    "num_words = 10000\n",
    "maxlen = 200\n",
    "\n",
    "(X_train, y_train), (X_test, y_test) = imdb.load_data(num_words=num_words)\n",
    "X_train = pad_sequences(X_train, maxlen=maxlen)\n",
    "X_test = pad_sequences(X_test, maxlen=maxlen)"
   ]
  },
  {
   "cell_type": "code",
   "execution_count": 2,
   "id": "9b4e0f62-4ba5-4c4a-988d-5266cced6f40",
   "metadata": {
    "tags": []
   },
   "outputs": [
    {
     "name": "stdout",
     "output_type": "stream",
     "text": [
      "Model: \"sequential\"\n",
      "_________________________________________________________________\n",
      " Layer (type)                Output Shape              Param #   \n",
      "=================================================================\n",
      " embedding (Embedding)       (None, None, 32)          320000    \n",
      "                                                                 \n",
      " simple_rnn (SimpleRNN)      (None, 64)                6208      \n",
      "                                                                 \n",
      " dense (Dense)               (None, 1)                 65        \n",
      "                                                                 \n",
      "=================================================================\n",
      "Total params: 326273 (1.24 MB)\n",
      "Trainable params: 326273 (1.24 MB)\n",
      "Non-trainable params: 0 (0.00 Byte)\n",
      "_________________________________________________________________\n"
     ]
    }
   ],
   "source": [
    "model_rnn = Sequential()\n",
    "model_rnn.add(Embedding(num_words, 32))\n",
    "model_rnn.add(SimpleRNN(64))\n",
    "model_rnn.add(Dense(1, activation='sigmoid'))\n",
    "\n",
    "model_rnn.compile(optimizer='adam', loss='binary_crossentropy', metrics=['accuracy'])\n",
    "\n",
    "model_rnn.summary()"
   ]
  },
  {
   "cell_type": "code",
   "execution_count": 3,
   "id": "5257ed6c-c8dd-405f-9d71-2ee073f72a2f",
   "metadata": {
    "tags": []
   },
   "outputs": [
    {
     "name": "stdout",
     "output_type": "stream",
     "text": [
      "Epoch 1/10\n",
      "196/196 [==============================] - 7s 30ms/step - loss: 0.6759 - accuracy: 0.5880 - val_loss: 0.8560 - val_accuracy: 0.5061\n",
      "Epoch 2/10\n",
      "196/196 [==============================] - 6s 29ms/step - loss: 0.6030 - accuracy: 0.6794 - val_loss: 0.5590 - val_accuracy: 0.7023\n",
      "Epoch 3/10\n",
      "196/196 [==============================] - 6s 29ms/step - loss: 0.3830 - accuracy: 0.8308 - val_loss: 0.4145 - val_accuracy: 0.8140\n",
      "Epoch 4/10\n",
      "196/196 [==============================] - 6s 29ms/step - loss: 0.2902 - accuracy: 0.8814 - val_loss: 0.3678 - val_accuracy: 0.8540\n",
      "Epoch 5/10\n",
      "196/196 [==============================] - 6s 29ms/step - loss: 0.2249 - accuracy: 0.9123 - val_loss: 0.3737 - val_accuracy: 0.8555\n",
      "Epoch 6/10\n",
      "196/196 [==============================] - 6s 29ms/step - loss: 0.1883 - accuracy: 0.9304 - val_loss: 0.4041 - val_accuracy: 0.8301\n",
      "Epoch 7/10\n",
      "196/196 [==============================] - 6s 30ms/step - loss: 0.1609 - accuracy: 0.9422 - val_loss: 0.4281 - val_accuracy: 0.8452\n",
      "Epoch 8/10\n",
      "196/196 [==============================] - 6s 29ms/step - loss: 0.1619 - accuracy: 0.9396 - val_loss: 0.4524 - val_accuracy: 0.8352\n",
      "Epoch 9/10\n",
      "196/196 [==============================] - 6s 29ms/step - loss: 0.1207 - accuracy: 0.9579 - val_loss: 0.4683 - val_accuracy: 0.8471\n",
      "Epoch 10/10\n",
      "196/196 [==============================] - 6s 30ms/step - loss: 0.0996 - accuracy: 0.9673 - val_loss: 0.4821 - val_accuracy: 0.8386\n",
      "Test Accuracy: 83.86%\n"
     ]
    }
   ],
   "source": [
    "model_rnn.fit(X_train, y_train, validation_data=(X_test, y_test), epochs=10, batch_size=128)\n",
    "\n",
    "loss, accuracy = model_rnn.evaluate(X_test, y_test, verbose=0)\n",
    "print('Test Accuracy: {:.2f}%'.format(accuracy * 100))"
   ]
  },
  {
   "cell_type": "code",
   "execution_count": 4,
   "id": "3197818d-9dce-4b97-98fb-c1965cc93531",
   "metadata": {
    "tags": []
   },
   "outputs": [
    {
     "name": "stdout",
     "output_type": "stream",
     "text": [
      "Model: \"sequential_1\"\n",
      "_________________________________________________________________\n",
      " Layer (type)                Output Shape              Param #   \n",
      "=================================================================\n",
      " embedding_1 (Embedding)     (None, None, 32)          320000    \n",
      "                                                                 \n",
      " lstm (LSTM)                 (None, 64)                24832     \n",
      "                                                                 \n",
      " dense_1 (Dense)             (None, 1)                 65        \n",
      "                                                                 \n",
      "=================================================================\n",
      "Total params: 344897 (1.32 MB)\n",
      "Trainable params: 344897 (1.32 MB)\n",
      "Non-trainable params: 0 (0.00 Byte)\n",
      "_________________________________________________________________\n"
     ]
    }
   ],
   "source": [
    "#LSTM\n",
    "model_lstm = Sequential()\n",
    "model_lstm.add(Embedding(num_words, 32))\n",
    "model_lstm.add(LSTM(64))\n",
    "model_lstm.add(Dense(1, activation='sigmoid'))\n",
    "\n",
    "model_lstm.compile(optimizer='adam', loss='binary_crossentropy', metrics=['accuracy'])\n",
    "\n",
    "model_lstm.summary()"
   ]
  },
  {
   "cell_type": "code",
   "execution_count": 5,
   "id": "8dd7f1b2-0887-4b2f-978d-60d7c7755f12",
   "metadata": {
    "tags": []
   },
   "outputs": [
    {
     "name": "stdout",
     "output_type": "stream",
     "text": [
      "Epoch 1/10\n",
      "196/196 [==============================] - 21s 97ms/step - loss: 0.4602 - accuracy: 0.7721 - val_loss: 0.3119 - val_accuracy: 0.8698\n",
      "Epoch 2/10\n",
      "196/196 [==============================] - 19s 96ms/step - loss: 0.2470 - accuracy: 0.9040 - val_loss: 0.3085 - val_accuracy: 0.8677\n",
      "Epoch 3/10\n",
      "196/196 [==============================] - 19s 95ms/step - loss: 0.1929 - accuracy: 0.9296 - val_loss: 0.3742 - val_accuracy: 0.8632\n",
      "Epoch 4/10\n",
      "196/196 [==============================] - 18s 94ms/step - loss: 0.1554 - accuracy: 0.9452 - val_loss: 0.3422 - val_accuracy: 0.8634\n",
      "Epoch 5/10\n",
      "196/196 [==============================] - 19s 95ms/step - loss: 0.1205 - accuracy: 0.9588 - val_loss: 0.3739 - val_accuracy: 0.8591\n",
      "Epoch 6/10\n",
      "196/196 [==============================] - 19s 95ms/step - loss: 0.1093 - accuracy: 0.9621 - val_loss: 0.4084 - val_accuracy: 0.8588\n",
      "Epoch 7/10\n",
      "196/196 [==============================] - 19s 96ms/step - loss: 0.0958 - accuracy: 0.9668 - val_loss: 0.4550 - val_accuracy: 0.8540\n",
      "Epoch 8/10\n",
      "196/196 [==============================] - 19s 96ms/step - loss: 0.0959 - accuracy: 0.9658 - val_loss: 0.4784 - val_accuracy: 0.8471\n",
      "Epoch 9/10\n",
      "196/196 [==============================] - 18s 94ms/step - loss: 0.0641 - accuracy: 0.9793 - val_loss: 0.5426 - val_accuracy: 0.8552\n",
      "Epoch 10/10\n",
      "196/196 [==============================] - 19s 95ms/step - loss: 0.0493 - accuracy: 0.9849 - val_loss: 0.7444 - val_accuracy: 0.8430\n",
      "Test Accuracy: 84.30%\n"
     ]
    }
   ],
   "source": [
    "model_lstm.fit(X_train, y_train, validation_data=(X_test, y_test), epochs=10, batch_size=128)\n",
    "\n",
    "loss, accuracy = model_lstm.evaluate(X_test, y_test, verbose=0)\n",
    "print('Test Accuracy: {:.2f}%'.format(accuracy * 100))"
   ]
  },
  {
   "cell_type": "code",
   "execution_count": 6,
   "id": "2992e866-b09d-466a-83d3-0de47f3c1842",
   "metadata": {
    "tags": []
   },
   "outputs": [
    {
     "name": "stdout",
     "output_type": "stream",
     "text": [
      "Model: \"sequential_2\"\n",
      "_________________________________________________________________\n",
      " Layer (type)                Output Shape              Param #   \n",
      "=================================================================\n",
      " embedding_2 (Embedding)     (None, None, 32)          320000    \n",
      "                                                                 \n",
      " bidirectional (Bidirection  (None, 128)               49664     \n",
      " al)                                                             \n",
      "                                                                 \n",
      " dense_2 (Dense)             (None, 1)                 129       \n",
      "                                                                 \n",
      "=================================================================\n",
      "Total params: 369793 (1.41 MB)\n",
      "Trainable params: 369793 (1.41 MB)\n",
      "Non-trainable params: 0 (0.00 Byte)\n",
      "_________________________________________________________________\n"
     ]
    }
   ],
   "source": [
    "#Bidirectional\n",
    "model_bidirectional = Sequential()\n",
    "model_bidirectional.add(Embedding(num_words, 32))\n",
    "model_bidirectional.add(Bidirectional(LSTM(64)))\n",
    "model_bidirectional.add(Dense(1, activation='sigmoid'))\n",
    "\n",
    "model_bidirectional.compile(optimizer='adam', loss='binary_crossentropy', metrics=['accuracy'])\n",
    "\n",
    "model_bidirectional.summary()"
   ]
  },
  {
   "cell_type": "code",
   "execution_count": 7,
   "id": "57f36978-7708-4c23-8dc1-0f82031ab6ff",
   "metadata": {
    "tags": []
   },
   "outputs": [
    {
     "name": "stdout",
     "output_type": "stream",
     "text": [
      "Epoch 1/10\n",
      "196/196 [==============================] - 33s 152ms/step - loss: 0.4583 - accuracy: 0.7782 - val_loss: 0.3159 - val_accuracy: 0.8660\n",
      "Epoch 2/10\n",
      "196/196 [==============================] - 29s 147ms/step - loss: 0.2497 - accuracy: 0.9030 - val_loss: 0.3090 - val_accuracy: 0.8719\n",
      "Epoch 3/10\n",
      "196/196 [==============================] - 29s 147ms/step - loss: 0.1861 - accuracy: 0.9306 - val_loss: 0.3286 - val_accuracy: 0.8692\n",
      "Epoch 4/10\n",
      "196/196 [==============================] - 29s 147ms/step - loss: 0.1448 - accuracy: 0.9494 - val_loss: 0.3975 - val_accuracy: 0.8614\n",
      "Epoch 5/10\n",
      "196/196 [==============================] - 29s 147ms/step - loss: 0.1298 - accuracy: 0.9532 - val_loss: 0.3823 - val_accuracy: 0.8572\n",
      "Epoch 6/10\n",
      "196/196 [==============================] - 29s 148ms/step - loss: 0.1088 - accuracy: 0.9628 - val_loss: 0.4393 - val_accuracy: 0.8553\n",
      "Epoch 7/10\n",
      "196/196 [==============================] - 29s 149ms/step - loss: 0.0835 - accuracy: 0.9728 - val_loss: 0.5559 - val_accuracy: 0.8492\n",
      "Epoch 8/10\n",
      "196/196 [==============================] - 29s 148ms/step - loss: 0.0668 - accuracy: 0.9778 - val_loss: 0.5917 - val_accuracy: 0.8468\n",
      "Epoch 9/10\n",
      "196/196 [==============================] - 29s 147ms/step - loss: 0.0539 - accuracy: 0.9837 - val_loss: 0.6088 - val_accuracy: 0.8503\n",
      "Epoch 10/10\n",
      "196/196 [==============================] - 29s 149ms/step - loss: 0.0692 - accuracy: 0.9770 - val_loss: 0.5950 - val_accuracy: 0.8523\n",
      "Test Accuracy: 85.23%\n"
     ]
    }
   ],
   "source": [
    "model_bidirectional.fit(X_train, y_train, validation_data=(X_test, y_test), epochs=10, batch_size=128)\n",
    "\n",
    "loss, accuracy = model_bidirectional.evaluate(X_test, y_test, verbose=0)\n",
    "print('Test Accuracy: {:.2f}%'.format(accuracy * 100))"
   ]
  },
  {
   "cell_type": "code",
   "execution_count": 8,
   "id": "a0a3a86d-ba2a-45ff-8c12-7333ffd4e213",
   "metadata": {
    "tags": []
   },
   "outputs": [
    {
     "name": "stdout",
     "output_type": "stream",
     "text": [
      "Model: \"sequential_3\"\n",
      "_________________________________________________________________\n",
      " Layer (type)                Output Shape              Param #   \n",
      "=================================================================\n",
      " embedding_3 (Embedding)     (None, None, 32)          320000    \n",
      "                                                                 \n",
      " lstm_2 (LSTM)               (None, None, 64)          24832     \n",
      "                                                                 \n",
      " lstm_3 (LSTM)               (None, 64)                33024     \n",
      "                                                                 \n",
      " dense_3 (Dense)             (None, 1)                 65        \n",
      "                                                                 \n",
      "=================================================================\n",
      "Total params: 377921 (1.44 MB)\n",
      "Trainable params: 377921 (1.44 MB)\n",
      "Non-trainable params: 0 (0.00 Byte)\n",
      "_________________________________________________________________\n"
     ]
    }
   ],
   "source": [
    "#Deep\n",
    "model_deep = Sequential()\n",
    "model_deep.add(Embedding(num_words, 32))\n",
    "model_deep.add(LSTM(64, return_sequences=True))\n",
    "model_deep.add(LSTM(64))\n",
    "model_deep.add(Dense(1, activation='sigmoid'))\n",
    "\n",
    "model_deep.compile(optimizer='adam', loss='binary_crossentropy', metrics=['accuracy'])\n",
    "\n",
    "model_deep.summary()"
   ]
  },
  {
   "cell_type": "code",
   "execution_count": 9,
   "id": "0ac01486-5a84-4c51-af84-56465e12fe0a",
   "metadata": {
    "tags": []
   },
   "outputs": [
    {
     "name": "stdout",
     "output_type": "stream",
     "text": [
      "Epoch 1/10\n",
      "196/196 [==============================] - 49s 236ms/step - loss: 0.4214 - accuracy: 0.7923 - val_loss: 0.3821 - val_accuracy: 0.8258\n",
      "Epoch 2/10\n",
      "196/196 [==============================] - 50s 253ms/step - loss: 0.2336 - accuracy: 0.9087 - val_loss: 0.3078 - val_accuracy: 0.8683\n",
      "Epoch 3/10\n",
      "196/196 [==============================] - 49s 253ms/step - loss: 0.1774 - accuracy: 0.9351 - val_loss: 0.3487 - val_accuracy: 0.8648\n",
      "Epoch 4/10\n",
      "196/196 [==============================] - 50s 255ms/step - loss: 0.1275 - accuracy: 0.9565 - val_loss: 0.3608 - val_accuracy: 0.8612\n",
      "Epoch 5/10\n",
      "196/196 [==============================] - 50s 256ms/step - loss: 0.0943 - accuracy: 0.9687 - val_loss: 0.4270 - val_accuracy: 0.8584\n",
      "Epoch 6/10\n",
      "196/196 [==============================] - 50s 256ms/step - loss: 0.0680 - accuracy: 0.9777 - val_loss: 0.4841 - val_accuracy: 0.8527\n",
      "Epoch 7/10\n",
      "196/196 [==============================] - 50s 257ms/step - loss: 0.0534 - accuracy: 0.9831 - val_loss: 0.6203 - val_accuracy: 0.8540\n",
      "Epoch 8/10\n",
      "196/196 [==============================] - 50s 256ms/step - loss: 0.0478 - accuracy: 0.9846 - val_loss: 0.6413 - val_accuracy: 0.8496\n",
      "Epoch 9/10\n",
      "196/196 [==============================] - 51s 259ms/step - loss: 0.0290 - accuracy: 0.9915 - val_loss: 0.6370 - val_accuracy: 0.8491\n",
      "Epoch 10/10\n",
      "196/196 [==============================] - 51s 260ms/step - loss: 0.0295 - accuracy: 0.9905 - val_loss: 0.7153 - val_accuracy: 0.8476\n",
      "Test Accuracy: 84.76%\n"
     ]
    }
   ],
   "source": [
    "model_deep.fit(X_train, y_train, validation_data=(X_test, y_test), epochs=10, batch_size=128)\n",
    "\n",
    "loss, accuracy = model_deep.evaluate(X_test, y_test, verbose=0)\n",
    "print('Test Accuracy: {:.2f}%'.format(accuracy * 100))"
   ]
  },
  {
   "cell_type": "code",
   "execution_count": null,
   "id": "4be676d9-e825-49ef-a099-df441a228de7",
   "metadata": {},
   "outputs": [],
   "source": []
  }
 ],
 "metadata": {
  "kernelspec": {
   "display_name": "Python 3 (ipykernel)",
   "language": "python",
   "name": "python3"
  },
  "language_info": {
   "codemirror_mode": {
    "name": "ipython",
    "version": 3
   },
   "file_extension": ".py",
   "mimetype": "text/x-python",
   "name": "python",
   "nbconvert_exporter": "python",
   "pygments_lexer": "ipython3",
   "version": "3.11.3"
  }
 },
 "nbformat": 4,
 "nbformat_minor": 5
}
