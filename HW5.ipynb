{
 "cells": [
  {
   "cell_type": "code",
   "execution_count": 1,
   "id": "f7fe9991-14a6-4927-90fb-3cd1fa753bee",
   "metadata": {
    "tags": []
   },
   "outputs": [
    {
     "name": "stdout",
     "output_type": "stream",
     "text": [
      "   accelerometer_X  accelerometer_Y  accelerometer_Z activity\n",
      "0         1.000776         4.616021         8.576031     idle\n",
      "1         0.718261         4.209007         8.446744     idle\n",
      "2        -0.909797        -0.282516         9.203311     idle\n",
      "3         5.099650         0.148441         8.418014     idle\n",
      "4         1.762132        -0.162806         9.251195     idle\n"
     ]
    }
   ],
   "source": [
    "import os\n",
    "import pandas as pd\n",
    "\n",
    "data_root = 'homework/data'  # Шлях до папки з даними\n",
    "activities = ['idle', 'running', 'stairs', 'walking']\n",
    "data = []\n",
    "\n",
    "for activity in activities:\n",
    "    activity_path = os.path.join(data_root, activity)\n",
    "    activity_files = os.listdir(activity_path)\n",
    "    \n",
    "    for file_name in activity_files:\n",
    "        file_path = os.path.join(activity_path, file_name)\n",
    "        df = pd.read_csv(file_path)\n",
    "        df['activity'] = activity\n",
    "        data.append(df)\n",
    "\n",
    "# Об'єднання даних в один датасет\n",
    "dataset = pd.concat(data, ignore_index=True)\n",
    "print(dataset.head())\n"
   ]
  },
  {
   "cell_type": "code",
   "execution_count": 2,
   "id": "86acdec1-d42b-46f1-af6b-fdb20f3a8ee2",
   "metadata": {
    "tags": []
   },
   "outputs": [],
   "source": [
    "import tsfresh.feature_extraction.feature_calculators as calc\n",
    "import numpy as np\n",
    "\n",
    "time_features = []\n",
    "\n",
    "for activity in activities:\n",
    "    activity_data = dataset[dataset['activity'] == activity].drop(columns=['activity'])\n",
    "    activity_time_features = activity_data.apply(lambda column: [calc.mean(column),\n",
    "                                                                 calc.variance(column),\n",
    "                                                                 calc.standard_deviation(column),\n",
    "                                                                 calc.maximum(column),\n",
    "                                                                 calc.minimum(column),\n",
    "                                                                 np.argmax(column),\n",
    "                                                                 np.argmin(column),\n",
    "                                                                 calc.median(column),\n",
    "                                                                 np.median(np.abs(column - np.median(column))),  # Медіанне абсолютне відхилення\n",
    "                                                                 np.percentile(column, 75) - np.percentile(column, 25),  # Міжквартильний діапазон\n",
    "                                                                 calc.kurtosis(column),\n",
    "                                                                 calc.root_mean_square(column),\n",
    "                                                                 calc.skewness(column)], axis=0)\n",
    "    activity_time_features = np.concatenate(activity_time_features.to_numpy(), axis=0)\n",
    "    time_features.append(activity_time_features)\n",
    "\n",
    "time_features_df = pd.DataFrame(time_features, columns=[f\"{col}_time_{stat}\" for col in dataset.columns[:-1] for stat in [\"mean\", \"variance\", \"standard_deviation\", \"maximum\", \"minimum\", \"argmax\", \"argmin\", \"median\", \"median_abs_deviation\", \"interquartile_range\", \"kurtosis\", \"root_mean_square\", \"skewness\"]])\n",
    "dataset = pd.concat([dataset, time_features_df], axis=1)\n",
    "\n",
    "# Зберегти набір даних з часовими ознаками\n",
    "dataset.to_csv('activity_dataset_with_time_features.csv', index=False)"
   ]
  },
  {
   "cell_type": "code",
   "execution_count": 5,
   "id": "f9788669-8929-41e8-aa3e-8a74dc9395f0",
   "metadata": {
    "tags": []
   },
   "outputs": [
    {
     "name": "stderr",
     "output_type": "stream",
     "text": [
      "C:\\ProgramData\\anaconda3\\Lib\\site-packages\\sklearn\\svm\\_base.py:299: ConvergenceWarning: Solver terminated early (max_iter=10000).  Consider pre-processing your data with StandardScaler or MinMaxScaler.\n",
      "  warnings.warn(\n"
     ]
    },
    {
     "name": "stdout",
     "output_type": "stream",
     "text": [
      "SVM Accuracy: 0.664448571133808\n",
      "Random Forest Accuracy: 0.9224698235840297\n",
      "SVM Macro F1 Score: 0.5037141382982335\n",
      "SVM Micro F1 Score: 0.664448571133808\n",
      "Random Forest Macro F1 Score: 0.7269255587216501\n",
      "Random Forest Micro F1 Score: 0.9224698235840296\n"
     ]
    }
   ],
   "source": [
    "import os\n",
    "import pandas as pd\n",
    "import numpy as np\n",
    "from sklearn.model_selection import train_test_split\n",
    "from sklearn.svm import SVC\n",
    "from sklearn.ensemble import RandomForestClassifier\n",
    "from sklearn.metrics import accuracy_score, f1_score\n",
    "from sklearn.impute import SimpleImputer  # Додано імпорт\n",
    "\n",
    "# Зчитування підготовленого датасету з часовими ознаками\n",
    "dataset = pd.read_csv('activity_dataset_with_time_features.csv')\n",
    "\n",
    "# Визначення ознак (X) та цільової змінної (y)\n",
    "X = dataset.drop(columns=['activity'])\n",
    "y = dataset['activity']\n",
    "\n",
    "# Створення об'єкту SimpleImputer\n",
    "imputer = SimpleImputer(strategy='mean')\n",
    "\n",
    "# Заміна відсутніх значень в X\n",
    "X_imputed = imputer.fit_transform(X)\n",
    "\n",
    "# Розділення на навчальний та тестовий набори\n",
    "X_train, X_test, y_train, y_test = train_test_split(X_imputed, y, test_size=0.2, random_state=42)\n",
    "\n",
    "# Побудова та навчання моделей\n",
    "svm_model = SVC(kernel='linear', max_iter=10000)\n",
    "svm_model.fit(X_train, y_train)\n",
    "\n",
    "rf_model = RandomForestClassifier(max_depth=10, random_state=42)  \n",
    "rf_model.fit(X_train, y_train)\n",
    "\n",
    "# Оцінка результатів\n",
    "svm_predictions = svm_model.predict(X_test)\n",
    "rf_predictions = rf_model.predict(X_test)\n",
    "\n",
    "svm_accuracy = accuracy_score(y_test, svm_predictions)\n",
    "rf_accuracy = accuracy_score(y_test, rf_predictions)\n",
    "\n",
    "svm_f1_macro = f1_score(y_test, svm_predictions, average='macro')\n",
    "svm_f1_micro = f1_score(y_test, svm_predictions, average='micro')\n",
    "rf_f1_macro = f1_score(y_test, rf_predictions, average='macro')\n",
    "rf_f1_micro = f1_score(y_test, rf_predictions, average='micro')\n",
    "\n",
    "print(\"SVM Accuracy:\", svm_accuracy)\n",
    "print(\"Random Forest Accuracy:\", rf_accuracy)\n",
    "print(\"SVM Macro F1 Score:\", svm_f1_macro)\n",
    "print(\"SVM Micro F1 Score:\", svm_f1_micro)\n",
    "print(\"Random Forest Macro F1 Score:\", rf_f1_macro)\n",
    "print(\"Random Forest Micro F1 Score:\", rf_f1_micro)\n"
   ]
  },
  {
   "cell_type": "code",
   "execution_count": 7,
   "id": "74255a0a-c5f6-4b25-a137-17f24e4d9dfe",
   "metadata": {
    "tags": []
   },
   "outputs": [
    {
     "name": "stderr",
     "output_type": "stream",
     "text": [
      "C:\\ProgramData\\anaconda3\\Lib\\site-packages\\sklearn\\svm\\_base.py:299: ConvergenceWarning: Solver terminated early (max_iter=10000).  Consider pre-processing your data with StandardScaler or MinMaxScaler.\n",
      "  warnings.warn(\n"
     ]
    },
    {
     "name": "stdout",
     "output_type": "stream",
     "text": [
      "SVM Accuracy: 0.664448571133808\n",
      "Random Forest Accuracy: 0.9224698235840297\n",
      "SVM Macro F1 Score: 0.5037141382982335\n",
      "SVM Micro F1 Score: 0.664448571133808\n",
      "Random Forest Macro F1 Score: 0.7269255587216501\n",
      "Random Forest Micro F1 Score: 0.9224698235840296\n"
     ]
    }
   ],
   "source": [
    "from sklearn.impute import SimpleImputer\n",
    "\n",
    "# Зчитування підготовленого датасету з часовими ознаками\n",
    "dataset = pd.read_csv('activity_dataset_with_time_features.csv')\n",
    "\n",
    "# Визначення ознак (X) та цільової змінної (y)\n",
    "X = dataset.drop(columns=['activity'])\n",
    "y = dataset['activity']\n",
    "\n",
    "# Заміна відсутніх значень на середні значення\n",
    "imputer = SimpleImputer(strategy='mean')\n",
    "X_imputed = imputer.fit_transform(X)\n",
    "\n",
    "# Розділення на навчальний та тестовий набори\n",
    "X_train, X_test, y_train, y_test = train_test_split(X_imputed, y, test_size=0.2, random_state=42)\n",
    "\n",
    "# Побудова та навчання моделі SVM з налаштуванням гіперпараметрів\n",
    "svm_model = SVC(kernel='linear', C=1.0, gamma='scale', max_iter=10000)\n",
    "svm_model.fit(X_train, y_train)\n",
    "\n",
    "# Побудова та навчання моделі Random Forest\n",
    "rf_model = RandomForestClassifier(max_depth=10, random_state=42)  \n",
    "rf_model.fit(X_train, y_train)\n",
    "\n",
    "# Оцінка результатів\n",
    "svm_predictions = svm_model.predict(X_test)\n",
    "rf_predictions = rf_model.predict(X_test)\n",
    "\n",
    "# Розрахунок метрик\n",
    "svm_accuracy = accuracy_score(y_test, svm_predictions)\n",
    "rf_accuracy = accuracy_score(y_test, rf_predictions)\n",
    "\n",
    "svm_f1_macro = f1_score(y_test, svm_predictions, average='macro')\n",
    "svm_f1_micro = f1_score(y_test, svm_predictions, average='micro')\n",
    "rf_f1_macro = f1_score(y_test, rf_predictions, average='macro')\n",
    "rf_f1_micro = f1_score(y_test, rf_predictions, average='micro')\n",
    "\n",
    "print(\"SVM Accuracy:\", svm_accuracy)\n",
    "print(\"Random Forest Accuracy:\", rf_accuracy)\n",
    "print(\"SVM Macro F1 Score:\", svm_f1_macro)\n",
    "print(\"SVM Micro F1 Score:\", svm_f1_micro)\n",
    "print(\"Random Forest Macro F1 Score:\", rf_f1_macro)\n",
    "print(\"Random Forest Micro F1 Score:\", rf_f1_micro)\n"
   ]
  },
  {
   "cell_type": "code",
   "execution_count": 8,
   "id": "43d23e2c-f53b-4765-8400-83c2ccbb532f",
   "metadata": {
    "tags": []
   },
   "outputs": [
    {
     "name": "stderr",
     "output_type": "stream",
     "text": [
      "C:\\ProgramData\\anaconda3\\Lib\\site-packages\\sklearn\\svm\\_base.py:299: ConvergenceWarning: Solver terminated early (max_iter=10000).  Consider pre-processing your data with StandardScaler or MinMaxScaler.\n",
      "  warnings.warn(\n"
     ]
    },
    {
     "name": "stdout",
     "output_type": "stream",
     "text": [
      "SVM Accuracy: 0.4693851232848447\n",
      "Random Forest Accuracy: 0.9224698235840297\n",
      "SVM Macro F1 Score: 0.26017770582958355\n",
      "SVM Micro F1 Score: 0.4693851232848447\n",
      "Random Forest Macro F1 Score: 0.7269255587216501\n",
      "Random Forest Micro F1 Score: 0.9224698235840296\n"
     ]
    }
   ],
   "source": [
    "from sklearn.preprocessing import StandardScaler\n",
    "\n",
    "# Зчитування підготовленого датасету з часовими ознаками\n",
    "dataset = pd.read_csv('activity_dataset_with_time_features.csv')\n",
    "\n",
    "# Визначення ознак (X) та цільової змінної (y)\n",
    "X = dataset.drop(columns=['activity'])\n",
    "y = dataset['activity']\n",
    "\n",
    "# Заміна відсутніх значень на середні значення\n",
    "imputer = SimpleImputer(strategy='mean')\n",
    "X_imputed = imputer.fit_transform(X)\n",
    "\n",
    "# Стандартизація вхідних ознак\n",
    "scaler = StandardScaler()\n",
    "X_scaled = scaler.fit_transform(X_imputed)\n",
    "\n",
    "# Розділення на навчальний та тестовий набори\n",
    "X_train, X_test, y_train, y_test = train_test_split(X_scaled, y, test_size=0.2, random_state=42)\n",
    "\n",
    "# Побудова та навчання моделі SVM з налаштуванням гіперпараметрів\n",
    "svm_model = SVC(kernel='linear', C=1.0, gamma='scale', max_iter=10000)\n",
    "svm_model.fit(X_train, y_train)\n",
    "\n",
    "# Побудова та навчання моделі Random Forest\n",
    "rf_model = RandomForestClassifier(max_depth=10, random_state=42)  \n",
    "rf_model.fit(X_train, y_train)\n",
    "\n",
    "# Оцінка результатів\n",
    "svm_predictions = svm_model.predict(X_test)\n",
    "rf_predictions = rf_model.predict(X_test)\n",
    "\n",
    "# Розрахунок метрик\n",
    "svm_accuracy = accuracy_score(y_test, svm_predictions)\n",
    "rf_accuracy = accuracy_score(y_test, rf_predictions)\n",
    "\n",
    "svm_f1_macro = f1_score(y_test, svm_predictions, average='macro')\n",
    "svm_f1_micro = f1_score(y_test, svm_predictions, average='micro')\n",
    "rf_f1_macro = f1_score(y_test, rf_predictions, average='macro')\n",
    "rf_f1_micro = f1_score(y_test, rf_predictions, average='micro')\n",
    "\n",
    "print(\"SVM Accuracy:\", svm_accuracy)\n",
    "print(\"Random Forest Accuracy:\", rf_accuracy)\n",
    "print(\"SVM Macro F1 Score:\", svm_f1_macro)\n",
    "print(\"SVM Micro F1 Score:\", svm_f1_micro)\n",
    "print(\"Random Forest Macro F1 Score:\", rf_f1_macro)\n",
    "print(\"Random Forest Micro F1 Score:\", rf_f1_micro)\n"
   ]
  },
  {
   "cell_type": "code",
   "execution_count": 13,
   "id": "a5ae45a9-5744-43d9-9cbe-ca71ac700dc2",
   "metadata": {
    "tags": []
   },
   "outputs": [
    {
     "name": "stderr",
     "output_type": "stream",
     "text": [
      "C:\\ProgramData\\anaconda3\\Lib\\site-packages\\sklearn\\svm\\_base.py:299: ConvergenceWarning: Solver terminated early (max_iter=20000).  Consider pre-processing your data with StandardScaler or MinMaxScaler.\n",
      "  warnings.warn(\n",
      "C:\\ProgramData\\anaconda3\\Lib\\site-packages\\sklearn\\svm\\_base.py:299: ConvergenceWarning: Solver terminated early (max_iter=20000).  Consider pre-processing your data with StandardScaler or MinMaxScaler.\n",
      "  warnings.warn(\n",
      "C:\\ProgramData\\anaconda3\\Lib\\site-packages\\sklearn\\svm\\_base.py:299: ConvergenceWarning: Solver terminated early (max_iter=20000).  Consider pre-processing your data with StandardScaler or MinMaxScaler.\n",
      "  warnings.warn(\n",
      "C:\\ProgramData\\anaconda3\\Lib\\site-packages\\sklearn\\svm\\_base.py:299: ConvergenceWarning: Solver terminated early (max_iter=20000).  Consider pre-processing your data with StandardScaler or MinMaxScaler.\n",
      "  warnings.warn(\n",
      "C:\\ProgramData\\anaconda3\\Lib\\site-packages\\sklearn\\svm\\_base.py:299: ConvergenceWarning: Solver terminated early (max_iter=20000).  Consider pre-processing your data with StandardScaler or MinMaxScaler.\n",
      "  warnings.warn(\n",
      "C:\\ProgramData\\anaconda3\\Lib\\site-packages\\sklearn\\svm\\_base.py:299: ConvergenceWarning: Solver terminated early (max_iter=20000).  Consider pre-processing your data with StandardScaler or MinMaxScaler.\n",
      "  warnings.warn(\n"
     ]
    },
    {
     "name": "stdout",
     "output_type": "stream",
     "text": [
      "SVM Cross-Validation Accuracy: 0.2593005261528939\n",
      "Random Forest Cross-Validation Accuracy: 0.8907613741875581\n",
      "SVM Accuracy: 0.3663984318580419\n",
      "Random Forest Accuracy: 0.9224698235840297\n",
      "SVM Macro F1 Score: 0.2543093174823222\n",
      "SVM Micro F1 Score: 0.3663984318580419\n",
      "Random Forest Macro F1 Score: 0.7269255587216501\n",
      "Random Forest Micro F1 Score: 0.9224698235840296\n"
     ]
    }
   ],
   "source": [
    "import pandas as pd\n",
    "from sklearn.preprocessing import StandardScaler\n",
    "from sklearn.impute import SimpleImputer\n",
    "from sklearn.model_selection import train_test_split, cross_val_score\n",
    "from sklearn.svm import SVC\n",
    "from sklearn.ensemble import RandomForestClassifier\n",
    "\n",
    "# Зчитування підготовленого датасету з часовими ознаками\n",
    "dataset = pd.read_csv('activity_dataset_with_time_features.csv')\n",
    "\n",
    "# Визначення ознак (X) та цільової змінної (y)\n",
    "X = dataset.drop(columns=['activity'])\n",
    "y = dataset['activity']\n",
    "\n",
    "# Заміна відсутніх значень на середні значення\n",
    "imputer = SimpleImputer(strategy='mean')\n",
    "X_imputed = imputer.fit_transform(X)\n",
    "\n",
    "# Стандартизація вхідних ознак\n",
    "scaler = StandardScaler()\n",
    "X_scaled = scaler.fit_transform(X_imputed)\n",
    "\n",
    "# Побудова та навчання моделі SVM з налаштуванням гіперпараметрів\n",
    "svm_model = SVC(kernel='linear', C=10000, gamma='scale', max_iter=20000)\n",
    "svm_model.fit(X_scaled, y)  # Навчання моделі\n",
    "\n",
    "# Крос-валідація моделі SVM\n",
    "svm_scores = cross_val_score(svm_model, X_scaled, y, cv=5, scoring='accuracy')\n",
    "\n",
    "# Побудова моделі Random Forest\n",
    "rf_model = RandomForestClassifier(max_depth=10, random_state=42)\n",
    "rf_model.fit(X_train, y_train)\n",
    "\n",
    "# Крос-валідація моделі Random Forest\n",
    "rf_scores = cross_val_score(rf_model, X_scaled, y, cv=5, scoring='accuracy')\n",
    "\n",
    "# Вивід результатів\n",
    "print(\"SVM Cross-Validation Accuracy:\", svm_scores.mean())\n",
    "print(\"Random Forest Cross-Validation Accuracy:\", rf_scores.mean())\n",
    "print(\"SVM Accuracy:\", accuracy_score(y_test, svm_model.predict(X_test)))\n",
    "print(\"Random Forest Accuracy:\", accuracy_score(y_test, rf_model.predict(X_test)))\n",
    "print(\"SVM Macro F1 Score:\", f1_score(y_test, svm_model.predict(X_test), average='macro'))\n",
    "print(\"SVM Micro F1 Score:\", f1_score(y_test, svm_model.predict(X_test), average='micro'))\n",
    "print(\"Random Forest Macro F1 Score:\", f1_score(y_test, rf_model.predict(X_test), average='macro'))\n",
    "print(\"Random Forest Micro F1 Score:\", f1_score(y_test, rf_model.predict(X_test), average='micro'))"
   ]
  },
  {
   "cell_type": "code",
   "execution_count": 14,
   "id": "3ea91d15-57f2-473c-af3d-f2de2000e5c2",
   "metadata": {
    "tags": []
   },
   "outputs": [
    {
     "name": "stderr",
     "output_type": "stream",
     "text": [
      "C:\\ProgramData\\anaconda3\\Lib\\site-packages\\sklearn\\svm\\_base.py:299: ConvergenceWarning: Solver terminated early (max_iter=5000).  Consider pre-processing your data with StandardScaler or MinMaxScaler.\n",
      "  warnings.warn(\n",
      "C:\\ProgramData\\anaconda3\\Lib\\site-packages\\sklearn\\svm\\_base.py:299: ConvergenceWarning: Solver terminated early (max_iter=5000).  Consider pre-processing your data with StandardScaler or MinMaxScaler.\n",
      "  warnings.warn(\n",
      "C:\\ProgramData\\anaconda3\\Lib\\site-packages\\sklearn\\svm\\_base.py:299: ConvergenceWarning: Solver terminated early (max_iter=5000).  Consider pre-processing your data with StandardScaler or MinMaxScaler.\n",
      "  warnings.warn(\n",
      "C:\\ProgramData\\anaconda3\\Lib\\site-packages\\sklearn\\svm\\_base.py:299: ConvergenceWarning: Solver terminated early (max_iter=5000).  Consider pre-processing your data with StandardScaler or MinMaxScaler.\n",
      "  warnings.warn(\n",
      "C:\\ProgramData\\anaconda3\\Lib\\site-packages\\sklearn\\svm\\_base.py:299: ConvergenceWarning: Solver terminated early (max_iter=5000).  Consider pre-processing your data with StandardScaler or MinMaxScaler.\n",
      "  warnings.warn(\n",
      "C:\\ProgramData\\anaconda3\\Lib\\site-packages\\sklearn\\svm\\_base.py:299: ConvergenceWarning: Solver terminated early (max_iter=5000).  Consider pre-processing your data with StandardScaler or MinMaxScaler.\n",
      "  warnings.warn(\n"
     ]
    },
    {
     "name": "stdout",
     "output_type": "stream",
     "text": [
      "SVM Cross-Validation Accuracy: 0.6438770246569689\n",
      "Random Forest Cross-Validation Accuracy: 0.8907613741875581\n",
      "SVM Accuracy: 0.7233312699886516\n",
      "Random Forest Accuracy: 0.9224698235840297\n",
      "SVM Macro F1 Score: 0.5725400578419001\n",
      "SVM Micro F1 Score: 0.7233312699886516\n",
      "Random Forest Macro F1 Score: 0.7269255587216501\n",
      "Random Forest Micro F1 Score: 0.9224698235840296\n"
     ]
    }
   ],
   "source": [
    "import pandas as pd\n",
    "from sklearn.preprocessing import StandardScaler\n",
    "from sklearn.impute import SimpleImputer\n",
    "from sklearn.model_selection import train_test_split, cross_val_score\n",
    "from sklearn.svm import SVC\n",
    "from sklearn.ensemble import RandomForestClassifier\n",
    "\n",
    "# Зчитування підготовленого датасету з часовими ознаками\n",
    "dataset = pd.read_csv('activity_dataset_with_time_features.csv')\n",
    "\n",
    "# Визначення ознак (X) та цільової змінної (y)\n",
    "X = dataset.drop(columns=['activity'])\n",
    "y = dataset['activity']\n",
    "\n",
    "# Заміна відсутніх значень на середні значення\n",
    "imputer = SimpleImputer(strategy='mean')\n",
    "X_imputed = imputer.fit_transform(X)\n",
    "\n",
    "# Стандартизація вхідних ознак\n",
    "scaler = StandardScaler()\n",
    "X_scaled = scaler.fit_transform(X_imputed)\n",
    "\n",
    "# Побудова та навчання моделі SVM з налаштуванням гіперпараметрів\n",
    "svm_model = SVC(kernel='rbf', C=500, gamma='scale', max_iter=5000)\n",
    "svm_model.fit(X_scaled, y)  # Навчання моделі\n",
    "\n",
    "# Крос-валідація моделі SVM\n",
    "svm_scores = cross_val_score(svm_model, X_scaled, y, cv=5, scoring='accuracy')\n",
    "\n",
    "# Побудова моделі Random Forest\n",
    "rf_model = RandomForestClassifier(max_depth=10, random_state=42)\n",
    "rf_model.fit(X_train, y_train)\n",
    "\n",
    "# Крос-валідація моделі Random Forest\n",
    "rf_scores = cross_val_score(rf_model, X_scaled, y, cv=5, scoring='accuracy')\n",
    "\n",
    "# Вивід результатів\n",
    "print(\"SVM Cross-Validation Accuracy:\", svm_scores.mean())\n",
    "print(\"Random Forest Cross-Validation Accuracy:\", rf_scores.mean())\n",
    "print(\"SVM Accuracy:\", accuracy_score(y_test, svm_model.predict(X_test)))\n",
    "print(\"Random Forest Accuracy:\", accuracy_score(y_test, rf_model.predict(X_test)))\n",
    "print(\"SVM Macro F1 Score:\", f1_score(y_test, svm_model.predict(X_test), average='macro'))\n",
    "print(\"SVM Micro F1 Score:\", f1_score(y_test, svm_model.predict(X_test), average='micro'))\n",
    "print(\"Random Forest Macro F1 Score:\", f1_score(y_test, rf_model.predict(X_test), average='macro'))\n",
    "print(\"Random Forest Micro F1 Score:\", f1_score(y_test, rf_model.predict(X_test), average='micro'))"
   ]
  },
  {
   "cell_type": "code",
   "execution_count": null,
   "id": "32fdec53-28b5-4a12-b6d2-c7fc59248d55",
   "metadata": {},
   "outputs": [],
   "source": []
  }
 ],
 "metadata": {
  "kernelspec": {
   "display_name": "Python 3 (ipykernel)",
   "language": "python",
   "name": "python3"
  },
  "language_info": {
   "codemirror_mode": {
    "name": "ipython",
    "version": 3
   },
   "file_extension": ".py",
   "mimetype": "text/x-python",
   "name": "python",
   "nbconvert_exporter": "python",
   "pygments_lexer": "ipython3",
   "version": "3.11.3"
  }
 },
 "nbformat": 4,
 "nbformat_minor": 5
}
