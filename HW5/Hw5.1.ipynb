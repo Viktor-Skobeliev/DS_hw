{
 "cells": [
  {
   "cell_type": "code",
   "execution_count": 2,
   "id": "31cac7b8-be98-47b5-a4f9-565b0e30e30f",
   "metadata": {},
   "outputs": [
    {
     "name": "stdout",
     "output_type": "stream",
     "text": [
      "Довжина огорожі: 89.44271918101153\n",
      "Розміри області: a = 44.71938041764369 , b = 22.361669381683917\n"
     ]
    }
   ],
   "source": [
    "from scipy.optimize import minimize\n",
    "\n",
    "def objective(x):\n",
    "    # Функція, яку ми хочемо мінімізувати - довжина огорожі\n",
    "    return x[0] + 2 * x[1]\n",
    "\n",
    "def constraint(x):\n",
    "    # Обмеження - площа області має бути 1000 м2\n",
    "    return x[0] * x[1] - 1000\n",
    "\n",
    "# Початкове наближення\n",
    "x0 = [10, 100]\n",
    "\n",
    "# Визначення обмежень\n",
    "bounds = [(0, None), (0, None)]\n",
    "\n",
    "# Визначення обмежень для площі\n",
    "area_constraint = {'type': 'eq', 'fun': constraint}\n",
    "\n",
    "# Виклик функції minimize для пошуку мінімуму\n",
    "result = minimize(objective, x0, method='SLSQP', bounds=bounds, constraints=[area_constraint])\n",
    "\n",
    "# Отримання результатів\n",
    "length = result.fun\n",
    "a, b = result.x\n",
    "\n",
    "# Виведення результатів\n",
    "print(\"Довжина огорожі:\", length)\n",
    "print(\"Розміри області: a =\", a, \", b =\", b)\n"
   ]
  },
  {
   "cell_type": "code",
   "execution_count": null,
   "id": "b50d03a7-b2b5-48cd-850b-12061668c1ff",
   "metadata": {},
   "outputs": [],
   "source": []
  }
 ],
 "metadata": {
  "kernelspec": {
   "display_name": "Python 3 (ipykernel)",
   "language": "python",
   "name": "python3"
  },
  "language_info": {
   "codemirror_mode": {
    "name": "ipython",
    "version": 3
   },
   "file_extension": ".py",
   "mimetype": "text/x-python",
   "name": "python",
   "nbconvert_exporter": "python",
   "pygments_lexer": "ipython3",
   "version": "3.9.13"
  }
 },
 "nbformat": 4,
 "nbformat_minor": 5
}
