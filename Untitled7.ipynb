{
  "nbformat": 4,
  "nbformat_minor": 0,
  "metadata": {
    "colab": {
      "provenance": [],
      "authorship_tag": "ABX9TyMRzDFW1hY2V3i2gZdVQqet",
      "include_colab_link": true
    },
    "kernelspec": {
      "name": "python3",
      "display_name": "Python 3"
    },
    "language_info": {
      "name": "python"
    }
  },
  "cells": [
    {
      "cell_type": "markdown",
      "metadata": {
        "id": "view-in-github",
        "colab_type": "text"
      },
      "source": [
        "<a href=\"https://colab.research.google.com/github/Viktor-Skobeliev/DS_hw/blob/main/Untitled7.ipynb\" target=\"_parent\"><img src=\"https://colab.research.google.com/assets/colab-badge.svg\" alt=\"Open In Colab\"/></a>"
      ]
    },
    {
      "cell_type": "code",
      "execution_count": 4,
      "metadata": {
        "colab": {
          "base_uri": "https://localhost:8080/",
          "height": 333
        },
        "id": "4iUJnKWXeq-K",
        "outputId": "f52095a1-4581-456a-d99b-7940276d07d1"
      },
      "outputs": [
        {
          "output_type": "display_data",
          "data": {
            "text/plain": [
              "<IPython.core.display.HTML object>"
            ],
            "text/html": [
              "\n",
              "     <input type=\"file\" id=\"files-d1f30963-7841-4357-9f37-6102a1c63aa7\" name=\"files[]\" multiple disabled\n",
              "        style=\"border:none\" />\n",
              "     <output id=\"result-d1f30963-7841-4357-9f37-6102a1c63aa7\">\n",
              "      Upload widget is only available when the cell has been executed in the\n",
              "      current browser session. Please rerun this cell to enable.\n",
              "      </output>\n",
              "      <script>// Copyright 2017 Google LLC\n",
              "//\n",
              "// Licensed under the Apache License, Version 2.0 (the \"License\");\n",
              "// you may not use this file except in compliance with the License.\n",
              "// You may obtain a copy of the License at\n",
              "//\n",
              "//      http://www.apache.org/licenses/LICENSE-2.0\n",
              "//\n",
              "// Unless required by applicable law or agreed to in writing, software\n",
              "// distributed under the License is distributed on an \"AS IS\" BASIS,\n",
              "// WITHOUT WARRANTIES OR CONDITIONS OF ANY KIND, either express or implied.\n",
              "// See the License for the specific language governing permissions and\n",
              "// limitations under the License.\n",
              "\n",
              "/**\n",
              " * @fileoverview Helpers for google.colab Python module.\n",
              " */\n",
              "(function(scope) {\n",
              "function span(text, styleAttributes = {}) {\n",
              "  const element = document.createElement('span');\n",
              "  element.textContent = text;\n",
              "  for (const key of Object.keys(styleAttributes)) {\n",
              "    element.style[key] = styleAttributes[key];\n",
              "  }\n",
              "  return element;\n",
              "}\n",
              "\n",
              "// Max number of bytes which will be uploaded at a time.\n",
              "const MAX_PAYLOAD_SIZE = 100 * 1024;\n",
              "\n",
              "function _uploadFiles(inputId, outputId) {\n",
              "  const steps = uploadFilesStep(inputId, outputId);\n",
              "  const outputElement = document.getElementById(outputId);\n",
              "  // Cache steps on the outputElement to make it available for the next call\n",
              "  // to uploadFilesContinue from Python.\n",
              "  outputElement.steps = steps;\n",
              "\n",
              "  return _uploadFilesContinue(outputId);\n",
              "}\n",
              "\n",
              "// This is roughly an async generator (not supported in the browser yet),\n",
              "// where there are multiple asynchronous steps and the Python side is going\n",
              "// to poll for completion of each step.\n",
              "// This uses a Promise to block the python side on completion of each step,\n",
              "// then passes the result of the previous step as the input to the next step.\n",
              "function _uploadFilesContinue(outputId) {\n",
              "  const outputElement = document.getElementById(outputId);\n",
              "  const steps = outputElement.steps;\n",
              "\n",
              "  const next = steps.next(outputElement.lastPromiseValue);\n",
              "  return Promise.resolve(next.value.promise).then((value) => {\n",
              "    // Cache the last promise value to make it available to the next\n",
              "    // step of the generator.\n",
              "    outputElement.lastPromiseValue = value;\n",
              "    return next.value.response;\n",
              "  });\n",
              "}\n",
              "\n",
              "/**\n",
              " * Generator function which is called between each async step of the upload\n",
              " * process.\n",
              " * @param {string} inputId Element ID of the input file picker element.\n",
              " * @param {string} outputId Element ID of the output display.\n",
              " * @return {!Iterable<!Object>} Iterable of next steps.\n",
              " */\n",
              "function* uploadFilesStep(inputId, outputId) {\n",
              "  const inputElement = document.getElementById(inputId);\n",
              "  inputElement.disabled = false;\n",
              "\n",
              "  const outputElement = document.getElementById(outputId);\n",
              "  outputElement.innerHTML = '';\n",
              "\n",
              "  const pickedPromise = new Promise((resolve) => {\n",
              "    inputElement.addEventListener('change', (e) => {\n",
              "      resolve(e.target.files);\n",
              "    });\n",
              "  });\n",
              "\n",
              "  const cancel = document.createElement('button');\n",
              "  inputElement.parentElement.appendChild(cancel);\n",
              "  cancel.textContent = 'Cancel upload';\n",
              "  const cancelPromise = new Promise((resolve) => {\n",
              "    cancel.onclick = () => {\n",
              "      resolve(null);\n",
              "    };\n",
              "  });\n",
              "\n",
              "  // Wait for the user to pick the files.\n",
              "  const files = yield {\n",
              "    promise: Promise.race([pickedPromise, cancelPromise]),\n",
              "    response: {\n",
              "      action: 'starting',\n",
              "    }\n",
              "  };\n",
              "\n",
              "  cancel.remove();\n",
              "\n",
              "  // Disable the input element since further picks are not allowed.\n",
              "  inputElement.disabled = true;\n",
              "\n",
              "  if (!files) {\n",
              "    return {\n",
              "      response: {\n",
              "        action: 'complete',\n",
              "      }\n",
              "    };\n",
              "  }\n",
              "\n",
              "  for (const file of files) {\n",
              "    const li = document.createElement('li');\n",
              "    li.append(span(file.name, {fontWeight: 'bold'}));\n",
              "    li.append(span(\n",
              "        `(${file.type || 'n/a'}) - ${file.size} bytes, ` +\n",
              "        `last modified: ${\n",
              "            file.lastModifiedDate ? file.lastModifiedDate.toLocaleDateString() :\n",
              "                                    'n/a'} - `));\n",
              "    const percent = span('0% done');\n",
              "    li.appendChild(percent);\n",
              "\n",
              "    outputElement.appendChild(li);\n",
              "\n",
              "    const fileDataPromise = new Promise((resolve) => {\n",
              "      const reader = new FileReader();\n",
              "      reader.onload = (e) => {\n",
              "        resolve(e.target.result);\n",
              "      };\n",
              "      reader.readAsArrayBuffer(file);\n",
              "    });\n",
              "    // Wait for the data to be ready.\n",
              "    let fileData = yield {\n",
              "      promise: fileDataPromise,\n",
              "      response: {\n",
              "        action: 'continue',\n",
              "      }\n",
              "    };\n",
              "\n",
              "    // Use a chunked sending to avoid message size limits. See b/62115660.\n",
              "    let position = 0;\n",
              "    do {\n",
              "      const length = Math.min(fileData.byteLength - position, MAX_PAYLOAD_SIZE);\n",
              "      const chunk = new Uint8Array(fileData, position, length);\n",
              "      position += length;\n",
              "\n",
              "      const base64 = btoa(String.fromCharCode.apply(null, chunk));\n",
              "      yield {\n",
              "        response: {\n",
              "          action: 'append',\n",
              "          file: file.name,\n",
              "          data: base64,\n",
              "        },\n",
              "      };\n",
              "\n",
              "      let percentDone = fileData.byteLength === 0 ?\n",
              "          100 :\n",
              "          Math.round((position / fileData.byteLength) * 100);\n",
              "      percent.textContent = `${percentDone}% done`;\n",
              "\n",
              "    } while (position < fileData.byteLength);\n",
              "  }\n",
              "\n",
              "  // All done.\n",
              "  yield {\n",
              "    response: {\n",
              "      action: 'complete',\n",
              "    }\n",
              "  };\n",
              "}\n",
              "\n",
              "scope.google = scope.google || {};\n",
              "scope.google.colab = scope.google.colab || {};\n",
              "scope.google.colab._files = {\n",
              "  _uploadFiles,\n",
              "  _uploadFilesContinue,\n",
              "};\n",
              "})(self);\n",
              "</script> "
            ]
          },
          "metadata": {}
        },
        {
          "output_type": "stream",
          "name": "stdout",
          "text": [
            "Saving bestsellers with categories.csv to bestsellers with categories (2).csv\n",
            "                                                name  \\\n",
            "0                      10-Day Green Smoothie Cleanse   \n",
            "1                                  11/22/63: A Novel   \n",
            "2            12 Rules for Life: An Antidote to Chaos   \n",
            "3                             1984 (Signet Classics)   \n",
            "4  5,000 Awesome Facts (About Everything!) (Natio...   \n",
            "\n",
            "                     author  user_rating  reviews  price  year        genre  \n",
            "0                  JJ Smith          4.7    17350      8  2016  Non Fiction  \n",
            "1              Stephen King          4.6     2052     22  2011      Fiction  \n",
            "2        Jordan B. Peterson          4.7    18979     15  2018  Non Fiction  \n",
            "3             George Orwell          4.7    21424      6  2017      Fiction  \n",
            "4  National Geographic Kids          4.8     7665     12  2019  Non Fiction  \n",
            "(550, 7)\n",
            "550\n"
          ]
        }
      ],
      "source": [
        "from google.colab import files \n",
        "uploaded = files.upload()\n",
        "import os\n",
        "import pandas as pd\n",
        "import matplotlib.pyplot as plt\n",
        "import seaborn as sns\n",
        "%matplotlib inline\n",
        "\n",
        "#зчитування з файлу\n",
        "df = pd.read_csv('bestsellers with categories.csv')\n",
        "df.columns = ['name', 'author', 'user_rating', 'reviews', 'price', 'year', 'genre']\n",
        "print(df.head())\n",
        "print(df.shape)\n",
        "print(df.shape[0])"
      ]
    },
    {
      "cell_type": "code",
      "source": [
        "def write_to_file(data):\n",
        "    with open(os.path.join(os.getcwd(), 'answers.txt'), 'a') as f:\n",
        "        f.write(str(data + '\\n'))\n"
      ],
      "metadata": {
        "id": "rZsiwEoYhQlD"
      },
      "execution_count": 2,
      "outputs": []
    },
    {
      "cell_type": "code",
      "source": [
        "# Подсчет пропусков в каждом столбце\n",
        "num_missing = df.isna().sum()\n",
        "\n",
        "# Вывод количества пропусков в каждом столбце\n",
        "print(num_missing)\n",
        "\n",
        "# Запись ответа на вопрос в файл\n",
        "if num_missing.sum() > 0:\n",
        "    write_to_file('Чи є в якихось змінних пропуски? Відповідь: так')\n",
        "else:\n",
        "    write_to_file('Чи є в якихось змінних пропуски? Відповідь: ні')"
      ],
      "metadata": {
        "colab": {
          "base_uri": "https://localhost:8080/"
        },
        "id": "AV1uqkHphez1",
        "outputId": "d9f49639-6e7c-4479-bf5b-67e70230353b"
      },
      "execution_count": 5,
      "outputs": [
        {
          "output_type": "stream",
          "name": "stdout",
          "text": [
            "name           0\n",
            "author         0\n",
            "user_rating    0\n",
            "reviews        0\n",
            "price          0\n",
            "year           0\n",
            "genre          0\n",
            "dtype: int64\n"
          ]
        }
      ]
    },
    {
      "cell_type": "code",
      "source": [
        "# Які є унікальні жанри?\n",
        "\n",
        "unique_genres = df['genre'].unique()\n",
        "print(unique_genres)\n",
        "\n",
        "write_to_file('Які є унікальні жанри? Відповідь: ' + ', '.join(unique_genres))"
      ],
      "metadata": {
        "colab": {
          "base_uri": "https://localhost:8080/"
        },
        "id": "YU90gGceleBc",
        "outputId": "8157af9e-173d-46d6-ff24-c61da62fe022"
      },
      "execution_count": 6,
      "outputs": [
        {
          "output_type": "stream",
          "name": "stdout",
          "text": [
            "['Non Fiction' 'Fiction']\n"
          ]
        }
      ]
    },
    {
      "cell_type": "code",
      "source": [
        "# діаграмa розподілy цін \n",
        "\n",
        "df['price'].plot(kind='hist')\n",
        "plt.title('Розподіл цін')\n",
        "plt.show()\n"
      ],
      "metadata": {
        "colab": {
          "base_uri": "https://localhost:8080/",
          "height": 452
        },
        "id": "_Q6yXG32lnjI",
        "outputId": "6cb830ca-6732-4fa2-f0d7-2b895cc2d638"
      },
      "execution_count": 26,
      "outputs": [
        {
          "output_type": "display_data",
          "data": {
            "text/plain": [
              "<Figure size 640x480 with 1 Axes>"
            ],
            "image/png": "[encoded data removed]"
          },
          "metadata": {}
        }
      ]
    },
    {
      "cell_type": "code",
      "source": [
        "# Визначте, яка ціна у нас максимальна, мінімальна, середня, медіанна (використовуйте функції max, min, mean, median)\n",
        "\n",
        "max_price = df['price'].max()\n",
        "min_price = df['price'].min()\n",
        "mean_price = df['price'].mean()\n",
        "median_price = df['price'].median()\n",
        "print(f\"Яка ціна у нас максимальна? Відповідь: {max_price}\")\n",
        "print(f\"Яка ціна у нас мінімальна? Відповідь: {min_price}\")\n",
        "print(f\"Яка ціна у нас середня? Відповідь: {mean_price}\")\n",
        "print(f\"Яка у нас медіанна цін? Відповідь: {median_price}\")\n",
        "\n",
        "write_to_file(f\"Яка ціна у нас максимальна? Відповідь: {max_price}\")\n",
        "write_to_file(f\"Яка ціна у нас мінімальна? Відповідь: {min_price}\")\n",
        "write_to_file(f\"Яка ціна у нас середня? Відповідь: {mean_price}\")\n",
        "write_to_file(f\"Яка у нас медіанна цін? Відповідь: {median_price}\")"
      ],
      "metadata": {
        "colab": {
          "base_uri": "https://localhost:8080/"
        },
        "id": "eQgsUteflu5m",
        "outputId": "2aea365a-00fb-41e5-a8b0-0a3f530c40f1"
      },
      "execution_count": 8,
      "outputs": [
        {
          "output_type": "stream",
          "name": "stdout",
          "text": [
            "Яка ціна у нас максимальна? Відповідь: 105\n",
            "Яка ціна у нас мінімальна? Відповідь: 0\n",
            "Яка ціна у нас середня? Відповідь: 13.1\n",
            "Яка у нас медіанна цін? Відповідь: 11.0\n"
          ]
        }
      ]
    },
    {
      "cell_type": "code",
      "source": [
        "# найвищий рейтинг у датасеті\n",
        "\n",
        "max_rating = df['user_rating'].max()\n",
        "\n",
        "print(f\"Який рейтинг у датасеті найвищий? Відповідь: {max_rating}\")\n",
        "write_to_file(f\"Який рейтинг у датасеті найвищий? Відповідь: {max_rating}\")\n"
      ],
      "metadata": {
        "colab": {
          "base_uri": "https://localhost:8080/"
        },
        "id": "m9LxbUoanKV0",
        "outputId": "7d4e0820-c4c5-45f3-a995-92857bc9b80d"
      },
      "execution_count": 10,
      "outputs": [
        {
          "output_type": "stream",
          "name": "stdout",
          "text": [
            "Який рейтинг у датасеті найвищий? Відповідь: 4.9\n"
          ]
        }
      ]
    },
    {
      "cell_type": "code",
      "source": [
        "# Скільки книг мають такий рейтинг?\n",
        "\n",
        "num_books = df[df['user_rating'] == max_rating]['user_rating'].value_counts().iloc[0]\n",
        "\n",
        "print(f\"Скільки книг мають такий рейтинг? Відповідь: {num_books}\")\n",
        "write_to_file(f\"Скільки книг мають такий рейтинг? Відповідь: {num_books}\")\n"
      ],
      "metadata": {
        "colab": {
          "base_uri": "https://localhost:8080/"
        },
        "id": "UQUw2Kz8naHx",
        "outputId": "e392eea2-a83e-4f41-cbab-04397e455ad1"
      },
      "execution_count": 11,
      "outputs": [
        {
          "output_type": "stream",
          "name": "stdout",
          "text": [
            "Скільки книг мають такий рейтинг? Відповідь: 52\n"
          ]
        }
      ]
    },
    {
      "cell_type": "code",
      "source": [
        "# Яка книга має найбільше відгуків?\n",
        "\n",
        "df['reviews'] = df['reviews'].astype(str)\n",
        "max_reviews = df.loc[df['reviews'].astype(int).idxmax(), 'name']\n",
        "\n",
        "print(f\"Яка книга має найбільше відгуків? Відповідь: {max_reviews}\")\n",
        "write_to_file(f\"Яка книга має найбільше відгуків? Відповідь: {max_reviews}\")"
      ],
      "metadata": {
        "colab": {
          "base_uri": "https://localhost:8080/"
        },
        "id": "Fn7RpgxCnv3e",
        "outputId": "e80a0145-2e08-47f2-9bce-4c2c93c14930"
      },
      "execution_count": 12,
      "outputs": [
        {
          "output_type": "stream",
          "name": "stdout",
          "text": [
            "Яка книга має найбільше відгуків? Відповідь: Where the Crawdads Sing\n"
          ]
        }
      ]
    },
    {
      "cell_type": "code",
      "source": [
        "# З тих книг, що потрапили до Топ-50 у 2015 році, яка книга найдорожча (можна використати проміжний датафрейм)?\n",
        "\n",
        "# Вибірка книг з Топ-50 2015 року\n",
        "top_books_2015 = df.loc[(df['year'] == 2015) & (df['user_rating'] >= 4.5)]\n",
        "\n",
        "# Сортування за зростанням ціни та вибір найдорожчої книги\n",
        "expensive_book = top_books_2015.sort_values('price', ascending=False).iloc[0]\n",
        "\n",
        "print(f\"Яка найдорожча книга 2015 року з топ 50? Відповідь: {expensive_book['name']}\")\n",
        "write_to_file(f\"Яка найдорожча книга 2015 року з топ 50? Відповідь: {expensive_book['name']}\")"
      ],
      "metadata": {
        "colab": {
          "base_uri": "https://localhost:8080/"
        },
        "id": "Jukkqwuvn2Qz",
        "outputId": "1b259986-becf-460c-ee8b-39cc52034bd9"
      },
      "execution_count": 13,
      "outputs": [
        {
          "output_type": "stream",
          "name": "stdout",
          "text": [
            "Яка найдорожча книга 2015 року з топ 50? Відповідь: Publication Manual of the American Psychological Association, 6th Edition\n"
          ]
        }
      ]
    },
    {
      "cell_type": "code",
      "source": [
        "# Скільки книг жанру Fiction потрапили до Топ-50 у 2010 році?\n",
        "\n",
        "fiction_2010 = df[(df['genre'] == 'Fiction') & (df['year'] == 2010)]\n",
        "num_fiction_2010 = fiction_2010.shape[0]\n",
        "\n",
        "print(f\"Скільки книг жанру Fiction потрапили до Топ-50 у 2010 році? Відповідь: {num_fiction_2010}\")\n",
        "write_to_file(f\"Скільки книг жанру Fiction потрапили до Топ-50 у 2010 році? Відповідь: {num_fiction_2010}\")"
      ],
      "metadata": {
        "colab": {
          "base_uri": "https://localhost:8080/"
        },
        "id": "M8rNX7Bhn81U",
        "outputId": "f2e20c7f-c189-438c-95f5-26264a30f086"
      },
      "execution_count": 14,
      "outputs": [
        {
          "output_type": "stream",
          "name": "stdout",
          "text": [
            "Скільки книг жанру Fiction потрапили до Топ-50 у 2010 році? Відповідь: 20\n"
          ]
        }
      ]
    },
    {
      "cell_type": "code",
      "source": [
        "# Скільки книг з рейтингом 4.9 потрапило до рейтингу у 2010 та 2011 роках\n",
        "\n",
        "# Вибираємо книги з рейтингом 4.9\n",
        "df_49 = df[df['user_rating'] == 4.9]\n",
        "\n",
        "# Вибираємо книги, які потрапили до рейтингу у 2010 та 2011 роках\n",
        "df_1011 = df[df['year'].isin([2010, 2011])]\n",
        "\n",
        "# Об'єднуємо датафрейми за допомогою оператора \"або\"\n",
        "df_49_1011 = df_49[(df_49['year'] == 2010) | (df_49['year'] == 2011)]\n",
        "\n",
        "# Знаходимо кількість книг у датафреймі df_49_1011\n",
        "count_49_1011 = len(df_49_1011)\n",
        "\n",
        "print(f\"Скільки книг з рейтингом 4.9 потрапило до рейтингу у 2010 та 2011 роках? Відповідь: {count_49_1011}\")\n",
        "write_to_file(f\"Скільки книг з рейтингом 4.9 потрапило до рейтингу у 2010 та 2011 роках? Відповідь: {count_49_1011}\")"
      ],
      "metadata": {
        "colab": {
          "base_uri": "https://localhost:8080/"
        },
        "id": "YYWRQjNFoG-K",
        "outputId": "1904f32c-e04c-4935-90d8-fbf248297d1c"
      },
      "execution_count": 15,
      "outputs": [
        {
          "output_type": "stream",
          "name": "stdout",
          "text": [
            "Скільки книг з рейтингом 4.9 потрапило до рейтингу у 2010 та 2011 роках? Відповідь: 1\n"
          ]
        }
      ]
    },
    {
      "cell_type": "code",
      "source": [
        "# Відсортуємо за зростанням ціни всі книги, які потрапили до рейтингу в 2015 році і коштують дешевше за 8 доларів\n",
        "\n",
        "# відфільтруємо дані\n",
        "filtered_books = df[(df['year'] == 2015) & (df['price'] < 8)]\n",
        "\n",
        "# відсортуємо результат\n",
        "sorted_books = filtered_books.sort_values('price')\n",
        "\n",
        "# знайдемо останню книгу у списку\n",
        "last_book = sorted_books.iloc[-1]['name']\n",
        "\n",
        "# відповідь запишемо в файл\n",
        "print(f\"Яка книга остання у відсортованому списку? Відповідь: {last_book}\")\n",
        "write_to_file(f\"Яка книга остання у відсортованому списку? Відповідь: {last_book}\")"
      ],
      "metadata": {
        "colab": {
          "base_uri": "https://localhost:8080/"
        },
        "id": "rh5-Ymv8oVmt",
        "outputId": "0dc5f977-1199-49e2-ef69-e6b547e2a768"
      },
      "execution_count": 16,
      "outputs": [
        {
          "output_type": "stream",
          "name": "stdout",
          "text": [
            "Яка книга остання у відсортованому списку? Відповідь: Old School (Diary of a Wimpy Kid #10)\n"
          ]
        }
      ]
    },
    {
      "cell_type": "code",
      "source": [
        "# подивимося на максимальну та мінімальну ціни для кожного з жанрів\n",
        "\n",
        "\n",
        "\n",
        "# групуємо за жанрами та знаходимо мінімальну та максимальну ціни\n",
        "price_stats = df.groupby('genre')['price'].agg(['max', 'min'])\n",
        "\n",
        "print(f\"Максимальна ціна для жанру Fiction? Відповідь: {price_stats.loc['Fiction', 'max']}\")\n",
        "print(f\"Мінімальна ціна для жанру Fiction? Відповідь: {price_stats.loc['Fiction', 'min']}\")\n",
        "print(f\"Максимальна ціна для жанру Non Fiction? Відповідь: {price_stats.loc['Non Fiction', 'max']}\")\n",
        "print(f\"Мінімальна ціна для жанру Non Fiction? Відповідь: {price_stats.loc['Non Fiction', 'min']}\")\n",
        "\n",
        "# записуємо результат в файл\n",
        "\n",
        "write_to_file(f\"Максимальна ціна для жанру Fiction? Відповідь: {price_stats.loc['Fiction', 'max']}\")\n",
        "write_to_file(f\"Мінімальна ціна для жанру Fiction? Відповідь: {price_stats.loc['Fiction', 'min']}\")\n",
        "write_to_file(f\"Максимальна ціна для жанру Non Fiction? Відповідь: {price_stats.loc['Non Fiction', 'max']}\")\n",
        "write_to_file(f\"Мінімальна ціна для жанру Non Fiction? Відповідь: {price_stats.loc['Non Fiction', 'min']}\")\n",
        "\n"
      ],
      "metadata": {
        "colab": {
          "base_uri": "https://localhost:8080/"
        },
        "id": "jbLpjMlyocv1",
        "outputId": "6d5f705e-4da5-4119-a23a-f440cabe6f2d"
      },
      "execution_count": 17,
      "outputs": [
        {
          "output_type": "stream",
          "name": "stdout",
          "text": [
            "Максимальна ціна для жанру Fiction? Відповідь: 82\n",
            "Мінімальна ціна для жанру Fiction? Відповідь: 0\n",
            "Максимальна ціна для жанру Non Fiction? Відповідь: 105\n",
            "Мінімальна ціна для жанру Non Fiction? Відповідь: 0\n"
          ]
        }
      ]
    },
    {
      "cell_type": "code",
      "source": [
        "# новий датафрейм, який вміщатиме кількість книг для кожного з авторів\n",
        "\n",
        "book_count = df.groupby('author').agg({'name': 'count'})\n",
        "\n",
        "# Розмірність таблиці\n",
        "\n",
        "print(f\"Якої розмірності вийшла таблиця? Відповідь: {book_count.shape}\")\n",
        "\n",
        "\n",
        "# Автор з найбільшою кількістю книг\n",
        "max_author = book_count['name'].idxmax()\n",
        "print(f\"Який автор має найбільше книг? Відповідь: {max_author}\")\n",
        "\n",
        "\n",
        "# Кількість книг цього автора\n",
        "\n",
        "max_books = book_count.loc[max_author, 'name']\n",
        "\n",
        "print(f\"Скільки книг цього автора? Відповідь: {max_books}\")\n",
        "\n",
        "write_to_file(f\"Якої розмірності вийшла таблиця? Відповідь: {book_count.shape}\")\n",
        "write_to_file(f\"Який автор має найбільше книг? Відповідь: {max_author}\")\n",
        "write_to_file(f\"Скільки книг цього автора? Відповідь: {max_books}\")"
      ],
      "metadata": {
        "colab": {
          "base_uri": "https://localhost:8080/"
        },
        "id": "Gr4POhcJorQT",
        "outputId": "cceb5bf1-f2c4-4dcd-8360-936c8036c2fa"
      },
      "execution_count": 18,
      "outputs": [
        {
          "output_type": "stream",
          "name": "stdout",
          "text": [
            "Якої розмірності вийшла таблиця? Відповідь: (248, 1)\n",
            "Який автор має найбільше книг? Відповідь: Jeff Kinney\n",
            "Скільки книг цього автора? Відповідь: 12\n"
          ]
        }
      ]
    },
    {
      "cell_type": "code",
      "source": [
        "# другий датафрейм\n",
        "\n",
        "df_author = df.groupby('author')['user_rating'].mean().reset_index()\n",
        "df_author.columns = ['author', 'avg_rating']\n",
        "\n",
        "# Для знаходження автора з найменшим середнім рейтингом, ми можемо відсортувати другий датафрейм за зростанням середнього рейтингу та взяти перший рядок\n",
        "\n",
        "min_avg_rating_author = df_author.sort_values('avg_rating').iloc[0]['author']\n",
        "\n",
        "# Тепер, щоб отримати середній рейтинг для цього автора, ми можемо використати метод loc\n",
        "\n",
        "min_avg_rating = df_author.loc[df_author['author'] == min_avg_rating_author]['avg_rating'].values[0]\n",
        "\n",
        "print(f\"У якого автора середній рейтинг мінімальний? Відповідь: {min_avg_rating_author}\")\n",
        "print(f\"У якого автора середній рейтинг мінімальний? Відповідь: {min_avg_rating}\")\n",
        "\n",
        "write_to_file(f\"У якого автора середній рейтинг мінімальний? Відповідь: {min_avg_rating_author}\")\n",
        "write_to_file(f\"Який у цього автора середній рейтинг? Відповідь: {min_avg_rating}\")"
      ],
      "metadata": {
        "colab": {
          "base_uri": "https://localhost:8080/"
        },
        "id": "eTymtjjCo075",
        "outputId": "287d6c0f-8f4e-46b0-8d52-e4a9a67742b3"
      },
      "execution_count": 19,
      "outputs": [
        {
          "output_type": "stream",
          "name": "stdout",
          "text": [
            "У якого автора середній рейтинг мінімальний? Відповідь: Donna Tartt\n",
            "У якого автора середній рейтинг мінімальний? Відповідь: 3.9\n"
          ]
        }
      ]
    },
    {
      "cell_type": "code",
      "source": [
        "# з'єднання двох датафреймів\n",
        "result_df = pd.concat([book_count, df_author['avg_rating']], axis=1)\n",
        "result_df.columns = ['book_count', 'avg_rating']\n",
        "print(result_df)\n",
        "print(result_df.columns)"
      ],
      "metadata": {
        "colab": {
          "base_uri": "https://localhost:8080/"
        },
        "id": "u_pQM6CEpFKX",
        "outputId": "a7523936-2eb2-465f-8170-15a2c23c5475"
      },
      "execution_count": 20,
      "outputs": [
        {
          "output_type": "stream",
          "name": "stdout",
          "text": [
            "                            book_count  avg_rating\n",
            "Abraham Verghese                   2.0         NaN\n",
            "Adam Gasiewski                     1.0         NaN\n",
            "Adam Mansbach                      1.0         NaN\n",
            "Adir Levy                          1.0         NaN\n",
            "Admiral William H. McRaven         1.0         NaN\n",
            "...                                ...         ...\n",
            "243                                NaN    4.566667\n",
            "244                                NaN    4.400000\n",
            "245                                NaN    4.600000\n",
            "246                                NaN    4.800000\n",
            "247                                NaN    4.600000\n",
            "\n",
            "[496 rows x 2 columns]\n",
            "Index(['book_count', 'avg_rating'], dtype='object')\n"
          ]
        }
      ]
    },
    {
      "cell_type": "code",
      "source": [
        "# сортування датафрейму за зростаючою кількістю книг та зростаючим рейтингом\n",
        "result_df_sorted = result_df.sort_values(by=['book_count', 'avg_rating'], ascending=[True, True])\n",
        "\n",
        "# виведення першого автора зі списку\n",
        "first_author = result_df_sorted.index[0]\n",
        "\n",
        "print(f\"Перший автор у списку? Відповідь: {first_author}\")\n",
        "\n",
        "write_to_file(f\"Який автор перший у списку? Відповідь: {first_author}\")"
      ],
      "metadata": {
        "colab": {
          "base_uri": "https://localhost:8080/"
        },
        "id": "Ro185M2RpKoq",
        "outputId": "0ad6859d-fcf7-4679-825d-1272e3ef1f8a"
      },
      "execution_count": 21,
      "outputs": [
        {
          "output_type": "stream",
          "name": "stdout",
          "text": [
            "Перший автор у списку? Відповідь: Adam Gasiewski\n"
          ]
        }
      ]
    },
    {
      "cell_type": "code",
      "source": [
        "# Загрузка стиля\n",
        "plt.style.use('ggplot')\n",
        "\n",
        "# Создание гистограммы\n",
        "sns.histplot(df['user_rating'], kde=False, bins=10)\n",
        "\n",
        "# Добавление заголовка и меток осей\n",
        "plt.title('Распределение оценок пользователей')\n",
        "plt.xlabel('Оценка')\n",
        "plt.ylabel('Количество')\n",
        "\n",
        "# Отображение графика\n",
        "plt.show()"
      ],
      "metadata": {
        "colab": {
          "base_uri": "https://localhost:8080/",
          "height": 477
        },
        "id": "KMYd337zpSAm",
        "outputId": "7d20f493-608f-41d1-f8c9-8fff43a2906e"
      },
      "execution_count": 22,
      "outputs": [
        {
          "output_type": "display_data",
          "data": {
            "text/plain": [
              "<Figure size 640x480 with 1 Axes>"
            ],
            "image/png": "[encoded data removed]"
          },
          "metadata": {}
        }
      ]
    },
    {
      "cell_type": "code",
      "source": [
        "# Загрузка стиля\n",
        "plt.style.use('seaborn-dark')\n",
        "\n",
        "# Создание ящика с усами\n",
        "sns.boxplot(x='genre', y='price', data=df)\n",
        "\n",
        "# Добавление заголовка и меток осей\n",
        "plt.title('Распределение цен книг по жанрам')\n",
        "plt.xlabel('Жанр')\n",
        "plt.ylabel('Цена')\n",
        "\n",
        "# Отображение графика\n",
        "plt.show()\n",
        "\n"
      ],
      "metadata": {
        "colab": {
          "base_uri": "https://localhost:8080/",
          "height": 524
        },
        "id": "BqpxR2ZapZve",
        "outputId": "2bb5f1bc-74e3-4b54-90e1-67dd5a9abfef"
      },
      "execution_count": 23,
      "outputs": [
        {
          "output_type": "stream",
          "name": "stderr",
          "text": [
            "<ipython-input-23-4a074d87a6c5>:2: MatplotlibDeprecationWarning: The seaborn styles shipped by Matplotlib are deprecated since 3.6, as they no longer correspond to the styles shipped by seaborn. However, they will remain available as 'seaborn-v0_8-<style>'. Alternatively, directly use the seaborn API instead.\n",
            "  plt.style.use('seaborn-dark')\n"
          ]
        },
        {
          "output_type": "display_data",
          "data": {
            "text/plain": [
              "<Figure size 640x480 with 1 Axes>"
            ],
            "image/png": "[encoded data removed]"
          },
          "metadata": {}
        }
      ]
    },
    {
      "cell_type": "code",
      "source": [
        "# Загрузка стиля\n",
        "plt.style.use('default')\n",
        "\n",
        "# Создание графика распределения цен по годам\n",
        "sns.lineplot(x='year', y='price', data=df, ci=None)\n",
        "\n",
        "# Добавление заголовка и меток осей\n",
        "plt.title('Распределение цен книг по годам')\n",
        "plt.xlabel('Год')\n",
        "plt.ylabel('Цена')\n",
        "\n",
        "# Отображение графика\n",
        "plt.show()\n"
      ],
      "metadata": {
        "colab": {
          "base_uri": "https://localhost:8080/",
          "height": 559
        },
        "id": "hsVWlDfEp0DD",
        "outputId": "b961d521-b8ff-4327-a424-086b6809989f"
      },
      "execution_count": 24,
      "outputs": [
        {
          "output_type": "stream",
          "name": "stderr",
          "text": [
            "<ipython-input-24-8004f9747150>:5: FutureWarning: \n",
            "\n",
            "The `ci` parameter is deprecated. Use `errorbar=None` for the same effect.\n",
            "\n",
            "  sns.lineplot(x='year', y='price', data=df, ci=None)\n"
          ]
        },
        {
          "output_type": "display_data",
          "data": {
            "text/plain": [
              "<Figure size 640x480 with 1 Axes>"
            ],
            "image/png": "[encoded data removed]"
          },
          "metadata": {}
        }
      ]
    },
    {
      "cell_type": "code",
      "source": [],
      "metadata": {
        "id": "jsXPKtmNp1o8"
      },
      "execution_count": null,
      "outputs": []
    }
  ]
}