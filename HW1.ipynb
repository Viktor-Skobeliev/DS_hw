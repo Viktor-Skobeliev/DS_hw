{
 "cells": [
  {
   "cell_type": "code",
   "execution_count": 15,
   "id": "63acbe33-e4dc-4a6c-9a8e-3d5f95bd0033",
   "metadata": {},
   "outputs": [
    {
     "name": "stdout",
     "output_type": "stream",
     "text": [
      "result witout formating:  [10000. 25000. 15000.]\n",
      "first bank = 10000, second bank = 25000, third bank = 15000\n"
     ]
    }
   ],
   "source": [
    "# Task 1\n",
    "import numpy as np\n",
    "\n",
    "# Створюємо матрицю коефіцієнтів\n",
    "A = np.array([[0.05, 0.07, 0], [0.05, 0, 0.06], [1, 1, 1]])\n",
    "\n",
    "# Створюємо вектор правої частини\n",
    "B = np.array([2250, 1400, 50000])\n",
    "\n",
    "# Розв'язуємо систему рівнянь\n",
    "X = np.linalg.solve(A, B)\n",
    "x_rounded = np.round(X).astype(int)\n",
    "# Виводимо результат\n",
    "print('result witout formating: ', X)\n",
    "print(\"first bank = {}, second bank = {}, third bank = {}\".format(x_rounded[0], x_rounded[1], x_rounded[2]))"
   ]
  },
  {
   "cell_type": "code",
   "execution_count": 22,
   "id": "1a5000ae-aacf-4bb6-a087-bc8ff7c01f94",
   "metadata": {},
   "outputs": [
    {
     "name": "stdout",
     "output_type": "stream",
     "text": [
      "result witout formating:  [449.33333333 329.33333333 549.33333333]\n",
      "iPhone 6 = 449, iPhone 11 = 329, iPhone 12 = 549\n",
      "1327\n"
     ]
    }
   ],
   "source": [
    "#Task 2\n",
    "import numpy as np\n",
    "\n",
    "A = np.array([[1, 1, 1], [1, -1, 0], [1, 0, -1]])\n",
    "b = np.array([1328, 120, -100])\n",
    "x = np.linalg.inv(A).dot(b)\n",
    "y = np.array(x)\n",
    "x_rounded = np.round(y).astype(int)\n",
    "\n",
    "print('result witout formating: ', x)\n",
    "print(\"iPhone 6 = {}, iPhone 11 = {}, iPhone 12 = {}\".format(x_rounded[0], x_rounded[1], x_rounded[2]))\n",
    "print(sum(x_rounded))"
   ]
  },
  {
   "cell_type": "code",
   "execution_count": 19,
   "id": "d687a997-d6c3-4664-9c5f-19279bd605eb",
   "metadata": {},
   "outputs": [
    {
     "name": "stdout",
     "output_type": "stream",
     "text": [
      "a^2 = 0.8794216958470753\n",
      "b^2 = 4.226086942130732\n",
      "c^2 = 1.1225505442059402\n",
      "\n",
      "a = 0.9377748641582773\n",
      "b = 2.055744863092386\n",
      "c = 1.059504858037914\n"
     ]
    }
   ],
   "source": [
    "#Task 3\n",
    "import numpy as np\n",
    "\n",
    "# задані точки A, B та C\n",
    "A = np.array([np.sqrt(3), 0, np.sqrt(3)])\n",
    "B = np.array([np.sqrt(6), 1/2, 0])\n",
    "C = np.array([1, 1/np.sqrt(3), 1])\n",
    "\n",
    "# знаходимо вектори сторін еліпсоїда\n",
    "AB = B - A\n",
    "AC = C - A\n",
    "\n",
    "# знаходимо вектор нормалі до площини еліпсоїда\n",
    "n = np.cross(AB, AC)\n",
    "\n",
    "# знаходимо параметри a^2, b^2 та c^2\n",
    "a2 = np.linalg.norm(AC) ** 2 / (2 * (1 - np.dot(AB, AC) ** 2 / (np.linalg.norm(AB) ** 2 * np.linalg.norm(AC) ** 2)))\n",
    "b2 = np.linalg.norm(np.cross(n, AB)) ** 2 / np.linalg.norm(AB) ** 2\n",
    "c2 = np.linalg.norm(n) ** 2 / np.linalg.norm(AB) ** 2\n",
    "\n",
    "# виводимо результат\n",
    "print(\"a^2 =\", a2)\n",
    "print(\"b^2 =\", b2)\n",
    "print(\"c^2 =\", c2)\n",
    "print()\n",
    "\n",
    "# знаходимо параметри a, b та c\n",
    "a = np.sqrt(a2)\n",
    "b = np.sqrt(b2)\n",
    "c = np.sqrt(c2)\n",
    "\n",
    "# виводимо результат\n",
    "print(\"a =\", a)\n",
    "print(\"b =\", b)\n",
    "print(\"c =\", c)\n"
   ]
  },
  {
   "cell_type": "code",
   "execution_count": 3,
   "id": "09219638-943d-4f4c-9e55-c5874fe2a9c0",
   "metadata": {},
   "outputs": [
    {
     "name": "stdout",
     "output_type": "stream",
     "text": [
      "a = 4.0, b = 5.0, c = 3.0\n"
     ]
    }
   ],
   "source": [
    "#Task 4\n",
    "import numpy as np\n",
    "\n",
    "# Заданные точки\n",
    "points = np.array([[1, 12], [3, 54], [-1, 2]])\n",
    "\n",
    "# Матрица коэффициентов\n",
    "A = np.array([[1, 1, 1], [9, 3, 1], [1, -1, 1]])\n",
    "\n",
    "# Столбец свободных членов\n",
    "B = np.array([12, 54, 2])\n",
    "\n",
    "# Решение системы уравнений\n",
    "coeffs = np.linalg.solve(A, B)\n",
    "\n",
    "# Вывод коэффициентов\n",
    "print(\"a = {}, b = {}, c = {}\".format(coeffs[0], coeffs[1], coeffs[2]))"
   ]
  },
  {
   "cell_type": "code",
   "execution_count": 24,
   "id": "02d92ee7-6817-4a7d-9c5e-da8115f0c0f7",
   "metadata": {},
   "outputs": [
    {
     "name": "stdout",
     "output_type": "stream",
     "text": [
      "Random coords:\n",
      "[[0.2901932  0.13224557 0.62369505 0.54422608]\n",
      " [0.82010656 0.0395368  0.94404934 0.23857629]\n",
      " [0.67434156 0.38500177 0.5849131  0.76868382]\n",
      " [0.83275187 0.58523598 0.79327766 0.26041927]]\n",
      "Result: \n",
      "[[ -87.873224  ]\n",
      " [ 539.20124513]\n",
      " [-969.79679525]\n",
      " [ 540.21090052]]\n"
     ]
    }
   ],
   "source": [
    "#Task 5\n",
    "import numpy as np  # Import the NumPy library\n",
    "\n",
    "def get_polynom(coords):                        # Define a function that takes in a list of coordinate tuples\n",
    "    n = len(coords) - 1                         # Determine the degree of the polynomial\n",
    "    A = np.zeros((n+1, n+1))                    # Initialize a matrix A of zeros with dimensions (n+1) x (n+1)\n",
    "    b = np.zeros((n+1, 1))                      # Initialize a vector b of zeros with dimensions (n+1) x 1\n",
    "    for i in range(n+1):                        # Loop over the rows of A and b\n",
    "        for j in range(n+1):                    # Loop over the columns of A\n",
    "            A[i,j] = coords[i][0]**j            # Set the i,jth entry of A to x_i^j\n",
    "        b[i] = coords[i][1]                     # Set the ith entry of b to y_i\n",
    "    return np.linalg.solve(A, b)                # Solve the system of linear equations and return the coefficients of the polynomial\n",
    "\n",
    "coords = np.random.random((4, 4))               # Define a list of coordinate tuples\n",
    "print('Random coords:', coords, sep='\\n')\n",
    "coefs = get_polynom(coords)                     # Call the get_polynom function and store the coefficients in coefs\n",
    "print('Result: ', coefs, sep='\\n')                            # Print the coefficients of the polynomial"
   ]
  }
 ],
 "metadata": {
  "kernelspec": {
   "display_name": "Python 3 (ipykernel)",
   "language": "python",
   "name": "python3"
  },
  "language_info": {
   "codemirror_mode": {
    "name": "ipython",
    "version": 3
   },
   "file_extension": ".py",
   "mimetype": "text/x-python",
   "name": "python",
   "nbconvert_exporter": "python",
   "pygments_lexer": "ipython3",
   "version": "3.9.13"
  }
 },
 "nbformat": 4,
 "nbformat_minor": 5
}
