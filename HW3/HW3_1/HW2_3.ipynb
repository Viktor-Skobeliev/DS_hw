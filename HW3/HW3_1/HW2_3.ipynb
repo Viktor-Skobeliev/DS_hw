{
 "cells": [
  {
   "cell_type": "code",
   "execution_count": 1,
   "id": "f0ecc0cc-74dc-474e-be43-e2389d962266",
   "metadata": {},
   "outputs": [
    {
     "name": "stdout",
     "output_type": "stream",
     "text": [
      "                                                name  \\\n",
      "0                      10-Day Green Smoothie Cleanse   \n",
      "1                                  11/22/63: A Novel   \n",
      "2            12 Rules for Life: An Antidote to Chaos   \n",
      "3                             1984 (Signet Classics)   \n",
      "4  5,000 Awesome Facts (About Everything!) (Natio...   \n",
      "\n",
      "                     author  user_rating  reviews  price  year        genre  \n",
      "0                  JJ Smith          4.7    17350      8  2016  Non Fiction  \n",
      "1              Stephen King          4.6     2052     22  2011      Fiction  \n",
      "2        Jordan B. Peterson          4.7    18979     15  2018  Non Fiction  \n",
      "3             George Orwell          4.7    21424      6  2017      Fiction  \n",
      "4  National Geographic Kids          4.8     7665     12  2019  Non Fiction  \n"
     ]
    }
   ],
   "source": [
    "import os\n",
    "import pandas as pd\n",
    "import matplotlib.pyplot as plt\n",
    "import seaborn as sns\n",
    "%matplotlib inline\n",
    "\n",
    "#зчитування з файлу\n",
    "df = pd.read_csv('bestsellers with categories.csv')\n",
    "df.columns = ['name', 'author', 'user_rating', 'reviews', 'price', 'year', 'genre']\n",
    "print(df.head())"
   ]
  },
  {
   "cell_type": "code",
   "execution_count": 2,
   "id": "ee6d8223-7745-4b31-a3ef-d3f136a694df",
   "metadata": {},
   "outputs": [],
   "source": [
    "def write_to_file(data):\n",
    "    with open(os.path.join(os.getcwd(), 'answers.txt'), 'a') as f:\n",
    "        f.write(str(data + '\\n'))\n"
   ]
  },
  {
   "cell_type": "code",
   "execution_count": 3,
   "id": "d415795f-09e5-4deb-946c-e7380a80e853",
   "metadata": {},
   "outputs": [
    {
     "name": "stdout",
     "output_type": "stream",
     "text": [
      "name           0\n",
      "author         0\n",
      "user_rating    0\n",
      "reviews        0\n",
      "price          0\n",
      "year           0\n",
      "genre          0\n",
      "dtype: int64\n"
     ]
    }
   ],
   "source": [
    "# Подсчет пропусков в каждом столбце\n",
    "num_missing = df.isna().sum()\n",
    "\n",
    "# Вывод количества пропусков в каждом столбце\n",
    "print(num_missing)\n",
    "\n",
    "# Запись ответа на вопрос в файл\n",
    "if num_missing.sum() > 0:\n",
    "    write_to_file('Чи є в якихось змінних пропуски? Відповідь: так')\n",
    "else:\n",
    "    write_to_file('Чи є в якихось змінних пропуски? Відповідь: ні')"
   ]
  },
  {
   "cell_type": "code",
   "execution_count": 4,
   "id": "a186c665-03ab-408d-b2f8-eb8af8e5b472",
   "metadata": {},
   "outputs": [
    {
     "name": "stdout",
     "output_type": "stream",
     "text": [
      "['Non Fiction' 'Fiction']\n"
     ]
    }
   ],
   "source": [
    "# Які є унікальні жанри?\n",
    "\n",
    "unique_genres = df['genre'].unique()\n",
    "print(unique_genres)\n",
    "\n",
    "write_to_file('Які є унікальні жанри? Відповідь: ' + ', '.join(unique_genres))"
   ]
  },
  {
   "cell_type": "code",
   "execution_count": 5,
   "id": "2dfe9f9b-157f-4286-8f42-8aa5d4f2b355",
   "metadata": {},
   "outputs": [
    {
     "data": {
      "image/png": "[encoded data removed]",
      "text/plain": [
       "<Figure size 640x480 with 1 Axes>"
      ]
     },
     "metadata": {},
     "output_type": "display_data"
    }
   ],
   "source": [
    "# діаграмa розподілy цін \n",
    "\n",
    "df['price'].plot(kind='hist')\n",
    "plt.show()"
   ]
  },
  {
   "cell_type": "code",
   "execution_count": 6,
   "id": "e52e7cb7-6721-406a-a32e-af7048024b89",
   "metadata": {},
   "outputs": [
    {
     "name": "stdout",
     "output_type": "stream",
     "text": [
      "Яка ціна у нас максимальна? Відповідь: 105\n",
      "Яка ціна у нас мінімальна? Відповідь: 0\n",
      "Яка ціна у нас середня? Відповідь: 13.1\n",
      "Яка у нас медіанна цін? Відповідь: 11.0\n"
     ]
    }
   ],
   "source": [
    "# Визначте, яка ціна у нас максимальна, мінімальна, середня, медіанна (використовуйте функції max, min, mean, median)\n",
    "\n",
    "max_price = df['price'].max()\n",
    "min_price = df['price'].min()\n",
    "mean_price = df['price'].mean()\n",
    "median_price = df['price'].median()\n",
    "print(f\"Яка ціна у нас максимальна? Відповідь: {max_price}\")\n",
    "print(f\"Яка ціна у нас мінімальна? Відповідь: {min_price}\")\n",
    "print(f\"Яка ціна у нас середня? Відповідь: {mean_price}\")\n",
    "print(f\"Яка у нас медіанна цін? Відповідь: {median_price}\")\n",
    "\n",
    "write_to_file(f\"Яка ціна у нас максимальна? Відповідь: {max_price}\")\n",
    "write_to_file(f\"Яка ціна у нас мінімальна? Відповідь: {min_price}\")\n",
    "write_to_file(f\"Яка ціна у нас середня? Відповідь: {mean_price}\")\n",
    "write_to_file(f\"Яка у нас медіанна цін? Відповідь: {median_price}\")"
   ]
  },
  {
   "cell_type": "code",
   "execution_count": 7,
   "id": "d965d767-9f57-44cb-b438-9c352f596114",
   "metadata": {},
   "outputs": [
    {
     "name": "stdout",
     "output_type": "stream",
     "text": [
      "Який рейтинг у датасеті найвищий? Відповідь: 105\n"
     ]
    }
   ],
   "source": [
    "# найвищий рейтинг у датасеті\n",
    "\n",
    "max_rating = df['user_rating'].max()\n",
    "\n",
    "print(f\"Який рейтинг у датасеті найвищий? Відповідь: {max_price}\")\n",
    "write_to_file(f\"Який рейтинг у датасеті найвищий? Відповідь: {max_price}\")\n"
   ]
  },
  {
   "cell_type": "code",
   "execution_count": 8,
   "id": "18f2d09a-e524-439d-9e43-d36e2b599dc5",
   "metadata": {},
   "outputs": [
    {
     "name": "stdout",
     "output_type": "stream",
     "text": [
      "Скільки книг мають такий рейтинг? Відповідь: 52\n"
     ]
    }
   ],
   "source": [
    "# Скільки книг мають такий рейтинг?\n",
    "\n",
    "num_books = df[df['user_rating'] == max_rating]['user_rating'].value_counts().iloc[0]\n",
    "\n",
    "print(f\"Скільки книг мають такий рейтинг? Відповідь: {num_books}\")\n",
    "write_to_file(f\"Скільки книг мають такий рейтинг? Відповідь: {num_books}\")\n"
   ]
  },
  {
   "cell_type": "code",
   "execution_count": 9,
   "id": "0cf8508b-89ec-401f-bac4-2d3edb03c6de",
   "metadata": {},
   "outputs": [
    {
     "name": "stdout",
     "output_type": "stream",
     "text": [
      "Яка книга має найбільше відгуків? Відповідь: Where the Crawdads Sing\n"
     ]
    }
   ],
   "source": [
    "# Яка книга має найбільше відгуків?\n",
    "\n",
    "df['reviews'] = df['reviews'].astype(str)\n",
    "max_reviews = df.loc[df['reviews'].astype(int).idxmax(), 'name']\n",
    "\n",
    "print(f\"Яка книга має найбільше відгуків? Відповідь: {max_reviews}\")\n",
    "write_to_file(f\"Яка книга має найбільше відгуків? Відповідь: {max_reviews}\")"
   ]
  },
  {
   "cell_type": "code",
   "execution_count": 10,
   "id": "b583c5cb-e9ec-45e3-a310-629d08b2ee63",
   "metadata": {},
   "outputs": [
    {
     "name": "stdout",
     "output_type": "stream",
     "text": [
      "Яка найдорожча книга 2015 року з топ 50? Відповідь: Publication Manual of the American Psychological Association, 6th Edition\n"
     ]
    }
   ],
   "source": [
    "# З тих книг, що потрапили до Топ-50 у 2015 році, яка книга найдорожча (можна використати проміжний датафрейм)?\n",
    "\n",
    "# Вибірка книг з Топ-50 2015 року\n",
    "top_books_2015 = df.loc[(df['year'] == 2015) & (df['user_rating'] >= 4.5)]\n",
    "\n",
    "# Сортування за зростанням ціни та вибір найдорожчої книги\n",
    "expensive_book = top_books_2015.sort_values('price', ascending=False).iloc[0]\n",
    "\n",
    "print(f\"Яка найдорожча книга 2015 року з топ 50? Відповідь: {expensive_book['name']}\")\n",
    "write_to_file(f\"Яка найдорожча книга 2015 року з топ 50? Відповідь: {expensive_book['name']}\")"
   ]
  },
  {
   "cell_type": "code",
   "execution_count": 11,
   "id": "4592aa6b-db2a-4b6f-92a1-42e263ce5cc6",
   "metadata": {},
   "outputs": [
    {
     "name": "stdout",
     "output_type": "stream",
     "text": [
      "Скільки книг жанру Fiction потрапили до Топ-50 у 2010 році? Відповідь: 20\n"
     ]
    }
   ],
   "source": [
    "# Скільки книг жанру Fiction потрапили до Топ-50 у 2010 році?\n",
    "\n",
    "fiction_2010 = df[(df['genre'] == 'Fiction') & (df['year'] == 2010)]\n",
    "num_fiction_2010 = fiction_2010.shape[0]\n",
    "\n",
    "print(f\"Скільки книг жанру Fiction потрапили до Топ-50 у 2010 році? Відповідь: {num_fiction_2010}\")\n",
    "write_to_file(f\"Скільки книг жанру Fiction потрапили до Топ-50 у 2010 році? Відповідь: {num_fiction_2010}\")"
   ]
  },
  {
   "cell_type": "code",
   "execution_count": 12,
   "id": "7b68f77c-46bc-4f6d-84a8-20ce7940c1fa",
   "metadata": {},
   "outputs": [
    {
     "name": "stdout",
     "output_type": "stream",
     "text": [
      "Скільки книг з рейтингом 4.9 потрапило до рейтингу у 2010 та 2011 роках? Відповідь: 1\n"
     ]
    }
   ],
   "source": [
    "# Скільки книг з рейтингом 4.9 потрапило до рейтингу у 2010 та 2011 роках\n",
    "\n",
    "# Вибираємо книги з рейтингом 4.9\n",
    "df_49 = df[df['user_rating'] == 4.9]\n",
    "\n",
    "# Вибираємо книги, які потрапили до рейтингу у 2010 та 2011 роках\n",
    "df_1011 = df[df['year'].isin([2010, 2011])]\n",
    "\n",
    "# Об'єднуємо датафрейми за допомогою оператора \"або\"\n",
    "df_49_1011 = df_49[(df_49['year'] == 2010) | (df_49['year'] == 2011)]\n",
    "\n",
    "# Знаходимо кількість книг у датафреймі df_49_1011\n",
    "count_49_1011 = len(df_49_1011)\n",
    "\n",
    "print(f\"Скільки книг з рейтингом 4.9 потрапило до рейтингу у 2010 та 2011 роках? Відповідь: {count_49_1011}\")\n",
    "write_to_file(f\"Скільки книг з рейтингом 4.9 потрапило до рейтингу у 2010 та 2011 роках? Відповідь: {count_49_1011}\")"
   ]
  },
  {
   "cell_type": "code",
   "execution_count": 13,
   "id": "23db9662-92c3-4f87-aa7a-d0d065b21747",
   "metadata": {},
   "outputs": [
    {
     "name": "stdout",
     "output_type": "stream",
     "text": [
      "Яка книга остання у відсортованому списку? Відповідь: Old School (Diary of a Wimpy Kid #10)\n"
     ]
    }
   ],
   "source": [
    "# Відсортуємо за зростанням ціни всі книги, які потрапили до рейтингу в 2015 році і коштують дешевше за 8 доларів\n",
    "\n",
    "# відфільтруємо дані\n",
    "filtered_books = df[(df['year'] == 2015) & (df['price'] < 8)]\n",
    "\n",
    "# відсортуємо результат\n",
    "sorted_books = filtered_books.sort_values('price')\n",
    "\n",
    "# знайдемо останню книгу у списку\n",
    "last_book = sorted_books.iloc[-1]['name']\n",
    "\n",
    "# відповідь запишемо в файл\n",
    "print(f\"Яка книга остання у відсортованому списку? Відповідь: {last_book}\")\n",
    "write_to_file(f\"Яка книга остання у відсортованому списку? Відповідь: {last_book}\")"
   ]
  },
  {
   "cell_type": "code",
   "execution_count": 14,
   "id": "f9621cb5-ed54-4915-982a-82938d27180c",
   "metadata": {},
   "outputs": [
    {
     "name": "stdout",
     "output_type": "stream",
     "text": [
      "Максимальна ціна для жанру Fiction? Відповідь: 82\n",
      "Мінімальна ціна для жанру Fiction? Відповідь: 0\n",
      "Максимальна ціна для жанру Non Fiction? Відповідь: 105\n",
      "Мінімальна ціна для жанру Non Fiction? Відповідь: 0\n"
     ]
    }
   ],
   "source": [
    "# подивимося на максимальну та мінімальну ціни для кожного з жанрів\n",
    "\n",
    "\n",
    "\n",
    "# групуємо за жанрами та знаходимо мінімальну та максимальну ціни\n",
    "price_stats = df.groupby('genre')['price'].agg(['max', 'min'])\n",
    "\n",
    "print(f\"Максимальна ціна для жанру Fiction? Відповідь: {price_stats.loc['Fiction', 'max']}\")\n",
    "print(f\"Мінімальна ціна для жанру Fiction? Відповідь: {price_stats.loc['Fiction', 'min']}\")\n",
    "print(f\"Максимальна ціна для жанру Non Fiction? Відповідь: {price_stats.loc['Non Fiction', 'max']}\")\n",
    "print(f\"Мінімальна ціна для жанру Non Fiction? Відповідь: {price_stats.loc['Non Fiction', 'min']}\")\n",
    "\n",
    "# записуємо результат в файл\n",
    "\n",
    "write_to_file(f\"Максимальна ціна для жанру Fiction? Відповідь: {price_stats.loc['Fiction', 'max']}\")\n",
    "write_to_file(f\"Мінімальна ціна для жанру Fiction? Відповідь: {price_stats.loc['Fiction', 'min']}\")\n",
    "write_to_file(f\"Максимальна ціна для жанру Non Fiction? Відповідь: {price_stats.loc['Non Fiction', 'max']}\")\n",
    "write_to_file(f\"Мінімальна ціна для жанру Non Fiction? Відповідь: {price_stats.loc['Non Fiction', 'min']}\")\n",
    "\n"
   ]
  },
  {
   "cell_type": "code",
   "execution_count": 15,
   "id": "463ff04b-3a3b-4f3e-9209-4122514dc0c8",
   "metadata": {},
   "outputs": [
    {
     "name": "stdout",
     "output_type": "stream",
     "text": [
      "Якої розмірності вийшла таблиця? Відповідь: (248, 1)\n",
      "Який автор має найбільше книг? Відповідь: Jeff Kinney\n",
      "Скільки книг цього автора? Відповідь: 12\n"
     ]
    }
   ],
   "source": [
    "# новий датафрейм, який вміщатиме кількість книг для кожного з авторів\n",
    "\n",
    "book_count = df.groupby('author').agg({'name': 'count'})\n",
    "\n",
    "# Розмірність таблиці\n",
    "\n",
    "print(f\"Якої розмірності вийшла таблиця? Відповідь: {book_count.shape}\")\n",
    "\n",
    "\n",
    "# Автор з найбільшою кількістю книг\n",
    "max_author = book_count['name'].idxmax()\n",
    "print(f\"Який автор має найбільше книг? Відповідь: {max_author}\")\n",
    "\n",
    "\n",
    "# Кількість книг цього автора\n",
    "\n",
    "max_books = book_count.loc[max_author, 'name']\n",
    "\n",
    "print(f\"Скільки книг цього автора? Відповідь: {max_books}\")\n",
    "\n",
    "write_to_file(f\"Якої розмірності вийшла таблиця? Відповідь: {book_count.shape}\")\n",
    "write_to_file(f\"Який автор має найбільше книг? Відповідь: {max_author}\")\n",
    "write_to_file(f\"Скільки книг цього автора? Відповідь: {max_books}\")"
   ]
  },
  {
   "cell_type": "code",
   "execution_count": 16,
   "id": "2e8350d8-2e5a-4f2d-9d79-85f5958a3713",
   "metadata": {},
   "outputs": [
    {
     "name": "stdout",
     "output_type": "stream",
     "text": [
      "У якого автора середній рейтинг мінімальний? Відповідь: Donna Tartt\n",
      "У якого автора середній рейтинг мінімальний? Відповідь: 3.9\n"
     ]
    }
   ],
   "source": [
    "# другий датафрейм\n",
    "\n",
    "df_author = df.groupby('author')['user_rating'].mean().reset_index()\n",
    "df_author.columns = ['author', 'avg_rating']\n",
    "\n",
    "# Для знаходження автора з найменшим середнім рейтингом, ми можемо відсортувати другий датафрейм за зростанням середнього рейтингу та взяти перший рядок\n",
    "\n",
    "min_avg_rating_author = df_author.sort_values('avg_rating').iloc[0]['author']\n",
    "\n",
    "# Тепер, щоб отримати середній рейтинг для цього автора, ми можемо використати метод loc\n",
    "\n",
    "min_avg_rating = df_author.loc[df_author['author'] == min_avg_rating_author]['avg_rating'].values[0]\n",
    "\n",
    "print(f\"У якого автора середній рейтинг мінімальний? Відповідь: {min_avg_rating_author}\")\n",
    "print(f\"У якого автора середній рейтинг мінімальний? Відповідь: {min_avg_rating}\")\n",
    "\n",
    "write_to_file(f\"У якого автора середній рейтинг мінімальний? Відповідь: {min_avg_rating_author}\")\n",
    "write_to_file(f\"Який у цього автора середній рейтинг? Відповідь: {min_avg_rating}\")"
   ]
  },
  {
   "cell_type": "code",
   "execution_count": 17,
   "id": "71076102-ff15-436e-9d2d-974820e6cd50",
   "metadata": {},
   "outputs": [
    {
     "name": "stdout",
     "output_type": "stream",
     "text": [
      "                            book_count  avg_rating\n",
      "Abraham Verghese                   2.0         NaN\n",
      "Adam Gasiewski                     1.0         NaN\n",
      "Adam Mansbach                      1.0         NaN\n",
      "Adir Levy                          1.0         NaN\n",
      "Admiral William H. McRaven         1.0         NaN\n",
      "...                                ...         ...\n",
      "243                                NaN    4.566667\n",
      "244                                NaN    4.400000\n",
      "245                                NaN    4.600000\n",
      "246                                NaN    4.800000\n",
      "247                                NaN    4.600000\n",
      "\n",
      "[496 rows x 2 columns]\n",
      "Index(['book_count', 'avg_rating'], dtype='object')\n"
     ]
    }
   ],
   "source": [
    "# з'єднання двох датафреймів\n",
    "result_df = pd.concat([book_count, df_author['avg_rating']], axis=1)\n",
    "result_df.columns = ['book_count', 'avg_rating']\n",
    "print(result_df)\n",
    "print(result_df.columns)"
   ]
  },
  {
   "cell_type": "code",
   "execution_count": 18,
   "id": "3e0a0210-3e43-461c-a32d-9d9e48df7d9e",
   "metadata": {},
   "outputs": [
    {
     "name": "stdout",
     "output_type": "stream",
     "text": [
      "Перший автор у списку? Відповідь: Adam Gasiewski\n"
     ]
    }
   ],
   "source": [
    "# сортування датафрейму за зростаючою кількістю книг та зростаючим рейтингом\n",
    "result_df_sorted = result_df.sort_values(by=['book_count', 'avg_rating'], ascending=[True, True])\n",
    "\n",
    "# виведення першого автора зі списку\n",
    "first_author = result_df_sorted.index[0]\n",
    "\n",
    "print(f\"Перший автор у списку? Відповідь: {first_author}\")\n",
    "\n",
    "write_to_file(f\"Який автор перший у списку? Відповідь: {first_author}\")"
   ]
  },
  {
   "cell_type": "code",
   "execution_count": 2,
   "id": "90633ea3-899c-4758-af4a-81db87c6b9fa",
   "metadata": {},
   "outputs": [
    {
     "data": {
      "image/png": "[encoded data removed]",
      "text/plain": [
       "<Figure size 640x480 with 1 Axes>"
      ]
     },
     "metadata": {},
     "output_type": "display_data"
    }
   ],
   "source": [
    "# Загрузка стиля\n",
    "plt.style.use('ggplot')\n",
    "\n",
    "# Создание гистограммы\n",
    "sns.histplot(df['user_rating'], kde=False, bins=10)\n",
    "\n",
    "# Добавление заголовка и меток осей\n",
    "plt.title('Распределение оценок пользователей')\n",
    "plt.xlabel('Оценка')\n",
    "plt.ylabel('Количество')\n",
    "\n",
    "# Отображение графика\n",
    "plt.show()"
   ]
  },
  {
   "cell_type": "code",
   "execution_count": 3,
   "id": "d2d14e36-4fd6-4346-bc90-00e454fc5b14",
   "metadata": {},
   "outputs": [
    {
     "data": {
      "image/png": "[encoded data removed]",
      "text/plain": [
       "<Figure size 640x480 with 1 Axes>"
      ]
     },
     "metadata": {},
     "output_type": "display_data"
    }
   ],
   "source": [
    "# Загрузка стиля\n",
    "plt.style.use('seaborn-dark')\n",
    "\n",
    "# Создание ящика с усами\n",
    "sns.boxplot(x='genre', y='price', data=df)\n",
    "\n",
    "# Добавление заголовка и меток осей\n",
    "plt.title('Распределение цен книг по жанрам')\n",
    "plt.xlabel('Жанр')\n",
    "plt.ylabel('Цена')\n",
    "\n",
    "# Отображение графика\n",
    "plt.show()\n"
   ]
  },
  {
   "cell_type": "code",
   "execution_count": 4,
   "id": "9388c106-1ae3-4fd2-bcf8-547f210b4480",
   "metadata": {},
   "outputs": [
    {
     "data": {
      "image/png": "[encoded data removed]",
      "text/plain": [
       "<Figure size 640x480 with 1 Axes>"
      ]
     },
     "metadata": {},
     "output_type": "display_data"
    }
   ],
   "source": [
    "# Загрузка стиля\n",
    "plt.style.use('default')\n",
    "\n",
    "# Создание графика распределения цен по годам\n",
    "sns.lineplot(x='year', y='price', data=df, ci=None)\n",
    "\n",
    "# Добавление заголовка и меток осей\n",
    "plt.title('Распределение цен книг по годам')\n",
    "plt.xlabel('Год')\n",
    "plt.ylabel('Цена')\n",
    "\n",
    "# Отображение графика\n",
    "plt.show()\n"
   ]
  },
  {
   "cell_type": "code",
   "execution_count": null,
   "id": "0ecae175-a5a7-4048-83f1-d9488401f076",
   "metadata": {},
   "outputs": [],
   "source": []
  }
 ],
 "metadata": {
  "kernelspec": {
   "display_name": "Python 3 (ipykernel)",
   "language": "python",
   "name": "python3"
  },
  "language_info": {
   "codemirror_mode": {
    "name": "ipython",
    "version": 3
   },
   "file_extension": ".py",
   "mimetype": "text/x-python",
   "name": "python",
   "nbconvert_exporter": "python",
   "pygments_lexer": "ipython3",
   "version": "3.9.13"
  }
 },
 "nbformat": 4,
 "nbformat_minor": 5
}
