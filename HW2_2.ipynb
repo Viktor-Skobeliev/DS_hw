{
 "cells": [
  {
   "cell_type": "code",
   "execution_count": 1,
   "id": "2a1d51fc-79e5-4408-af39-c3a135ccd25a",
   "metadata": {},
   "outputs": [],
   "source": [
    "import pandas as pd\n",
    "\n",
    "\n",
    "#зчитування з файлу\n",
    "data = pd.read_csv('2017_jun_final.csv')"
   ]
  },
  {
   "cell_type": "code",
   "execution_count": 2,
   "id": "45bdaac3-a004-41a1-bfcc-2791568b05d3",
   "metadata": {},
   "outputs": [
    {
     "name": "stdout",
     "output_type": "stream",
     "text": [
      "   N                 Должность Язык.программирования Специализация  \\\n",
      "0  1        Junior QA engineer                   NaN     Manual QA   \n",
      "1  2        Junior QA engineer                   NaN     Manual QA   \n",
      "2  3         Software Engineer               C#/.NET           NaN   \n",
      "3  4         Software Engineer            JavaScript           NaN   \n",
      "4  5  Senior Software Engineer            JavaScript           NaN   \n",
      "\n",
      "  Общий.опыт.работы Опыт.работы.на.текущем.месте  Зарплата.в.месяц  \\\n",
      "0               0.5                          0.5               400   \n",
      "1  меньше 3 месяцев             меньше 3 месяцев               430   \n",
      "2                 4                            1              2500   \n",
      "3                 5                            4              2000   \n",
      "4    10 и более лет                          0.5              4500   \n",
      "\n",
      "   Изменение.зарплаты.за.12.месяцев    Город     Размер.компании  ...  \\\n",
      "0                                 0  Харьков       до 10 человек  ...   \n",
      "1                               130  Харьков  свыше 1000 человек  ...   \n",
      "2                               800     Киев     до 1000 человек  ...   \n",
      "3                               400   Одесса      до 200 человек  ...   \n",
      "4                               500   Другой       до 10 человек  ...   \n",
      "\n",
      "  Еще.студент Уровень.английского                    Предметная.область  \\\n",
      "0        True       ниже среднего                         iOS,eCommerce   \n",
      "1        True       выше среднего                        Веб-разработка   \n",
      "2       False             средний  Веб-разработка,Корпоративные системы   \n",
      "3       False       ниже среднего   Desktop Applications,Веб-разработка   \n",
      "4       False             средний   Desktop Applications,Веб-разработка   \n",
      "\n",
      "       Дата.заполнения                                         User.Agent  \\\n",
      "0  12/06/2017 12:38:08  Mozilla/5.0 (Windows NT 10.0; Win64; x64) Appl...   \n",
      "1  12/06/2017 12:42:51  Mozilla/5.0 (iPad; CPU OS 10_2_1 like Mac OS X...   \n",
      "2  12/06/2017 13:02:47  Mozilla/5.0 (Windows NT 10.0; Win64; x64) Appl...   \n",
      "3  12/06/2017 13:03:01  Mozilla/5.0 (Windows NT 6.1; Win64; x64) Apple...   \n",
      "4  12/06/2017 13:03:47  Mozilla/5.0 (iPhone; CPU iPhone OS 10_3_2 like...   \n",
      "\n",
      "    exp current_job_exp salary Валюта  cls  \n",
      "0   0.5             0.5    400    NaN   QA  \n",
      "1   0.0             0.0    430    NaN   QA  \n",
      "2   4.0             1.0   2500    NaN  DEV  \n",
      "3   5.0             4.0   2000    NaN  DEV  \n",
      "4  10.0             0.5   4500    NaN  DEV  \n",
      "\n",
      "[5 rows x 25 columns]\n"
     ]
    }
   ],
   "source": [
    "# Использование метода head() для просмотра первых пяти строк таблицы\n",
    "print(data.head())"
   ]
  },
  {
   "cell_type": "code",
   "execution_count": 3,
   "id": "26a0959c-9786-422b-9cb8-fa5efec09b3b",
   "metadata": {},
   "outputs": [
    {
     "name": "stdout",
     "output_type": "stream",
     "text": [
      "(8704, 25)\n"
     ]
    }
   ],
   "source": [
    "# Использование метода shape для определения размера таблицы\n",
    "print(data.shape)"
   ]
  },
  {
   "cell_type": "code",
   "execution_count": 4,
   "id": "db256086-8278-461f-8d50-636e6d56714b",
   "metadata": {},
   "outputs": [
    {
     "name": "stdout",
     "output_type": "stream",
     "text": [
      "N                                     int64\n",
      "Должность                            object\n",
      "Язык.программирования                object\n",
      "Специализация                        object\n",
      "Общий.опыт.работы                    object\n",
      "Опыт.работы.на.текущем.месте         object\n",
      "Зарплата.в.месяц                      int64\n",
      "Изменение.зарплаты.за.12.месяцев      int64\n",
      "Город                                object\n",
      "Размер.компании                      object\n",
      "Тип.компании                         object\n",
      "Пол                                  object\n",
      "Возраст                               int64\n",
      "Образование                          object\n",
      "Университет                          object\n",
      "Еще.студент                            bool\n",
      "Уровень.английского                  object\n",
      "Предметная.область                   object\n",
      "Дата.заполнения                      object\n",
      "User.Agent                           object\n",
      "exp                                 float64\n",
      "current_job_exp                     float64\n",
      "salary                                int64\n",
      "Валюта                               object\n",
      "cls                                  object\n",
      "dtype: object\n"
     ]
    }
   ],
   "source": [
    "# Использование метода dtypes для определения типов столбцов\n",
    "print(data.dtypes)"
   ]
  },
  {
   "cell_type": "code",
   "execution_count": 5,
   "id": "608f5324-92e4-4171-9d3d-523ee3b1a0c1",
   "metadata": {},
   "outputs": [
    {
     "name": "stdout",
     "output_type": "stream",
     "text": [
      "N                                   0.000000\n",
      "Должность                           0.000000\n",
      "Язык.программирования               0.442325\n",
      "Специализация                       0.829389\n",
      "Общий.опыт.работы                   0.000000\n",
      "Опыт.работы.на.текущем.месте        0.000000\n",
      "Зарплата.в.месяц                    0.000000\n",
      "Изменение.зарплаты.за.12.месяцев    0.000000\n",
      "Город                               0.000000\n",
      "Размер.компании                     0.000000\n",
      "Тип.компании                        0.000000\n",
      "Пол                                 0.000000\n",
      "Возраст                             0.000000\n",
      "Образование                         0.000000\n",
      "Университет                         0.041131\n",
      "Еще.студент                         0.000000\n",
      "Уровень.английского                 0.000000\n",
      "Предметная.область                  0.025620\n",
      "Дата.заполнения                     0.000000\n",
      "User.Agent                          0.000000\n",
      "exp                                 0.000000\n",
      "current_job_exp                     0.000000\n",
      "salary                              0.000000\n",
      "Валюта                              0.998851\n",
      "cls                                 0.180836\n",
      "dtype: float64\n"
     ]
    }
   ],
   "source": [
    "# Использование методов isnull и sum для подсчета пропущенных значений в каждом столбце\n",
    "missing_values_count = data.isnull().sum()\n",
    "\n",
    "# Вычисление доли пропущенных значений в каждом столбце\n",
    "missing_values_fraction = missing_values_count / len(data)\n",
    "\n",
    "# Вывод результата на экран\n",
    "print(missing_values_fraction)"
   ]
  },
  {
   "cell_type": "code",
   "execution_count": 6,
   "id": "f2dab3ef-9b17-4b29-ae2f-6c70eb253026",
   "metadata": {},
   "outputs": [
    {
     "name": "stdout",
     "output_type": "stream",
     "text": [
      "  Язык.программирования  N                 Должность Общий.опыт.работы  \\\n",
      "0                   NaN  1        Junior QA engineer               0.5   \n",
      "1                   NaN  2        Junior QA engineer  меньше 3 месяцев   \n",
      "2               C#/.NET  3         Software Engineer                 4   \n",
      "3            JavaScript  4         Software Engineer                 5   \n",
      "4            JavaScript  5  Senior Software Engineer    10 и более лет   \n",
      "\n",
      "  Опыт.работы.на.текущем.месте  Зарплата.в.месяц  \\\n",
      "0                          0.5               400   \n",
      "1             меньше 3 месяцев               430   \n",
      "2                            1              2500   \n",
      "3                            4              2000   \n",
      "4                          0.5              4500   \n",
      "\n",
      "   Изменение.зарплаты.за.12.месяцев    Город     Размер.компании  \\\n",
      "0                                 0  Харьков       до 10 человек   \n",
      "1                               130  Харьков  свыше 1000 человек   \n",
      "2                               800     Киев     до 1000 человек   \n",
      "3                               400   Одесса      до 200 человек   \n",
      "4                               500   Другой       до 10 человек   \n",
      "\n",
      "     Тип.компании      Пол  Возраст           Образование  Еще.студент  \\\n",
      "0  Аутсорсинговая  женский       20  Незаконченное высшее         True   \n",
      "1  Аутсорсинговая  женский       21  Незаконченное высшее         True   \n",
      "2  Аутсорсинговая  мужской       26                Высшее        False   \n",
      "3     Продуктовая  мужской       30               Среднее        False   \n",
      "4     Продуктовая  мужской       30    Техникум / Колледж        False   \n",
      "\n",
      "  Уровень.английского      Дата.заполнения  \\\n",
      "0       ниже среднего  12/06/2017 12:38:08   \n",
      "1       выше среднего  12/06/2017 12:42:51   \n",
      "2             средний  12/06/2017 13:02:47   \n",
      "3       ниже среднего  12/06/2017 13:03:01   \n",
      "4             средний  12/06/2017 13:03:47   \n",
      "\n",
      "                                          User.Agent   exp  current_job_exp  \\\n",
      "0  Mozilla/5.0 (Windows NT 10.0; Win64; x64) Appl...   0.5              0.5   \n",
      "1  Mozilla/5.0 (iPad; CPU OS 10_2_1 like Mac OS X...   0.0              0.0   \n",
      "2  Mozilla/5.0 (Windows NT 10.0; Win64; x64) Appl...   4.0              1.0   \n",
      "3  Mozilla/5.0 (Windows NT 6.1; Win64; x64) Apple...   5.0              4.0   \n",
      "4  Mozilla/5.0 (iPhone; CPU iPhone OS 10_3_2 like...  10.0              0.5   \n",
      "\n",
      "   salary  \n",
      "0     400  \n",
      "1     430  \n",
      "2    2500  \n",
      "3    2000  \n",
      "4    4500  \n"
     ]
    }
   ],
   "source": [
    "# Список столбцов для сохранения, включая столбец \"Мова програмування\"\n",
    "keep_columns = ['Язык.программирования'] + list(data.dropna(axis=1, how='any').columns)\n",
    "\n",
    "# Оставляем только столбец \"Мова програмування\" и столбцы без пропущенных значений\n",
    "clean_data = data[keep_columns]\n",
    "\n",
    "# Выводим результат на экран\n",
    "print(clean_data.head())"
   ]
  },
  {
   "cell_type": "code",
   "execution_count": 7,
   "id": "d098911e-ae07-4522-b204-b9bec2718d41",
   "metadata": {},
   "outputs": [
    {
     "name": "stdout",
     "output_type": "stream",
     "text": [
      "Язык.программирования               0.442325\n",
      "N                                   0.000000\n",
      "Должность                           0.000000\n",
      "Общий.опыт.работы                   0.000000\n",
      "Опыт.работы.на.текущем.месте        0.000000\n",
      "Зарплата.в.месяц                    0.000000\n",
      "Изменение.зарплаты.за.12.месяцев    0.000000\n",
      "Город                               0.000000\n",
      "Размер.компании                     0.000000\n",
      "Тип.компании                        0.000000\n",
      "Пол                                 0.000000\n",
      "Возраст                             0.000000\n",
      "Образование                         0.000000\n",
      "Еще.студент                         0.000000\n",
      "Уровень.английского                 0.000000\n",
      "Дата.заполнения                     0.000000\n",
      "User.Agent                          0.000000\n",
      "exp                                 0.000000\n",
      "current_job_exp                     0.000000\n",
      "salary                              0.000000\n",
      "dtype: float64\n"
     ]
    }
   ],
   "source": [
    "# Рассчитываем долю пропусков для каждого столбца\n",
    "null_fractions = clean_data.isnull().mean()\n",
    "\n",
    "# Выводим результат на экран\n",
    "print(null_fractions)"
   ]
  },
  {
   "cell_type": "code",
   "execution_count": 8,
   "id": "25679f13-e8e3-4ca7-a4d5-5b1192ba8899",
   "metadata": {},
   "outputs": [
    {
     "name": "stdout",
     "output_type": "stream",
     "text": [
      "     Язык.программирования     N                 Должность Общий.опыт.работы  \\\n",
      "2                  C#/.NET     3         Software Engineer                 4   \n",
      "3               JavaScript     4         Software Engineer                 5   \n",
      "4               JavaScript     5  Senior Software Engineer    10 и более лет   \n",
      "6                  C#/.NET     7  Junior Software Engineer                 1   \n",
      "7                      C++     8  Senior Software Engineer                 6   \n",
      "...                    ...   ...                       ...               ...   \n",
      "8692                  Java  8693         Software Engineer                 5   \n",
      "8694               C#/.NET  8695  Junior Software Engineer                 1   \n",
      "8695                Python  8696         Software Engineer                 1   \n",
      "8701            Ruby/Rails  8702  Junior Software Engineer                 1   \n",
      "8703                  Java  8704  Senior Software Engineer                 7   \n",
      "\n",
      "     Опыт.работы.на.текущем.месте  Зарплата.в.месяц  \\\n",
      "2                               1              2500   \n",
      "3                               4              2000   \n",
      "4                             0.5              4500   \n",
      "6                меньше 3 месяцев               600   \n",
      "7                               1              3300   \n",
      "...                           ...               ...   \n",
      "8692                            1              3500   \n",
      "8694                            1               550   \n",
      "8695                          0.5              1500   \n",
      "8701                          0.5               800   \n",
      "8703                            2              5000   \n",
      "\n",
      "      Изменение.зарплаты.за.12.месяцев        Город  Размер.компании  \\\n",
      "2                                  800         Киев  до 1000 человек   \n",
      "3                                  400       Одесса   до 200 человек   \n",
      "4                                  500       Другой    до 10 человек   \n",
      "6                                  100  Хмельницкий    до 50 человек   \n",
      "7                                  500         Киев    до 10 человек   \n",
      "...                                ...          ...              ...   \n",
      "8692                               650     Удаленно   до 200 человек   \n",
      "8694                               550      Харьков   до 200 человек   \n",
      "8695                              1000         Киев    до 10 человек   \n",
      "8701                               500        Львов    до 10 человек   \n",
      "8703                               800       Одесса  до 1000 человек   \n",
      "\n",
      "         Тип.компании      Пол  Возраст           Образование  Еще.студент  \\\n",
      "2      Аутсорсинговая  мужской       26                Высшее        False   \n",
      "3         Продуктовая  мужской       30               Среднее        False   \n",
      "4         Продуктовая  мужской       30    Техникум / Колледж        False   \n",
      "6      Аутсорсинговая  мужской       23                Высшее        False   \n",
      "7         Продуктовая  мужской       28                Высшее        False   \n",
      "...               ...      ...      ...                   ...          ...   \n",
      "8692   Аутсорсинговая  женский       28                Высшее        False   \n",
      "8694   Аутсорсинговая  мужской       23                Высшее        False   \n",
      "8695          Стартап  мужской       29                Высшее        False   \n",
      "8701  Аутстаффинговая  мужской       30  Незаконченное высшее        False   \n",
      "8703      Продуктовая  мужской       28                Высшее        False   \n",
      "\n",
      "     Уровень.английского      Дата.заполнения  \\\n",
      "2                средний  12/06/2017 13:02:47   \n",
      "3          ниже среднего  12/06/2017 13:03:01   \n",
      "4                средний  12/06/2017 13:03:47   \n",
      "6          ниже среднего  12/06/2017 13:04:26   \n",
      "7          выше среднего  12/06/2017 13:04:27   \n",
      "...                  ...                  ...   \n",
      "8692             средний  12/07/2017 13:26:49   \n",
      "8694       ниже среднего  12/07/2017 14:14:33   \n",
      "8695             средний  12/07/2017 14:39:21   \n",
      "8701       выше среднего  12/07/2017 17:32:26   \n",
      "8703       выше среднего  12/07/2017 21:28:57   \n",
      "\n",
      "                                             User.Agent   exp  \\\n",
      "2     Mozilla/5.0 (Windows NT 10.0; Win64; x64) Appl...   4.0   \n",
      "3     Mozilla/5.0 (Windows NT 6.1; Win64; x64) Apple...   5.0   \n",
      "4     Mozilla/5.0 (iPhone; CPU iPhone OS 10_3_2 like...  10.0   \n",
      "6     Mozilla/5.0 (Windows NT 10.0; Win64; x64) Appl...   1.0   \n",
      "7     Mozilla/5.0 (X11; Ubuntu; Linux x86_64; rv:53....   6.0   \n",
      "...                                                 ...   ...   \n",
      "8692  Mozilla/5.0 (Macintosh; Intel Mac OS X 10_12_5...   5.0   \n",
      "8694  Mozilla/5.0 (Windows NT 10.0; WOW64; rv:54.0) ...   1.0   \n",
      "8695  Mozilla/5.0 (X11; Linux x86_64) AppleWebKit/53...   1.0   \n",
      "8701  Mozilla/5.0 (X11; Linux x86_64) AppleWebKit/53...   1.0   \n",
      "8703  Mozilla/5.0 (iPad; CPU OS 10_3_2 like Mac OS X...   7.0   \n",
      "\n",
      "      current_job_exp  salary  \n",
      "2                 1.0    2500  \n",
      "3                 4.0    2000  \n",
      "4                 0.5    4500  \n",
      "6                 0.0     600  \n",
      "7                 1.0    3300  \n",
      "...               ...     ...  \n",
      "8692              1.0    3500  \n",
      "8694              1.0     550  \n",
      "8695              0.5    1500  \n",
      "8701              0.5     800  \n",
      "8703              2.0    5000  \n",
      "\n",
      "[4854 rows x 20 columns]\n"
     ]
    }
   ],
   "source": [
    "# Удаляем все строки с пропущенными значениями\n",
    "clean_data = clean_data.dropna()\n",
    "print(clean_data)"
   ]
  },
  {
   "cell_type": "code",
   "execution_count": 9,
   "id": "ca8b3e3e-91dd-4a1f-998b-dc2629863a38",
   "metadata": {},
   "outputs": [
    {
     "name": "stdout",
     "output_type": "stream",
     "text": [
      "Размерность очищенной таблицы:  (4854, 20)\n"
     ]
    }
   ],
   "source": [
    "# Выводим размерность очищенной таблицы на экран\n",
    "print(\"Размерность очищенной таблицы: \", clean_data.shape)"
   ]
  },
  {
   "cell_type": "code",
   "execution_count": 10,
   "id": "13ab13fb-6985-4625-9d9b-bb541de0d3b4",
   "metadata": {},
   "outputs": [
    {
     "name": "stdout",
     "output_type": "stream",
     "text": [
      "Размерность таблицы python_data:  (207, 20)\n"
     ]
    }
   ],
   "source": [
    "# Создаем новую таблицу python_data, в которую попадут только те строки, где указан язык программирования Python\n",
    "python_data = clean_data[clean_data['Язык.программирования'] == 'Python']\n",
    "# Выводим размерность новой таблицы на экран\n",
    "print(\"Размерность таблицы python_data: \", python_data.shape)"
   ]
  },
  {
   "cell_type": "code",
   "execution_count": 12,
   "id": "6dd68b81-951d-4c7d-a60a-f9998def884f",
   "metadata": {},
   "outputs": [
    {
     "name": "stdout",
     "output_type": "stream",
     "text": [
      "Должность\n",
      "Junior Software Engineer     63\n",
      "Senior Software Engineer     31\n",
      "Software Engineer           100\n",
      "System Architect              2\n",
      "Technical Lead               11\n",
      "dtype: int64\n"
     ]
    }
   ],
   "source": [
    "# Группируем данные по столбцу \"Посада\"\n",
    "grouped_data = python_data.groupby('Должность')\n",
    "\n",
    "# Выводим количество строк в каждой группе на экран\n",
    "print(grouped_data.size())"
   ]
  },
  {
   "cell_type": "code",
   "execution_count": 14,
   "id": "17a3c7ec-af52-4768-a36a-4ac05a1f66bf",
   "metadata": {},
   "outputs": [
    {
     "name": "stdout",
     "output_type": "stream",
     "text": [
      "                         Зарплата.в.месяц      \n",
      "                                      min   max\n",
      "Должность                                      \n",
      "Junior Software Engineer              100  1250\n",
      "Senior Software Engineer             1300  9200\n",
      "Software Engineer                     500  5400\n",
      "System Architect                     3000  5000\n",
      "Technical Lead                       1425  6200\n"
     ]
    }
   ],
   "source": [
    "# Группируем данные по столбцу \"Посада\" и находим минимальное и максимальное значение в столбце \"Зарплата.в.місяць\"\n",
    "aggregated_data = python_data.groupby('Должность').agg({'Зарплата.в.месяц': ['min', 'max']})\n",
    "\n",
    "# Выводим полученные результаты на экран\n",
    "print(aggregated_data)\n"
   ]
  },
  {
   "cell_type": "code",
   "execution_count": 22,
   "id": "e4e62220-1860-4638-af10-fe9f3d3b947d",
   "metadata": {},
   "outputs": [
    {
     "name": "stdout",
     "output_type": "stream",
     "text": [
      "    Язык.программирования    N                 Должность Общий.опыт.работы  \\\n",
      "12                 Python   13         Software Engineer                 1   \n",
      "68                 Python   69         Software Engineer               1.5   \n",
      "87                 Python   88  Junior Software Engineer               0.5   \n",
      "114                Python  115  Junior Software Engineer               1.5   \n",
      "143                Python  144  Junior Software Engineer                 1   \n",
      "\n",
      "    Опыт.работы.на.текущем.месте  Зарплата.в.месяц  \\\n",
      "12              меньше 3 месяцев               800   \n",
      "68                           0.5               900   \n",
      "87                           0.5               600   \n",
      "114                          0.5               685   \n",
      "143                            1               750   \n",
      "\n",
      "     Изменение.зарплаты.за.12.месяцев Город  Размер.компании    Тип.компании  \\\n",
      "12                                200  Киев    до 50 человек  Аутсорсинговая   \n",
      "68                                900  Киев    до 10 человек         Стартап   \n",
      "87                                  0  Киев    до 10 человек  Аутсорсинговая   \n",
      "114                               250  Киев  до 1000 человек  Аутсорсинговая   \n",
      "143                               250  Киев    до 10 человек  Аутсорсинговая   \n",
      "\n",
      "     ... Возраст           Образование Еще.студент  Уровень.английского  \\\n",
      "12   ...      26                Высшее       False        ниже среднего   \n",
      "68   ...      21  Незаконченное высшее        True        выше среднего   \n",
      "87   ...      19  Незаконченное высшее        True        выше среднего   \n",
      "114  ...      21  Незаконченное высшее       False              средний   \n",
      "143  ...      21  Незаконченное высшее        True        выше среднего   \n",
      "\n",
      "         Дата.заполнения                                         User.Agent  \\\n",
      "12   12/06/2017 13:05:54  Mozilla/5.0 (Windows NT 6.1; Win64; x64) Apple...   \n",
      "68   12/06/2017 13:11:17  Mozilla/5.0 (Windows NT 10.0; Win64; x64) Appl...   \n",
      "87   12/06/2017 13:12:25  Mozilla/5.0 (X11; Linux x86_64) AppleWebKit/53...   \n",
      "114  12/06/2017 13:14:52  Mozilla/5.0 (X11; Linux x86_64) AppleWebKit/53...   \n",
      "143  12/06/2017 13:19:10  Mozilla/5.0 (X11; Linux x86_64) AppleWebKit/53...   \n",
      "\n",
      "     exp  current_job_exp  salary    avg  \n",
      "12   1.0              0.0     800  800.0  \n",
      "68   1.5              0.5     900  900.0  \n",
      "87   0.5              0.5     600  600.0  \n",
      "114  1.5              0.5     685  685.0  \n",
      "143  1.0              1.0     750  750.0  \n",
      "\n",
      "[5 rows x 21 columns]\n"
     ]
    }
   ],
   "source": [
    "def fill_avg_salary(row):\n",
    "    salary_columns = [col for col in row.index if col.startswith('Зарплата.')]\n",
    "    return row[salary_columns].mean()\n",
    "\n",
    "# Створюємо копію DataFrame для уникнення помилки A value is trying to be set on a copy of a slice from a DataFrame; A value is trying to be set on a copy of a slice from a DataFrame\n",
    "python_data_copy = python_data.copy()\n",
    "\n",
    "# Використовуємо .loc для створення нового стовпчика\n",
    "python_data_copy.loc[:, 'avg'] = python_data_copy.apply(fill_avg_salary, axis=1)\n",
    "\n",
    "# Виводимо на екран перші 5 рядків з DataFrame\n",
    "print(python_data_copy.head())\n"
   ]
  },
  {
   "cell_type": "code",
   "execution_count": 23,
   "id": "db2a0a91-f9e5-4230-8a73-42ee666abe91",
   "metadata": {},
   "outputs": [
    {
     "name": "stdout",
     "output_type": "stream",
     "text": [
      "count     207.000000\n",
      "mean     1753.937198\n",
      "std      1314.751537\n",
      "min       100.000000\n",
      "25%       750.000000\n",
      "50%      1425.000000\n",
      "75%      2500.000000\n",
      "max      9200.000000\n",
      "Name: avg, dtype: float64\n"
     ]
    }
   ],
   "source": [
    "# Описова статистика за допомогою методу describe для нового стовпчика\n",
    "print(python_data['avg'].describe())\n"
   ]
  },
  {
   "cell_type": "code",
   "execution_count": 27,
   "id": "bb9e7d5e-cd3f-497c-904b-e001f90b708a",
   "metadata": {},
   "outputs": [],
   "source": [
    "# Збереження таблиці у CSV файл\n",
    "python_data.to_csv('2023_2017_jun_final.csv', index=False)\n"
   ]
  },
  {
   "cell_type": "code",
   "execution_count": null,
   "id": "1606305b-65e7-466f-9d5c-c47f7f63326f",
   "metadata": {},
   "outputs": [],
   "source": []
  }
 ],
 "metadata": {
  "kernelspec": {
   "display_name": "Python 3 (ipykernel)",
   "language": "python",
   "name": "python3"
  },
  "language_info": {
   "codemirror_mode": {
    "name": "ipython",
    "version": 3
   },
   "file_extension": ".py",
   "mimetype": "text/x-python",
   "name": "python",
   "nbconvert_exporter": "python",
   "pygments_lexer": "ipython3",
   "version": "3.9.13"
  }
 },
 "nbformat": 4,
 "nbformat_minor": 5
}
