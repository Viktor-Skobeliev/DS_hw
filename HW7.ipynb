{
 "cells": [
  {
   "cell_type": "code",
   "execution_count": 1,
   "id": "8a4c4ada-4393-4f49-88a3-4e90ae728747",
   "metadata": {
    "tags": []
   },
   "outputs": [
    {
     "name": "stdout",
     "output_type": "stream",
     "text": [
      "Приклади прогнозів моделі SVD:\n",
      "user: 140\titem: 6765\tr_ui = 3.50\test = 3.49\twas_impossible: False\n",
      "user: 603\titem: 290\tr_ui = 4.00\test = 3.58\twas_impossible: False\n",
      "user: 438\titem: 5055\tr_ui = 4.00\test = 3.18\twas_impossible: False\n",
      "user: 433\titem: 164179\tr_ui = 5.00\test = 3.35\twas_impossible: False\n",
      "user: 474\titem: 5114\tr_ui = 4.00\test = 3.31\twas_impossible: False\n",
      "\n",
      "Найкращі параметри для SVD:\n",
      "{'n_epochs': 15, 'lr_all': 0.01, 'reg_all': 0.2}\n",
      "Параметри для NMF:\n",
      "Кількість факторів: 15\n"
     ]
    }
   ],
   "source": [
    "import pandas as pd\n",
    "from surprise import Dataset, Reader\n",
    "from surprise.model_selection import train_test_split, GridSearchCV\n",
    "from surprise import SVD, NMF\n",
    "\n",
    "# Зчитування даних з файлів\n",
    "ratings_data = pd.read_csv('ratings.csv')\n",
    "movies_data = pd.read_csv('movies.csv')\n",
    "tags_data = pd.read_csv('tags.csv')\n",
    "links_data = pd.read_csv('links.csv')\n",
    "\n",
    "# Створення об'єкту 'Reader' для специфікації рейтингового діапазону\n",
    "reader = Reader(rating_scale=(0.5, 5.0))\n",
    "\n",
    "# Створення набору даних за допомогою 'Dataset.load_from_df'\n",
    "data = Dataset.load_from_df(ratings_data[['userId', 'movieId', 'rating']], reader)\n",
    "\n",
    "# Розділення даних на навчальний та тестовий набори\n",
    "trainset, testset = train_test_split(data, test_size=0.2, random_state=42)\n",
    "\n",
    "# Побудова моделі SVD\n",
    "model = SVD()\n",
    "\n",
    "# Навчання моделі на навчальному наборі\n",
    "model.fit(trainset)\n",
    "\n",
    "# Прогнозування рейтингів на тестовому наборі\n",
    "predictions = model.test(testset)\n",
    "\n",
    "# Виведення прикладів прогнозів\n",
    "print(\"Приклади прогнозів моделі SVD:\")\n",
    "for prediction in predictions[:5]:\n",
    "    was_impossible = prediction.details['was_impossible'] if 'was_impossible' in prediction.details else False\n",
    "    print(f\"user: {prediction.uid}\\titem: {prediction.iid}\\tr_ui = {prediction.r_ui:.2f}\\test = {prediction.est:.2f}\\twas_impossible: {was_impossible}\")\n",
    "print()\n",
    "\n",
    "# Знаходження найкращих параметрів через крос-валідацію\n",
    "param_grid = {'n_epochs': [5, 10, 15], 'lr_all': [0.002, 0.005, 0.01],\n",
    "              'reg_all': [0.2, 0.4, 0.6]}\n",
    "grid_search = GridSearchCV(SVD, param_grid, measures=['rmse'], cv=3)\n",
    "grid_search.fit(data)\n",
    "\n",
    "print(\"Найкращі параметри для SVD:\")\n",
    "print(grid_search.best_params['rmse'])\n",
    "\n",
    "# Експериментування з іншими алгоритмами, наприклад, NMF\n",
    "nmf_model = NMF()\n",
    "nmf_model.fit(trainset)\n",
    "\n",
    "print(\"Параметри для NMF:\")\n",
    "print(f\"Кількість факторів: {nmf_model.n_factors}\")\n"
   ]
  },
  {
   "cell_type": "code",
   "execution_count": 2,
   "id": "3194c8f6-21dc-4648-bc2b-a7c440f762f1",
   "metadata": {
    "tags": []
   },
   "outputs": [
    {
     "name": "stdout",
     "output_type": "stream",
     "text": [
      "Матриця P (фактор користувача):\n",
      "[[0.70927076 0.5138997  0.4848116  ... 0.74738255 0.70496573 0.20245028]\n",
      " [0.43153542 0.36409166 0.56068172 ... 0.33723579 0.17175962 0.45334923]\n",
      " [0.58602107 0.62426218 0.25723104 ... 0.47537412 0.3226292  0.14909791]\n",
      " ...\n",
      " [0.67425808 0.5169372  0.08624513 ... 0.33571258 0.13611969 0.15180907]\n",
      " [1.02372769 0.15120175 0.19808917 ... 0.00740551 0.33326292 0.88725366]\n",
      " [0.56438801 0.36663787 0.71373119 ... 0.80117769 0.16118782 0.25198246]]\n"
     ]
    }
   ],
   "source": [
    "# Виведення матриці P (фактор користувача)\n",
    "print(\"Матриця P (фактор користувача):\")\n",
    "print(nmf_model.pu)"
   ]
  },
  {
   "cell_type": "code",
   "execution_count": 3,
   "id": "e83a5421-d46a-4be1-91a7-e3bb7bae877f",
   "metadata": {
    "tags": []
   },
   "outputs": [
    {
     "name": "stdout",
     "output_type": "stream",
     "text": [
      "Матриця Q (фактор товару):\n",
      "[[1.04671372 0.11404915 0.85783962 ... 1.76205046 0.67922124 0.00852414]\n",
      " [0.38233342 0.44908433 0.57312748 ... 0.4445148  0.42616867 0.8056682 ]\n",
      " [0.85952542 0.35692434 0.3297837  ... 0.05313784 0.29845327 0.48883465]\n",
      " ...\n",
      " [0.78906153 0.2914976  0.49052604 ... 0.47064868 0.46626593 0.67340907]\n",
      " [0.60810829 1.02427813 0.67038336 ... 0.45555941 0.00552691 0.67509697]\n",
      " [0.52096003 0.70551761 0.50713088 ... 0.26292756 0.56933689 0.54121525]]\n"
     ]
    }
   ],
   "source": [
    "# Виведення матриці Q (фактор товару)\n",
    "print(\"Матриця Q (фактор товару):\")\n",
    "print(nmf_model.qi)\n"
   ]
  },
  {
   "cell_type": "code",
   "execution_count": 4,
   "id": "cc0bb0b8-deb5-4650-ac6e-9244ce7846a5",
   "metadata": {
    "tags": []
   },
   "outputs": [
    {
     "name": "stdout",
     "output_type": "stream",
     "text": [
      "Середній рейтинг для кожного фактору користувача:\n",
      "Фактор користувача 1: 0.48\n",
      "Фактор користувача 2: 0.46\n",
      "Фактор користувача 3: 0.40\n",
      "Фактор користувача 4: 0.53\n",
      "Фактор користувача 5: 0.42\n",
      "Фактор користувача 6: 0.54\n",
      "Фактор користувача 7: 0.50\n",
      "Фактор користувача 8: 0.38\n",
      "Фактор користувача 9: 0.50\n",
      "Фактор користувача 10: 0.51\n",
      "...\n",
      "Середній рейтинг для кожного фактору товару:\n",
      "Фактор товару 1: 0.43\n",
      "Фактор товару 2: 0.49\n",
      "Фактор товару 3: 0.44\n",
      "Фактор товару 4: 0.49\n",
      "Фактор товару 5: 0.53\n",
      "Фактор товару 6: 0.31\n",
      "Фактор товару 7: 0.50\n",
      "Фактор товару 8: 0.60\n",
      "Фактор товару 9: 0.33\n",
      "Фактор товару 10: 0.52\n",
      "...\n"
     ]
    }
   ],
   "source": [
    "# Отримання факторів користувачів та товарів з моделі NMF\n",
    "user_factors = nmf_model.pu\n",
    "item_factors = nmf_model.qi\n",
    "\n",
    "# Обчислення середніх рейтингів для кожного фактору користувача\n",
    "avg_ratings_user = user_factors.mean(axis=1)\n",
    "avg_ratings_item = item_factors.mean(axis=1)\n",
    "\n",
    "# Вивід середніх рейтингів для кожного фактору користувача\n",
    "print(\"Середній рейтинг для кожного фактору користувача:\")\n",
    "for i, avg_rating in enumerate(avg_ratings_user[:10]):\n",
    "    print(f\"Фактор користувача {i+1}: {avg_rating:.2f}\")\n",
    "print(\"...\")\n",
    "\n",
    "# Вивід середніх рейтингів для кожного фактору товару\n",
    "print(\"Середній рейтинг для кожного фактору товару:\")\n",
    "for i, avg_rating in enumerate(avg_ratings_item[:10]):\n",
    "    print(f\"Фактор товару {i+1}: {avg_rating:.2f}\")\n",
    "print(\"...\")"
   ]
  },
  {
   "cell_type": "code",
   "execution_count": 5,
   "id": "81b9df7d-478d-4114-a4bd-46e6bda8aa8a",
   "metadata": {
    "tags": []
   },
   "outputs": [
    {
     "name": "stdout",
     "output_type": "stream",
     "text": [
      "Користувач 347, товар 6951: Прогнозований рейтинг = 2.54\n",
      "Користувач 347, товар 3336: Прогнозований рейтинг = 3.50\n",
      "Користувач 347, товар 912: Прогнозований рейтинг = 4.49\n",
      "Користувач 347, товар 3540: Прогнозований рейтинг = 3.50\n",
      "Користувач 347, товар 1970: Прогнозований рейтинг = 3.44\n",
      "Користувач 398, товар 6951: Прогнозований рейтинг = 2.42\n",
      "Користувач 398, товар 3336: Прогнозований рейтинг = 3.50\n",
      "Користувач 398, товар 912: Прогнозований рейтинг = 4.19\n",
      "Користувач 398, товар 3540: Прогнозований рейтинг = 3.50\n",
      "Користувач 398, товар 1970: Прогнозований рейтинг = 2.70\n",
      "Користувач 291, товар 6951: Прогнозований рейтинг = 1.80\n",
      "Користувач 291, товар 3336: Прогнозований рейтинг = 3.50\n",
      "Користувач 291, товар 912: Прогнозований рейтинг = 4.11\n",
      "Користувач 291, товар 3540: Прогнозований рейтинг = 3.50\n",
      "Користувач 291, товар 1970: Прогнозований рейтинг = 3.61\n",
      "Користувач 360, товар 6951: Прогнозований рейтинг = 3.60\n",
      "Користувач 360, товар 3336: Прогнозований рейтинг = 3.50\n",
      "Користувач 360, товар 912: Прогнозований рейтинг = 4.92\n",
      "Користувач 360, товар 3540: Прогнозований рейтинг = 3.50\n",
      "Користувач 360, товар 1970: Прогнозований рейтинг = 3.79\n",
      "Користувач 3, товар 6951: Прогнозований рейтинг = 1.83\n",
      "Користувач 3, товар 3336: Прогнозований рейтинг = 3.50\n",
      "Користувач 3, товар 912: Прогнозований рейтинг = 1.97\n",
      "Користувач 3, товар 3540: Прогнозований рейтинг = 3.50\n",
      "Користувач 3, товар 1970: Прогнозований рейтинг = 1.74\n"
     ]
    }
   ],
   "source": [
    "import random\n",
    "\n",
    "# Вибираємо 5 випадкових користувачів та 5 випадкових товарів\n",
    "random_user_ids = random.sample(range(trainset.n_users), 5)\n",
    "random_item_ids = random.sample(range(trainset.n_items), 5)\n",
    "\n",
    "# Для кожного випадкового користувача та товару робимо прогноз рейтингу та виводимо його\n",
    "for user_id in random_user_ids:\n",
    "    for item_id in random_item_ids:\n",
    "        # Здійснюємо прогноз рейтингу за допомогою моделі NMF для конкретного користувача та товару\n",
    "        predicted_rating = nmf_model.predict(user_id, item_id).est\n",
    "        # Виводимо інформацію про прогнозований рейтинг з двома десятковими знаками\n",
    "        print(f\"Користувач {user_id}, товар {item_id}: Прогнозований рейтинг = {predicted_rating:.2f}\")\n"
   ]
  },
  {
   "cell_type": "code",
   "execution_count": 6,
   "id": "3f553217-e16c-4b48-a91f-697dbdae4e1f",
   "metadata": {
    "tags": []
   },
   "outputs": [
    {
     "name": "stdout",
     "output_type": "stream",
     "text": [
      "Найкращі параметри для NMF:\n",
      "{'n_factors': 15, 'n_epochs': 50}\n"
     ]
    }
   ],
   "source": [
    "# Створення сітки параметрів для NMF\n",
    "nmf_param_grid = {'n_factors': [5, 10, 15], 'n_epochs': [50, 100, 150]}\n",
    "\n",
    "# Пошук найкращих параметрів за допомогою крос-валідації для NMF\n",
    "nmf_grid_search = GridSearchCV(NMF, nmf_param_grid, measures=['rmse'], cv=3)\n",
    "nmf_grid_search.fit(data)\n",
    "\n",
    "# Виведення результатів пошуку найкращих параметрів\n",
    "print(\"Найкращі параметри для NMF:\")\n",
    "print(nmf_grid_search.best_params['rmse'])\n"
   ]
  },
  {
   "cell_type": "code",
   "execution_count": 7,
   "id": "398fb4a1-bd7d-4fea-bdec-86581edf3859",
   "metadata": {
    "tags": []
   },
   "outputs": [
    {
     "name": "stdout",
     "output_type": "stream",
     "text": [
      "Порівняння різних моделей:\n",
      "Метрика: rmse\n",
      "Evaluating RMSE of algorithm SVD on 3 split(s).\n",
      "\n",
      "                  Fold 1  Fold 2  Fold 3  Mean    Std     \n",
      "RMSE (testset)    0.8752  0.8830  0.8843  0.8808  0.0040  \n",
      "Fit time          0.50    0.53    0.51    0.51    0.01    \n",
      "Test time         0.13    0.13    0.19    0.15    0.03    \n",
      "Evaluating RMSE of algorithm NMF on 3 split(s).\n",
      "\n",
      "                  Fold 1  Fold 2  Fold 3  Mean    Std     \n",
      "RMSE (testset)    0.9326  0.9369  0.9324  0.9339  0.0021  \n",
      "Fit time          1.20    1.26    1.28    1.24    0.04    \n",
      "Test time         0.17    0.19    0.18    0.18    0.01    \n",
      "Метрика: mae\n",
      "Evaluating MAE of algorithm SVD on 3 split(s).\n",
      "\n",
      "                  Fold 1  Fold 2  Fold 3  Mean    Std     \n",
      "MAE (testset)     0.6773  0.6742  0.6775  0.6763  0.0015  \n",
      "Fit time          0.51    0.52    0.51    0.51    0.01    \n",
      "Test time         0.13    0.13    0.18    0.15    0.02    \n",
      "Evaluating MAE of algorithm NMF on 3 split(s).\n",
      "\n",
      "                  Fold 1  Fold 2  Fold 3  Mean    Std     \n",
      "MAE (testset)     0.7147  0.7201  0.7152  0.7167  0.0024  \n",
      "Fit time          1.18    1.24    1.24    1.22    0.03    \n",
      "Test time         0.17    0.17    0.18    0.17    0.00    \n",
      "Аналіз відмов:\n"
     ]
    }
   ],
   "source": [
    "import pandas as pd\n",
    "from surprise import Dataset, Reader\n",
    "from surprise.model_selection import train_test_split, GridSearchCV, cross_validate\n",
    "from surprise import SVD, NMF\n",
    "\n",
    "\n",
    "\n",
    "# Порівняння різних моделей за різними метриками\n",
    "print(\"Порівняння різних моделей:\")\n",
    "\n",
    "algorithm_names = ['SVD', 'NMF']  # Список назв алгоритмів для порівняння\n",
    "\n",
    "metrics = ['rmse', 'mae']  # можна додати інші метрики\n",
    "\n",
    "for metric in metrics:\n",
    "    print(f\"Метрика: {metric}\")\n",
    "    for algorithm in algorithm_names:\n",
    "        model = None\n",
    "        if algorithm == 'SVD':\n",
    "            model = SVD()\n",
    "        elif algorithm == 'NMF':\n",
    "            model = NMF()\n",
    "        cross_validate(model, data, measures=[metric], cv=3, verbose=True)\n",
    "\n",
    "# Аналіз відмов та їх причин\n",
    "print(\"Аналіз відмов:\")\n",
    "for prediction in predictions:\n",
    "    was_impossible = prediction.details['was_impossible'] if 'was_impossible' in prediction.details else False\n",
    "    if was_impossible:\n",
    "        reason = prediction.details['reason'] if 'reason' in prediction.details else \"Невідомо\"\n",
    "        print(f\"Користувач {prediction.uid}, товар {prediction.iid}: Не можливо зробити прогноз. Причина: {reason}\")\n"
   ]
  },
  {
   "cell_type": "code",
   "execution_count": 8,
   "id": "a4a2e124-374e-42ca-bfa9-454733da66c8",
   "metadata": {
    "tags": []
   },
   "outputs": [
    {
     "name": "stdout",
     "output_type": "stream",
     "text": [
      "Аналіз відмов:\n",
      "Користувач 474, товар 6912: Не можливо зробити прогноз. Причина: User and item are unknown.\n",
      "Користувач 160, товар 2446: Не можливо зробити прогноз. Причина: User and item are unknown.\n",
      "Користувач 462, товар 152711: Не можливо зробити прогноз. Причина: User and item are unknown.\n",
      "Користувач 391, товар 695: Не можливо зробити прогноз. Причина: User and item are unknown.\n",
      "Користувач 606, товар 50356: Не можливо зробити прогноз. Причина: User and item are unknown.\n",
      "Користувач 599, товар 26913: Не можливо зробити прогноз. Причина: User and item are unknown.\n",
      "Користувач 387, товар 8196: Не можливо зробити прогноз. Причина: User and item are unknown.\n",
      "Користувач 6, товар 189: Не можливо зробити прогноз. Причина: User and item are unknown.\n",
      "Користувач 599, товар 101423: Не можливо зробити прогноз. Причина: User and item are unknown.\n",
      "Користувач 474, товар 2757: Не можливо зробити прогноз. Причина: User and item are unknown.\n"
     ]
    }
   ],
   "source": [
    "test_size = len(testset)\n",
    "\n",
    "# Зміна оцінки для 10% прогнозів, щоб створити відмови\n",
    "num_failures = int(test_size * 0.1)  # 10% від розміру тестового набору\n",
    "for i in range(num_failures):\n",
    "    testset[i] = (testset[i][0], testset[i][1], 0.0)  # Змінюємо оцінку на 0.0\n",
    "\n",
    "# Прогнозування рейтингів на тестовому наборі зі зміненими оцінками\n",
    "predictions_with_failures = model.test(testset)\n",
    "\n",
    "# Аналіз відмов та їх причин\n",
    "print(\"Аналіз відмов:\")\n",
    "num_printed = 0\n",
    "for prediction in predictions_with_failures:\n",
    "    was_impossible = prediction.details['was_impossible'] if 'was_impossible' in prediction.details else False\n",
    "    if was_impossible:\n",
    "        reason = prediction.details['reason'] if 'reason' in prediction.details else \"Невідомо\"\n",
    "        print(f\"Користувач {prediction.uid}, товар {prediction.iid}: Не можливо зробити прогноз. Причина: {reason}\")\n",
    "        num_printed += 1\n",
    "        if num_printed >= 10:  # Вивести лише 10 результатів\n",
    "            break\n"
   ]
  },
  {
   "cell_type": "code",
   "execution_count": null,
   "id": "794639ef-a6b5-406f-a7df-9e4cc8c7bd55",
   "metadata": {},
   "outputs": [],
   "source": []
  }
 ],
 "metadata": {
  "kernelspec": {
   "display_name": "Python 3 (ipykernel)",
   "language": "python",
   "name": "python3"
  },
  "language_info": {
   "codemirror_mode": {
    "name": "ipython",
    "version": 3
   },
   "file_extension": ".py",
   "mimetype": "text/x-python",
   "name": "python",
   "nbconvert_exporter": "python",
   "pygments_lexer": "ipython3",
   "version": "3.11.3"
  }
 },
 "nbformat": 4,
 "nbformat_minor": 5
}
