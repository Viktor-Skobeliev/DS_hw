{
 "cells": [
  {
   "cell_type": "code",
   "execution_count": 12,
   "id": "255f4d2b-fbaf-43a6-a6fb-50fdfc3ab326",
   "metadata": {},
   "outputs": [
    {
     "name": "stdout",
     "output_type": "stream",
     "text": [
      "               Регіон   1950   1960   1970  1990  2000  2012 2014 2019\n",
      "0                Крим  230.0  206.0  160.0   130    73   126    —    —\n",
      "1           Вінницька  224.0  192.0  142.0   124    84   112  109   76\n",
      "2           Волинська  247.0  250.0  179.0   153   112   148  141  101\n",
      "3    Дніпропетровська  204.0  204.0  151.0   123    71   112  111   71\n",
      "4            Донецька  271.0  214.0  140.0   109    61    98   82    —\n",
      "5         Житомирська  261.0  223.0  159.0   129    89   122  120   79\n",
      "6        Закарпатська  314.0  273.0  207.0   168   115   151  146  104\n",
      "7          Запорізька  219.0  197.0  150.0   124    71   106  106   68\n",
      "8   Івано-Франківська  243.0  248.0  182.0   155   103   124  122   88\n",
      "9            Київська  204.0  189.0  156.0   123    73   122  121   80\n",
      "10     Кіровоградська  216.0  171.0  145.0   126    79   110  108   68\n",
      "11          Луганська  262.0  235.0  144.0   116    62    96   51    —\n",
      "12          Львівська  234.0  240.0  171.0   140    91   119  119   87\n",
      "13       Миколаївська  211.0  194.0  155.0   137    80   115  112   71\n",
      "14            Одеська  241.0  192.0  148.0   126    80   127  123   88\n",
      "15         Полтавська  186.0  163.0  131.0   118    70    99  100   65\n",
      "16         Рівненська  269.0  267.0  193.0   158   118   159  148  107\n",
      "17            Сумська  216.0  184.0  132.0   115    70    97   92   60\n",
      "18      Тернопільська  213.0  216.0  157.0   142    92   113  109   76\n",
      "19         Харківська  197.0  173.0  140.0   114    68    99  101   68\n",
      "20         Херсонська  208.0  214.0  166.0   143    85   117  115   81\n",
      "21        Хмельницька  234.0  198.0  148.0   129    85   113  112   79\n",
      "22          Черкаська  205.0  179.0  144.0   123    75   100   98   64\n",
      "23        Чернівецька  247.0  218.0  170.0   148   101   128  129   92\n",
      "24       Чернігівська  220.0  183.0  127.0   108    69    94   90   61\n",
      "25               Київ    NaN  174.0  159.0   120    73   120  121  110\n",
      "26        Севастополь    NaN    NaN    NaN   125    70   120    —    —\n",
      "27            Україна  228.0  205.0  152.0   126    78   114  111   81\n"
     ]
    }
   ],
   "source": [
    "import pandas as pd\n",
    "import numpy as np\n",
    "\n",
    "# Зчитування таблиці з URL та використання колонки \"Коефіцієнт народжуваності в регіонах України\"\n",
    "df = pd.read_html(\"https://uk.wikipedia.org/wiki/%D0%9D%D0%B0%D1%81%D0%B5%D0%BB%D0%B5%D0%BD%D0%BD%D1%8F_%D0%A3%D0%BA%D1%80%D0%B0%D1%97%D0%BD%D0%B8#%D0%9D%D0%B0%D1%80%D0%BE%D0%B4%D0%B6%D1%83%D0%B2%D0%B0%D0%BD%D1%96%D1%81%D1%82%D1%8C\",\n",
    "                   match=\"Коефіцієнт народжуваності в регіонах України\")\n",
    "\n",
    "# Извлекаем таблицу из полученных данных и присваиваем ее переменной df\n",
    "df = df[0]\n",
    "\n",
    "# Вивід перших 5 рядків таблиці\n",
    "print(df.head(30))"
   ]
  },
  {
   "cell_type": "code",
   "execution_count": 24,
   "id": "be280237-9d61-4a01-84eb-f1cc9d452f27",
   "metadata": {},
   "outputs": [
    {
     "name": "stdout",
     "output_type": "stream",
     "text": [
      "Розмірність датафрейму: \n",
      "(27, 9)\n"
     ]
    }
   ],
   "source": [
    "# Визначення розмірності датафрейму\n",
    "print(\"Розмірність датафрейму: \", df.shape, sep='\\n')"
   ]
  },
  {
   "cell_type": "code",
   "execution_count": 25,
   "id": "9fd493d1-37ed-4ecb-9528-67b7a0694cf4",
   "metadata": {},
   "outputs": [
    {
     "name": "stdout",
     "output_type": "stream",
     "text": [
      "Colums type: \n",
      "Регіон     object\n",
      "1950      float64\n",
      "1960      float64\n",
      "1970      float64\n",
      "1990      float64\n",
      "2000      float64\n",
      "2012      float64\n",
      "2014      float64\n",
      "2019      float64\n",
      "dtype: object\n"
     ]
    }
   ],
   "source": [
    "# Заменяем в таблице значения \"—\" на NaN\n",
    "df.replace('—', np.nan, inplace=True)\n",
    "\n",
    "# Виводимо типи всіх стовпців\n",
    "print('Colums type: ', df.dtypes, sep='\\n')"
   ]
  },
  {
   "cell_type": "code",
   "execution_count": 26,
   "id": "216df9f8-6510-41f0-be93-215b976fb972",
   "metadata": {},
   "outputs": [
    {
     "name": "stdout",
     "output_type": "stream",
     "text": [
      "Частка пропусків: \n",
      "Регіон    0.0\n",
      "1950      0.0\n",
      "1960      0.0\n",
      "1970      0.0\n",
      "1990      0.0\n",
      "2000      0.0\n",
      "2012      0.0\n",
      "2014      0.0\n",
      "2019      0.0\n",
      "dtype: float64\n"
     ]
    }
   ],
   "source": [
    "# Конвертируем колонки в числовые значения\n",
    "df.iloc[:, 1:-1] = df.iloc[:, 1:-1].astype(float)\n",
    "# Подсчитываем количество пропущенных значений в каждой колонке\n",
    "missing_values_count = df.isnull().sum()\n",
    "\n",
    "# Подсчитываем общее количество значений в каждой колонке\n",
    "total_values_count = df.shape[0]\n",
    "\n",
    "# Считаем долю пропущенных значений в каждой колонке\n",
    "missing_values_ratio = missing_values_count / total_values_count\n",
    "\n",
    "# Выводим результат\n",
    "print('Частка пропусків: ', missing_values_ratio, sep='\\n')"
   ]
  },
  {
   "cell_type": "code",
   "execution_count": 27,
   "id": "cd8815ac-ce17-49b5-966a-de37c487fdb0",
   "metadata": {},
   "outputs": [
    {
     "name": "stdout",
     "output_type": "stream",
     "text": [
      "New table 1\n",
      "               Регіон    1950   1960   1970   1990   2000   2012    2014  \\\n",
      "0                Крим  230.00  206.0  160.0  130.0   73.0  126.0  111.44   \n",
      "1           Вінницька  224.00  192.0  142.0  124.0   84.0  112.0  109.00   \n",
      "2           Волинська  247.00  250.0  179.0  153.0  112.0  148.0  141.00   \n",
      "3    Дніпропетровська  204.00  204.0  151.0  123.0   71.0  112.0  111.00   \n",
      "4            Донецька  271.00  214.0  140.0  109.0   61.0   98.0   82.00   \n",
      "5         Житомирська  261.00  223.0  159.0  129.0   89.0  122.0  120.00   \n",
      "6        Закарпатська  314.00  273.0  207.0  168.0  115.0  151.0  146.00   \n",
      "7          Запорізька  219.00  197.0  150.0  124.0   71.0  106.0  106.00   \n",
      "8   Івано-Франківська  243.00  248.0  182.0  155.0  103.0  124.0  122.00   \n",
      "9            Київська  204.00  189.0  156.0  123.0   73.0  122.0  121.00   \n",
      "10     Кіровоградська  216.00  171.0  145.0  126.0   79.0  110.0  108.00   \n",
      "11          Луганська  262.00  235.0  144.0  116.0   62.0   96.0   51.00   \n",
      "12          Львівська  234.00  240.0  171.0  140.0   91.0  119.0  119.00   \n",
      "13       Миколаївська  211.00  194.0  155.0  137.0   80.0  115.0  112.00   \n",
      "14            Одеська  241.00  192.0  148.0  126.0   80.0  127.0  123.00   \n",
      "15         Полтавська  186.00  163.0  131.0  118.0   70.0   99.0  100.00   \n",
      "16         Рівненська  269.00  267.0  193.0  158.0  118.0  159.0  148.00   \n",
      "17            Сумська  216.00  184.0  132.0  115.0   70.0   97.0   92.00   \n",
      "18      Тернопільська  213.00  216.0  157.0  142.0   92.0  113.0  109.00   \n",
      "19         Харківська  197.00  173.0  140.0  114.0   68.0   99.0  101.00   \n",
      "20         Херсонська  208.00  214.0  166.0  143.0   85.0  117.0  115.00   \n",
      "21        Хмельницька  234.00  198.0  148.0  129.0   85.0  113.0  112.00   \n",
      "22          Черкаська  205.00  179.0  144.0  123.0   75.0  100.0   98.00   \n",
      "23        Чернівецька  247.00  218.0  170.0  148.0  101.0  128.0  129.00   \n",
      "24       Чернігівська  220.00  183.0  127.0  108.0   69.0   94.0   90.00   \n",
      "25               Київ  231.04  174.0  159.0  120.0   73.0  120.0  121.00   \n",
      "\n",
      "          2019  \n",
      "0    80.173913  \n",
      "1    76.000000  \n",
      "2   101.000000  \n",
      "3    71.000000  \n",
      "4    80.173913  \n",
      "5    79.000000  \n",
      "6   104.000000  \n",
      "7    68.000000  \n",
      "8    88.000000  \n",
      "9    80.000000  \n",
      "10   68.000000  \n",
      "11   80.173913  \n",
      "12   87.000000  \n",
      "13   71.000000  \n",
      "14   88.000000  \n",
      "15   65.000000  \n",
      "16  107.000000  \n",
      "17   60.000000  \n",
      "18   76.000000  \n",
      "19   68.000000  \n",
      "20   81.000000  \n",
      "21   79.000000  \n",
      "22   64.000000  \n",
      "23   92.000000  \n",
      "24   61.000000  \n",
      "25  110.000000  \n"
     ]
    }
   ],
   "source": [
    "# Удаляем последний рядок из таблицы\n",
    "df.drop(df.tail(1).index, inplace=True)\n",
    "\n",
    "# Выводим обновленную таблицу\n",
    "print('New table 1', df, sep='\\n')"
   ]
  },
  {
   "cell_type": "code",
   "execution_count": 28,
   "id": "25865ede-cf31-45a0-9743-17510957efab",
   "metadata": {},
   "outputs": [
    {
     "name": "stdout",
     "output_type": "stream",
     "text": [
      "New table 2\n",
      "           Регіон   1950  1960  1970  1990  2000  2012   2014       2019\n",
      "             Крим 230.00 206.0 160.0 130.0  73.0 126.0 111.44  80.173913\n",
      "        Вінницька 224.00 192.0 142.0 124.0  84.0 112.0 109.00  76.000000\n",
      "        Волинська 247.00 250.0 179.0 153.0 112.0 148.0 141.00 101.000000\n",
      " Дніпропетровська 204.00 204.0 151.0 123.0  71.0 112.0 111.00  71.000000\n",
      "         Донецька 271.00 214.0 140.0 109.0  61.0  98.0  82.00  80.173913\n",
      "      Житомирська 261.00 223.0 159.0 129.0  89.0 122.0 120.00  79.000000\n",
      "     Закарпатська 314.00 273.0 207.0 168.0 115.0 151.0 146.00 104.000000\n",
      "       Запорізька 219.00 197.0 150.0 124.0  71.0 106.0 106.00  68.000000\n",
      "Івано-Франківська 243.00 248.0 182.0 155.0 103.0 124.0 122.00  88.000000\n",
      "         Київська 204.00 189.0 156.0 123.0  73.0 122.0 121.00  80.000000\n",
      "   Кіровоградська 216.00 171.0 145.0 126.0  79.0 110.0 108.00  68.000000\n",
      "        Луганська 262.00 235.0 144.0 116.0  62.0  96.0  51.00  80.173913\n",
      "        Львівська 234.00 240.0 171.0 140.0  91.0 119.0 119.00  87.000000\n",
      "     Миколаївська 211.00 194.0 155.0 137.0  80.0 115.0 112.00  71.000000\n",
      "          Одеська 241.00 192.0 148.0 126.0  80.0 127.0 123.00  88.000000\n",
      "       Полтавська 186.00 163.0 131.0 118.0  70.0  99.0 100.00  65.000000\n",
      "       Рівненська 269.00 267.0 193.0 158.0 118.0 159.0 148.00 107.000000\n",
      "          Сумська 216.00 184.0 132.0 115.0  70.0  97.0  92.00  60.000000\n",
      "    Тернопільська 213.00 216.0 157.0 142.0  92.0 113.0 109.00  76.000000\n",
      "       Харківська 197.00 173.0 140.0 114.0  68.0  99.0 101.00  68.000000\n",
      "       Херсонська 208.00 214.0 166.0 143.0  85.0 117.0 115.00  81.000000\n",
      "      Хмельницька 234.00 198.0 148.0 129.0  85.0 113.0 112.00  79.000000\n",
      "        Черкаська 205.00 179.0 144.0 123.0  75.0 100.0  98.00  64.000000\n",
      "      Чернівецька 247.00 218.0 170.0 148.0 101.0 128.0 129.00  92.000000\n",
      "     Чернігівська 220.00 183.0 127.0 108.0  69.0  94.0  90.00  61.000000\n",
      "             Київ 231.04 174.0 159.0 120.0  73.0 120.0 121.00 110.000000\n"
     ]
    }
   ],
   "source": [
    "# Вычисляем средние значения только для числовых столбцов\n",
    "mean_values = df.select_dtypes(include='number').mean()\n",
    "\n",
    "# Заменяем отсутствующие данные средними значениями столбцов\n",
    "df.fillna(mean_values, inplace=True)\n",
    "\n",
    "# Выводим обновленную таблицу\n",
    "print('New table 2', df.to_string(index=False, header=True), sep='\\n')"
   ]
  },
  {
   "cell_type": "code",
   "execution_count": 29,
   "id": "b43f4c85-1abd-469e-8dd7-4e86099fa124",
   "metadata": {},
   "outputs": [
    {
     "name": "stdout",
     "output_type": "stream",
     "text": [
      "Cписок регіонів, де рівень народжуваності у 2019 році був вищим за середній по Україні: \n",
      "['Волинська', 'Закарпатська', 'Івано-Франківська', 'Львівська', 'Одеська', 'Рівненська', 'Херсонська', 'Чернівецька', 'Київ']\n"
     ]
    }
   ],
   "source": [
    "# Перетворення значень стовпця \"2019\" на числовий тип\n",
    "df[\"2019\"] = pd.to_numeric(df[\"2019\"], errors=\"coerce\")\n",
    "\n",
    "# Обчислення середнього значення по стовпцю \"2019\"\n",
    "mean_value = df[\"2019\"].mean()\n",
    "\n",
    "# Створення списку регіонів з рівнем народжуваності вищим за середній по Україні\n",
    "region_list = list(df[df[\"2019\"] > mean_value][\"Регіон\"])\n",
    "\n",
    "# Виведення списку регіонів\n",
    "print('Cписок регіонів, де рівень народжуваності у 2019 році був вищим за середній по Україні: ', region_list, sep='\\n')"
   ]
  },
  {
   "cell_type": "code",
   "execution_count": 30,
   "id": "a04d6f78-780c-4303-b35a-293a25974db4",
   "metadata": {},
   "outputs": [
    {
     "name": "stdout",
     "output_type": "stream",
     "text": [
      "Найвища народжуваність у 2014 році була у регіоні Рівненська\n"
     ]
    }
   ],
   "source": [
    "# Вибираємо стовпець з народжуваністю за 2014 рік\n",
    "birth_rate_2014 = df['2014'].astype(float)\n",
    "\n",
    "# Знаходимо індекс рядка з максимальним значенням\n",
    "max_index = birth_rate_2014.idxmax()\n",
    "\n",
    "# Отримуємо назву регіону за знайденим індексом рядка\n",
    "region_with_highest_birth_rate = df.loc[max_index, 'Регіон']\n",
    "\n",
    "# Виводимо результат\n",
    "print(f\"Найвища народжуваність у 2014 році була у регіоні {region_with_highest_birth_rate}\")\n"
   ]
  },
  {
   "cell_type": "code",
   "execution_count": 31,
   "id": "648db2dc-3b22-44d3-804c-de632fc0a270",
   "metadata": {},
   "outputs": [
    {
     "data": {
      "text/plain": [
       "Text(0.5, 1.0, 'Birth rate by region in 2019')"
      ]
     },
     "execution_count": 31,
     "metadata": {},
     "output_type": "execute_result"
    },
    {
     "data": {
      "image/png": "[encoded data removed]",
      "text/plain": [
       "<Figure size 1200x600 with 1 Axes>"
      ]
     },
     "metadata": {},
     "output_type": "display_data"
    }
   ],
   "source": [
    "ax = df.plot(x='Регіон', y='2019', kind='bar', figsize=(12, 6), legend=None)\n",
    "ax.set_xlabel('Регіон')\n",
    "ax.set_ylabel('Birth rate')\n",
    "ax.set_title('Birth rate by region in 2019')"
   ]
  }
 ],
 "metadata": {
  "kernelspec": {
   "display_name": "Python 3 (ipykernel)",
   "language": "python",
   "name": "python3"
  },
  "language_info": {
   "codemirror_mode": {
    "name": "ipython",
    "version": 3
   },
   "file_extension": ".py",
   "mimetype": "text/x-python",
   "name": "python",
   "nbconvert_exporter": "python",
   "pygments_lexer": "ipython3",
   "version": "3.9.13"
  }
 },
 "nbformat": 4,
 "nbformat_minor": 5
}
