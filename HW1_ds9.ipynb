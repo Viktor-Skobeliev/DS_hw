{
  "nbformat": 4,
  "nbformat_minor": 0,
  "metadata": {
    "colab": {
      "provenance": [],
      "authorship_tag": "ABX9TyMSdkdFQIxgKgCpd0Aqo0gG",
      "include_colab_link": true
    },
    "kernelspec": {
      "name": "python3",
      "display_name": "Python 3"
    },
    "language_info": {
      "name": "python"
    }
  },
  "cells": [
    {
      "cell_type": "markdown",
      "metadata": {
        "id": "view-in-github",
        "colab_type": "text"
      },
      "source": [
        "<a href=\"https://colab.research.google.com/github/Viktor-Skobeliev/DS_hw/blob/main/HW1_ds9.ipynb\" target=\"_parent\"><img src=\"https://colab.research.google.com/assets/colab-badge.svg\" alt=\"Open In Colab\"/></a>"
      ]
    },
    {
      "cell_type": "code",
      "execution_count": 2,
      "metadata": {
        "colab": {
          "base_uri": "https://localhost:8080/"
        },
        "id": "dTZXdV9VLKLU",
        "outputId": "cefa3e92-69f7-4d09-be1c-8641504cc34a"
      },
      "outputs": [
        {
          "output_type": "stream",
          "name": "stdout",
          "text": [
            "[1, 2, 3, 4, 5, 6, 7, 8, 9, 10]\n"
          ]
        }
      ],
      "source": [
        "array = []\n",
        "for i in range(1, 11):\n",
        "    array.append(i)\n",
        "\n",
        "print(array)\n"
      ]
    },
    {
      "cell_type": "code",
      "source": [
        "matrix = [[0, 0, 0],\n",
        "          [0, 0, 0],\n",
        "          [0, 0, 0]]\n",
        "\n",
        "for row in matrix:\n",
        "    print(row)\n"
      ],
      "metadata": {
        "colab": {
          "base_uri": "https://localhost:8080/"
        },
        "id": "MqVS598tLT0b",
        "outputId": "aa661f73-5d2b-462d-f930-ca8d4de0f79f"
      },
      "execution_count": 3,
      "outputs": [
        {
          "output_type": "stream",
          "name": "stdout",
          "text": [
            "[0, 0, 0]\n",
            "[0, 0, 0]\n",
            "[0, 0, 0]\n"
          ]
        }
      ]
    },
    {
      "cell_type": "code",
      "source": [
        "import random\n",
        "\n",
        "matrix = [[random.randint(1, 10) for _ in range(5)] for _ in range(5)]\n",
        "\n",
        "for row in matrix:\n",
        "    print(row)\n"
      ],
      "metadata": {
        "colab": {
          "base_uri": "https://localhost:8080/"
        },
        "id": "iIC6e9rvLiGv",
        "outputId": "825bb279-b4e1-49cb-f1b3-d5b19bc0230e"
      },
      "execution_count": 4,
      "outputs": [
        {
          "output_type": "stream",
          "name": "stdout",
          "text": [
            "[10, 3, 9, 4, 1]\n",
            "[7, 9, 1, 8, 10]\n",
            "[9, 10, 7, 9, 7]\n",
            "[2, 8, 4, 3, 1]\n",
            "[10, 5, 7, 1, 7]\n"
          ]
        }
      ]
    },
    {
      "cell_type": "code",
      "source": [
        "import random\n",
        "\n",
        "matrix = [[random.random() for _ in range(4)] for _ in range(4)]\n",
        "\n",
        "for row in matrix:\n",
        "    print(row)\n"
      ],
      "metadata": {
        "colab": {
          "base_uri": "https://localhost:8080/"
        },
        "id": "ie2buf8TL8_D",
        "outputId": "e7d99b2f-59cd-468f-f59d-70dc1ef17ab0"
      },
      "execution_count": 5,
      "outputs": [
        {
          "output_type": "stream",
          "name": "stdout",
          "text": [
            "[0.288812587371692, 0.06735743816269546, 0.8551579428734737, 0.44690328962837855]\n",
            "[0.21826761982537823, 0.8139432581694407, 0.5655431579271561, 0.5413996223392147]\n",
            "[0.2833770876071541, 0.9709477773747284, 0.1588354533384405, 0.14145512580194253]\n",
            "[0.621677643928051, 0.012017906759275832, 0.18072238971716315, 0.3454378422924418]\n"
          ]
        }
      ]
    },
    {
      "cell_type": "code",
      "source": [
        "import random\n",
        "\n",
        "array1 = [random.randint(1, 10) for _ in range(5)]\n",
        "array2 = [random.randint(1, 10) for _ in range(5)]\n",
        "\n",
        "print(\"Масив 1:\", array1)\n",
        "print(\"Масив 2:\", array2)\n",
        "\n",
        "result_addition = [x + y for x, y in zip(array1, array2)]\n",
        "result_subtraction = [x - y for x, y in zip(array1, array2)]\n",
        "result_multiplication = [x * y for x, y in zip(array1, array2)]\n",
        "\n",
        "print(\"Результат додавання:\", result_addition)\n",
        "print(\"Результат віднімання:\", result_subtraction)\n",
        "print(\"Результат множення:\", result_multiplication)\n"
      ],
      "metadata": {
        "colab": {
          "base_uri": "https://localhost:8080/"
        },
        "id": "t0_RlY6EMRxw",
        "outputId": "1a058636-dfa4-4945-cb4c-967d2d8d7b05"
      },
      "execution_count": 6,
      "outputs": [
        {
          "output_type": "stream",
          "name": "stdout",
          "text": [
            "Масив 1: [1, 5, 1, 2, 4]\n",
            "Масив 2: [9, 2, 2, 2, 5]\n",
            "Результат додавання: [10, 7, 3, 4, 9]\n",
            "Результат віднімання: [-8, 3, -1, 0, -1]\n",
            "Результат множення: [9, 10, 2, 4, 20]\n"
          ]
        }
      ]
    },
    {
      "cell_type": "code",
      "source": [
        "import random\n",
        "\n",
        "vector1 = [random.randint(1, 10) for _ in range(7)]\n",
        "vector2 = [random.randint(1, 10) for _ in range(7)]\n",
        "\n",
        "print(\"Вектор 1:\", vector1)\n",
        "print(\"Вектор 2:\", vector2)\n",
        "\n",
        "dot_product = sum(x * y for x, y in zip(vector1, vector2))\n",
        "\n",
        "print(\"Скалярний добуток:\", dot_product)\n"
      ],
      "metadata": {
        "colab": {
          "base_uri": "https://localhost:8080/"
        },
        "id": "_ucx7uTPM4sj",
        "outputId": "718654fc-05c6-48ba-a7d2-baff9f0c43f1"
      },
      "execution_count": 7,
      "outputs": [
        {
          "output_type": "stream",
          "name": "stdout",
          "text": [
            "Вектор 1: [10, 3, 3, 10, 10, 8, 10]\n",
            "Вектор 2: [5, 3, 8, 1, 8, 1, 9]\n",
            "Скалярний добуток: 271\n"
          ]
        }
      ]
    },
    {
      "cell_type": "code",
      "source": [
        "import random\n",
        "import numpy as np\n",
        "\n",
        "matrix1 = np.random.randint(1, 10, size=(2, 2))\n",
        "matrix2 = np.random.randint(1, 10, size=(2, 3))\n",
        "\n",
        "print(\"Матриця 1:\")\n",
        "print(matrix1)\n",
        "print(\"Матриця 2:\")\n",
        "print(matrix2)\n",
        "\n",
        "result = np.dot(matrix1, matrix2)\n",
        "\n",
        "print(\"Результат множення:\")\n",
        "print(result)\n"
      ],
      "metadata": {
        "colab": {
          "base_uri": "https://localhost:8080/"
        },
        "id": "lOPXi7LlO8nq",
        "outputId": "0b43d4cb-2df1-452b-c4db-f798cf895e9c"
      },
      "execution_count": 8,
      "outputs": [
        {
          "output_type": "stream",
          "name": "stdout",
          "text": [
            "Матриця 1:\n",
            "[[3 3]\n",
            " [6 8]]\n",
            "Матриця 2:\n",
            "[[3 3 7]\n",
            " [4 4 3]]\n",
            "Результат множення:\n",
            "[[21 21 30]\n",
            " [50 50 66]]\n"
          ]
        }
      ]
    },
    {
      "cell_type": "code",
      "source": [
        "import random\n",
        "import numpy as np\n",
        "\n",
        "matrix = np.random.randint(1, 10, size=(3, 3))\n",
        "\n",
        "print(\"Початкова матриця:\")\n",
        "print(matrix)\n",
        "\n",
        "try:\n",
        "    inverse_matrix = np.linalg.inv(matrix)\n",
        "    print(\"Обернена матриця:\")\n",
        "    print(inverse_matrix)\n",
        "except np.linalg.LinAlgError:\n",
        "    print(\"Матриця не є оборотною.\")\n"
      ],
      "metadata": {
        "colab": {
          "base_uri": "https://localhost:8080/"
        },
        "id": "TYV0YS_gPSSY",
        "outputId": "09c35403-8760-4bb9-a5c0-5462e0411c86"
      },
      "execution_count": 9,
      "outputs": [
        {
          "output_type": "stream",
          "name": "stdout",
          "text": [
            "Початкова матриця:\n",
            "[[1 1 4]\n",
            " [1 3 4]\n",
            " [2 7 2]]\n",
            "Обернена матриця:\n",
            "[[ 1.83333333 -2.16666667  0.66666667]\n",
            " [-0.5         0.5        -0.        ]\n",
            " [-0.08333333  0.41666667 -0.16666667]]\n"
          ]
        }
      ]
    },
    {
      "cell_type": "code",
      "source": [
        "import random\n",
        "import numpy as np\n",
        "\n",
        "matrix = np.random.rand(4, 4)\n",
        "\n",
        "print(\"Початкова матриця:\")\n",
        "print(matrix)\n",
        "\n",
        "transposed_matrix = np.transpose(matrix)\n",
        "\n",
        "print(\"Транспонована матриця:\")\n",
        "print(transposed_matrix)\n"
      ],
      "metadata": {
        "colab": {
          "base_uri": "https://localhost:8080/"
        },
        "id": "IA3eywQzPqAh",
        "outputId": "7bfed834-2549-4762-b4fb-bab58994c04f"
      },
      "execution_count": 10,
      "outputs": [
        {
          "output_type": "stream",
          "name": "stdout",
          "text": [
            "Початкова матриця:\n",
            "[[0.11859682 0.01926574 0.58070725 0.29886255]\n",
            " [0.7431872  0.90653375 0.04170654 0.83103539]\n",
            " [0.48785642 0.65924166 0.60705212 0.54955805]\n",
            " [0.09287186 0.25698896 0.02963907 0.53566648]]\n",
            "Транспонована матриця:\n",
            "[[0.11859682 0.7431872  0.48785642 0.09287186]\n",
            " [0.01926574 0.90653375 0.65924166 0.25698896]\n",
            " [0.58070725 0.04170654 0.60705212 0.02963907]\n",
            " [0.29886255 0.83103539 0.54955805 0.53566648]]\n"
          ]
        }
      ]
    },
    {
      "cell_type": "code",
      "source": [
        "import random\n",
        "import numpy as np\n",
        "\n",
        "matrix = np.random.randint(1, 10, size=(3, 4))\n",
        "vector = np.random.randint(1, 10, size=(4,))\n",
        "\n",
        "print(\"Матриця:\")\n",
        "print(matrix)\n",
        "print(\"Вектор:\")\n",
        "print(vector)\n",
        "\n",
        "result = np.dot(matrix, vector)\n",
        "\n",
        "print(\"Результат перемноження:\")\n",
        "print(result)\n"
      ],
      "metadata": {
        "colab": {
          "base_uri": "https://localhost:8080/"
        },
        "id": "P2MEOcgaQHxp",
        "outputId": "2f147b3b-ef29-46be-c55d-874edbb3a951"
      },
      "execution_count": 11,
      "outputs": [
        {
          "output_type": "stream",
          "name": "stdout",
          "text": [
            "Матриця:\n",
            "[[7 6 6 6]\n",
            " [3 3 1 7]\n",
            " [2 5 9 7]]\n",
            "Вектор:\n",
            "[8 3 1 5]\n",
            "Результат перемноження:\n",
            "[110  69  75]\n"
          ]
        }
      ]
    },
    {
      "cell_type": "code",
      "source": [
        "import random\n",
        "import numpy as np\n",
        "\n",
        "matrix = np.random.rand(2, 3)\n",
        "vector = np.random.rand(3)\n",
        "\n",
        "print(\"Матриця:\")\n",
        "print(matrix)\n",
        "print(\"Вектор:\")\n",
        "print(vector)\n",
        "\n",
        "result = np.dot(matrix, vector)\n",
        "\n",
        "print(\"Результат перемноження:\")\n",
        "print(result)\n"
      ],
      "metadata": {
        "colab": {
          "base_uri": "https://localhost:8080/"
        },
        "id": "X_RkIINCQpRL",
        "outputId": "2b45573e-62b0-40bf-86fd-7faa0dbc084c"
      },
      "execution_count": 12,
      "outputs": [
        {
          "output_type": "stream",
          "name": "stdout",
          "text": [
            "Матриця:\n",
            "[[0.63863612 0.67156463 0.95184648]\n",
            " [0.72875294 0.22045351 0.21238004]]\n",
            "Вектор:\n",
            "[0.32898055 0.75674542 0.84492827]\n",
            "Результат перемноження:\n",
            "[1.52254432 0.58601863]\n"
          ]
        }
      ]
    },
    {
      "cell_type": "code",
      "source": [
        "import random\n",
        "import numpy as np\n",
        "\n",
        "matrix1 = np.random.randint(1, 10, size=(2, 2))\n",
        "matrix2 = np.random.randint(1, 10, size=(2, 2))\n",
        "\n",
        "print(\"Матриця 1:\")\n",
        "print(matrix1)\n",
        "print(\"Матриця 2:\")\n",
        "print(matrix2)\n",
        "\n",
        "result = np.multiply(matrix1, matrix2)\n",
        "\n",
        "print(\"Результат поелементного множення:\")\n",
        "print(result)\n"
      ],
      "metadata": {
        "colab": {
          "base_uri": "https://localhost:8080/"
        },
        "id": "qVc5dd0HRFbS",
        "outputId": "09b9c595-789f-48be-94be-1514b985aeb1"
      },
      "execution_count": 13,
      "outputs": [
        {
          "output_type": "stream",
          "name": "stdout",
          "text": [
            "Матриця 1:\n",
            "[[6 3]\n",
            " [1 1]]\n",
            "Матриця 2:\n",
            "[[4 1]\n",
            " [2 4]]\n",
            "Результат поелементного множення:\n",
            "[[24  3]\n",
            " [ 2  4]]\n"
          ]
        }
      ]
    },
    {
      "cell_type": "code",
      "source": [
        "import random\n",
        "import numpy as np\n",
        "\n",
        "matrix1 = np.random.randint(1, 10, size=(2, 2))\n",
        "matrix2 = np.random.randint(1, 10, size=(2, 2))\n",
        "\n",
        "print(\"Матриця 1:\")\n",
        "print(matrix1)\n",
        "print(\"Матриця 2:\")\n",
        "print(matrix2)\n",
        "\n",
        "result = np.dot(matrix1, matrix2)\n",
        "\n",
        "print(\"Результат добутку матриць:\")\n",
        "print(result)\n"
      ],
      "metadata": {
        "colab": {
          "base_uri": "https://localhost:8080/"
        },
        "id": "ptk7AO9iRpQE",
        "outputId": "41b88fe6-0037-4870-ef9a-d0aed00dd516"
      },
      "execution_count": 14,
      "outputs": [
        {
          "output_type": "stream",
          "name": "stdout",
          "text": [
            "Матриця 1:\n",
            "[[6 5]\n",
            " [6 7]]\n",
            "Матриця 2:\n",
            "[[1 4]\n",
            " [9 9]]\n",
            "Результат добутку матриць:\n",
            "[[51 69]\n",
            " [69 87]]\n"
          ]
        }
      ]
    },
    {
      "cell_type": "code",
      "source": [
        "import random\n",
        "import numpy as np\n",
        "\n",
        "matrix = np.random.randint(1, 101, size=(5, 5))\n",
        "\n",
        "print(\"Матриця:\")\n",
        "print(matrix)\n",
        "\n",
        "sum_of_elements = np.sum(matrix)\n",
        "\n",
        "print(\"Сума елементів матриці:\", sum_of_elements)\n"
      ],
      "metadata": {
        "colab": {
          "base_uri": "https://localhost:8080/"
        },
        "id": "vyCX8NJTR9XK",
        "outputId": "b5d00e9b-62ad-49b9-b957-26b310780c5b"
      },
      "execution_count": 15,
      "outputs": [
        {
          "output_type": "stream",
          "name": "stdout",
          "text": [
            "Матриця:\n",
            "[[60  1 83 15 43]\n",
            " [56 97 98  2  6]\n",
            " [83 66 97 19 33]\n",
            " [27 55 71 20 72]\n",
            " [47 47 21 16 45]]\n",
            "Сума елементів матриці: 1180\n"
          ]
        }
      ]
    },
    {
      "cell_type": "code",
      "source": [
        "import random\n",
        "import numpy as np\n",
        "\n",
        "matrix1 = np.random.randint(1, 11, size=(4, 4))\n",
        "matrix2 = np.random.randint(1, 11, size=(4, 4))\n",
        "\n",
        "print(\"Матриця 1:\")\n",
        "print(matrix1)\n",
        "print(\"Матриця 2:\")\n",
        "print(matrix2)\n",
        "\n",
        "difference = matrix1 - matrix2\n",
        "\n",
        "print(\"Різниця матриць:\")\n",
        "print(difference)\n"
      ],
      "metadata": {
        "colab": {
          "base_uri": "https://localhost:8080/"
        },
        "id": "jJBMGu1kTHyz",
        "outputId": "c271e53b-76d3-475f-c2e7-5e1aba12440f"
      },
      "execution_count": 16,
      "outputs": [
        {
          "output_type": "stream",
          "name": "stdout",
          "text": [
            "Матриця 1:\n",
            "[[ 7  8  2  1]\n",
            " [ 6  2  3  3]\n",
            " [10  2  2  5]\n",
            " [ 2  5  1  7]]\n",
            "Матриця 2:\n",
            "[[ 1  9  7  8]\n",
            " [ 4  4 10  9]\n",
            " [ 9  9  3  6]\n",
            " [10  2  6 10]]\n",
            "Різниця матриць:\n",
            "[[ 6 -1 -5 -7]\n",
            " [ 2 -2 -7 -6]\n",
            " [ 1 -7 -1 -1]\n",
            " [-8  3 -5 -3]]\n"
          ]
        }
      ]
    },
    {
      "cell_type": "code",
      "source": [
        "import numpy as np\n",
        "\n",
        "matrix = np.random.random((3, 3))\n",
        "\n",
        "print(\"Матриця:\")\n",
        "print(matrix)\n",
        "\n",
        "row_sums = np.sum(matrix, axis=1)\n",
        "column_vector = row_sums.reshape((-1, 1))\n",
        "\n",
        "print(\"Вектор-стовпчик з сумами рядків:\")\n",
        "print(column_vector)\n"
      ],
      "metadata": {
        "colab": {
          "base_uri": "https://localhost:8080/"
        },
        "id": "Fo-a1zC9TgW7",
        "outputId": "594ec142-956e-4288-b2ae-ed1075c48047"
      },
      "execution_count": 17,
      "outputs": [
        {
          "output_type": "stream",
          "name": "stdout",
          "text": [
            "Матриця:\n",
            "[[0.36816819 0.70463996 0.81937152]\n",
            " [0.46020446 0.31681325 0.89426848]\n",
            " [0.93444529 0.95097378 0.30103459]]\n",
            "Вектор-стовпчик з сумами рядків:\n",
            "[[1.89217968]\n",
            " [1.67128618]\n",
            " [2.18645366]]\n"
          ]
        }
      ]
    },
    {
      "cell_type": "code",
      "source": [
        "import numpy as np\n",
        "\n",
        "matrix = np.random.randint(1, 10, size=(3, 4))\n",
        "squared_matrix = np.square(matrix)\n",
        "\n",
        "print(\"Початкова матриця:\")\n",
        "print(matrix)\n",
        "print(\"\\nМатриця з квадратами чисел:\")\n",
        "print(squared_matrix)\n"
      ],
      "metadata": {
        "colab": {
          "base_uri": "https://localhost:8080/"
        },
        "id": "xWcosqvET2Gg",
        "outputId": "4ee0b432-7064-4afa-ab87-4e96f76d7970"
      },
      "execution_count": 18,
      "outputs": [
        {
          "output_type": "stream",
          "name": "stdout",
          "text": [
            "Початкова матриця:\n",
            "[[8 5 5 5]\n",
            " [2 2 3 1]\n",
            " [7 5 1 6]]\n",
            "\n",
            "Матриця з квадратами чисел:\n",
            "[[64 25 25 25]\n",
            " [ 4  4  9  1]\n",
            " [49 25  1 36]]\n"
          ]
        }
      ]
    },
    {
      "cell_type": "code",
      "source": [
        "import numpy as np\n",
        "\n",
        "vector = np.random.randint(1, 50, size=4)\n",
        "sqrt_vector = np.sqrt(vector)\n",
        "\n",
        "print(\"Початковий вектор:\")\n",
        "print(vector)\n",
        "print(\"\\nВектор з квадратними коренями чисел:\")\n",
        "print(sqrt_vector)\n"
      ],
      "metadata": {
        "colab": {
          "base_uri": "https://localhost:8080/"
        },
        "id": "DzggelPVUffw",
        "outputId": "afce7bf5-f821-4ebc-903f-7e54119f1404"
      },
      "execution_count": 19,
      "outputs": [
        {
          "output_type": "stream",
          "name": "stdout",
          "text": [
            "Початковий вектор:\n",
            "[38 17 23 45]\n",
            "\n",
            "Вектор з квадратними коренями чисел:\n",
            "[6.164414   4.12310563 4.79583152 6.70820393]\n"
          ]
        }
      ]
    },
    {
      "cell_type": "code",
      "source": [],
      "metadata": {
        "id": "EeAorJODU6tL"
      },
      "execution_count": null,
      "outputs": []
    }
  ]
}